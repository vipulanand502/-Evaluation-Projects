{
 "cells": [
  {
   "cell_type": "markdown",
   "id": "aebceba1",
   "metadata": {},
   "source": [
    "Name-Vipul Anand\n",
    "Batch-DS2312\n",
    "Assignment-Cencus Income"
   ]
  },
  {
   "cell_type": "markdown",
   "id": "4081bdfb",
   "metadata": {},
   "source": [
    "Problem Statement-This data was extracted from the 1994 Census bureau database by Ronny Kohavi and Barry Becker (Data Mining and Visualization, Silicon Graphics). A set of reasonably clean records was extracted using the following conditions: ((AAGE>16) && (AGI>100) && (AFNLWGT>1) && (HRSWK>0)). The prediction task is to determine whether a person makes over $50K a year.\n",
    "\n",
    "SO the problem statement is that we have to determine whether a person makes over $50 a year or not. So let us proceed further"
   ]
  },
  {
   "cell_type": "code",
   "execution_count": 1,
   "id": "94c47e2c",
   "metadata": {},
   "outputs": [],
   "source": [
    "#Importing the necessary libraries\n",
    "import pandas as pd\n",
    "import numpy as np\n",
    "import seaborn as sns\n",
    "import matplotlib.pyplot as plt\n",
    "%matplotlib inline\n",
    "import warnings\n",
    "warnings.filterwarnings('ignore')\n",
    "data=pd.read_csv('https://raw.githubusercontent.com/FlipRoboTechnologies/ML_-Datasets/main/Census%20Income/Census%20Income.csv')"
   ]
  },
  {
   "cell_type": "code",
   "execution_count": 2,
   "id": "23b7776f",
   "metadata": {},
   "outputs": [
    {
     "data": {
      "text/html": [
       "<div>\n",
       "<style scoped>\n",
       "    .dataframe tbody tr th:only-of-type {\n",
       "        vertical-align: middle;\n",
       "    }\n",
       "\n",
       "    .dataframe tbody tr th {\n",
       "        vertical-align: top;\n",
       "    }\n",
       "\n",
       "    .dataframe thead th {\n",
       "        text-align: right;\n",
       "    }\n",
       "</style>\n",
       "<table border=\"1\" class=\"dataframe\">\n",
       "  <thead>\n",
       "    <tr style=\"text-align: right;\">\n",
       "      <th></th>\n",
       "      <th>Age</th>\n",
       "      <th>Workclass</th>\n",
       "      <th>Fnlwgt</th>\n",
       "      <th>Education</th>\n",
       "      <th>Education_num</th>\n",
       "      <th>Marital_status</th>\n",
       "      <th>Occupation</th>\n",
       "      <th>Relationship</th>\n",
       "      <th>Race</th>\n",
       "      <th>Sex</th>\n",
       "      <th>Capital_gain</th>\n",
       "      <th>Capital_loss</th>\n",
       "      <th>Hours_per_week</th>\n",
       "      <th>Native_country</th>\n",
       "      <th>Income</th>\n",
       "    </tr>\n",
       "  </thead>\n",
       "  <tbody>\n",
       "    <tr>\n",
       "      <th>0</th>\n",
       "      <td>50</td>\n",
       "      <td>Self-emp-not-inc</td>\n",
       "      <td>83311</td>\n",
       "      <td>Bachelors</td>\n",
       "      <td>13</td>\n",
       "      <td>Married-civ-spouse</td>\n",
       "      <td>Exec-managerial</td>\n",
       "      <td>Husband</td>\n",
       "      <td>White</td>\n",
       "      <td>Male</td>\n",
       "      <td>0</td>\n",
       "      <td>0</td>\n",
       "      <td>13</td>\n",
       "      <td>United-States</td>\n",
       "      <td>&lt;=50K</td>\n",
       "    </tr>\n",
       "    <tr>\n",
       "      <th>1</th>\n",
       "      <td>38</td>\n",
       "      <td>Private</td>\n",
       "      <td>215646</td>\n",
       "      <td>HS-grad</td>\n",
       "      <td>9</td>\n",
       "      <td>Divorced</td>\n",
       "      <td>Handlers-cleaners</td>\n",
       "      <td>Not-in-family</td>\n",
       "      <td>White</td>\n",
       "      <td>Male</td>\n",
       "      <td>0</td>\n",
       "      <td>0</td>\n",
       "      <td>40</td>\n",
       "      <td>United-States</td>\n",
       "      <td>&lt;=50K</td>\n",
       "    </tr>\n",
       "    <tr>\n",
       "      <th>2</th>\n",
       "      <td>53</td>\n",
       "      <td>Private</td>\n",
       "      <td>234721</td>\n",
       "      <td>11th</td>\n",
       "      <td>7</td>\n",
       "      <td>Married-civ-spouse</td>\n",
       "      <td>Handlers-cleaners</td>\n",
       "      <td>Husband</td>\n",
       "      <td>Black</td>\n",
       "      <td>Male</td>\n",
       "      <td>0</td>\n",
       "      <td>0</td>\n",
       "      <td>40</td>\n",
       "      <td>United-States</td>\n",
       "      <td>&lt;=50K</td>\n",
       "    </tr>\n",
       "    <tr>\n",
       "      <th>3</th>\n",
       "      <td>28</td>\n",
       "      <td>Private</td>\n",
       "      <td>338409</td>\n",
       "      <td>Bachelors</td>\n",
       "      <td>13</td>\n",
       "      <td>Married-civ-spouse</td>\n",
       "      <td>Prof-specialty</td>\n",
       "      <td>Wife</td>\n",
       "      <td>Black</td>\n",
       "      <td>Female</td>\n",
       "      <td>0</td>\n",
       "      <td>0</td>\n",
       "      <td>40</td>\n",
       "      <td>Cuba</td>\n",
       "      <td>&lt;=50K</td>\n",
       "    </tr>\n",
       "    <tr>\n",
       "      <th>4</th>\n",
       "      <td>37</td>\n",
       "      <td>Private</td>\n",
       "      <td>284582</td>\n",
       "      <td>Masters</td>\n",
       "      <td>14</td>\n",
       "      <td>Married-civ-spouse</td>\n",
       "      <td>Exec-managerial</td>\n",
       "      <td>Wife</td>\n",
       "      <td>White</td>\n",
       "      <td>Female</td>\n",
       "      <td>0</td>\n",
       "      <td>0</td>\n",
       "      <td>40</td>\n",
       "      <td>United-States</td>\n",
       "      <td>&lt;=50K</td>\n",
       "    </tr>\n",
       "  </tbody>\n",
       "</table>\n",
       "</div>"
      ],
      "text/plain": [
       "   Age          Workclass  Fnlwgt  ... Hours_per_week  Native_country  Income\n",
       "0   50   Self-emp-not-inc   83311  ...             13   United-States   <=50K\n",
       "1   38            Private  215646  ...             40   United-States   <=50K\n",
       "2   53            Private  234721  ...             40   United-States   <=50K\n",
       "3   28            Private  338409  ...             40            Cuba   <=50K\n",
       "4   37            Private  284582  ...             40   United-States   <=50K\n",
       "\n",
       "[5 rows x 15 columns]"
      ]
     },
     "execution_count": 2,
     "metadata": {},
     "output_type": "execute_result"
    }
   ],
   "source": [
    "#The dataset\n",
    "data.head()"
   ]
  },
  {
   "cell_type": "code",
   "execution_count": 3,
   "id": "10f62ad1",
   "metadata": {},
   "outputs": [
    {
     "data": {
      "text/plain": [
       "(32560, 15)"
      ]
     },
     "execution_count": 3,
     "metadata": {},
     "output_type": "execute_result"
    }
   ],
   "source": [
    "data.shape"
   ]
  },
  {
   "cell_type": "markdown",
   "id": "5cdd678e",
   "metadata": {},
   "source": [
    "#SO this dataset has 15 columns and has 32560 rows"
   ]
  },
  {
   "cell_type": "markdown",
   "id": "b9a0bf57",
   "metadata": {},
   "source": [
    "Now let us proceed to the data analysis and the treatement of the nulls if any. We will also see the relation of each of the feaure with the label in this."
   ]
  },
  {
   "cell_type": "code",
   "execution_count": 7,
   "id": "18f1795d",
   "metadata": {},
   "outputs": [
    {
     "data": {
      "text/plain": [
       "Age               0\n",
       "Workclass         0\n",
       "Fnlwgt            0\n",
       "Education         0\n",
       "Education_num     0\n",
       "Marital_status    0\n",
       "Occupation        0\n",
       "Relationship      0\n",
       "Race              0\n",
       "Sex               0\n",
       "Capital_gain      0\n",
       "Capital_loss      0\n",
       "Hours_per_week    0\n",
       "Native_country    0\n",
       "Income            0\n",
       "dtype: int64"
      ]
     },
     "execution_count": 7,
     "metadata": {},
     "output_type": "execute_result"
    }
   ],
   "source": [
    "data.isna().sum()"
   ]
  },
  {
   "cell_type": "markdown",
   "id": "17145eda",
   "metadata": {},
   "source": [
    "#SO this dataset has no null \n",
    "#Now let us do the analysis of every column with the label and we will also see the relation of each column with the label"
   ]
  },
  {
   "cell_type": "code",
   "execution_count": 12,
   "id": "a8f08c3e",
   "metadata": {},
   "outputs": [
    {
     "data": {
      "text/plain": [
       "Age\n",
       "36    898\n",
       "31    888\n",
       "34    886\n",
       "23    877\n",
       "35    876\n",
       "     ... \n",
       "83      6\n",
       "88      3\n",
       "85      3\n",
       "86      1\n",
       "87      1\n",
       "Name: count, Length: 73, dtype: int64"
      ]
     },
     "execution_count": 12,
     "metadata": {},
     "output_type": "execute_result"
    }
   ],
   "source": [
    "#Age\n",
    "data['Age'].value_counts().sort_values(ascending=False)"
   ]
  },
  {
   "cell_type": "code",
   "execution_count": 13,
   "id": "15620cdd",
   "metadata": {},
   "outputs": [],
   "source": [
    "pd.set_option('display.max_rows',None)"
   ]
  },
  {
   "cell_type": "code",
   "execution_count": 16,
   "id": "24108267",
   "metadata": {},
   "outputs": [
    {
     "data": {
      "text/plain": [
       "Age\n",
       "17    395\n",
       "18    550\n",
       "19    712\n",
       "20    753\n",
       "21    720\n",
       "22    765\n",
       "23    877\n",
       "24    798\n",
       "25    841\n",
       "26    785\n",
       "27    835\n",
       "28    867\n",
       "29    813\n",
       "30    861\n",
       "31    888\n",
       "32    828\n",
       "33    875\n",
       "34    886\n",
       "35    876\n",
       "36    898\n",
       "37    858\n",
       "38    827\n",
       "39    815\n",
       "40    794\n",
       "41    808\n",
       "42    780\n",
       "43    770\n",
       "44    724\n",
       "45    734\n",
       "46    737\n",
       "47    708\n",
       "48    543\n",
       "49    577\n",
       "50    602\n",
       "51    595\n",
       "52    478\n",
       "53    464\n",
       "54    415\n",
       "55    419\n",
       "56    366\n",
       "57    358\n",
       "58    366\n",
       "59    355\n",
       "60    312\n",
       "61    300\n",
       "62    258\n",
       "63    230\n",
       "64    208\n",
       "65    178\n",
       "66    150\n",
       "67    151\n",
       "68    120\n",
       "69    108\n",
       "70     89\n",
       "71     72\n",
       "72     67\n",
       "73     64\n",
       "74     51\n",
       "75     45\n",
       "76     46\n",
       "77     29\n",
       "78     23\n",
       "79     22\n",
       "80     22\n",
       "81     20\n",
       "82     12\n",
       "83      6\n",
       "84     10\n",
       "85      3\n",
       "86      1\n",
       "87      1\n",
       "88      3\n",
       "90     43\n",
       "Name: count, dtype: int64"
      ]
     },
     "execution_count": 16,
     "metadata": {},
     "output_type": "execute_result"
    }
   ],
   "source": [
    "#Let us see all the rows at once so that we can get a clear idea of what is actually happening inside\n",
    "data['Age'].value_counts().sort_index(ascending=True)"
   ]
  },
  {
   "cell_type": "code",
   "execution_count": 25,
   "id": "3ef893dc",
   "metadata": {},
   "outputs": [],
   "source": [
    "#SO this column is a discrete column so what we can do is that we can categorize it accordingly based on age\n",
    "def age(value):\n",
    "    if value in range(17,21):\n",
    "        return 1\n",
    "    if value in range(21,25):\n",
    "        return 2\n",
    "    if value in range(25,30):\n",
    "        return 3\n",
    "    if value in range(30,36):\n",
    "        return 4\n",
    "    if value in range(36,41):\n",
    "        return 5\n",
    "    if value in range(41,46):\n",
    "        return 6\n",
    "    if value in range(46,51):\n",
    "        return 7\n",
    "    if value in range(51,57):\n",
    "        return 8\n",
    "    if value in range(57,67):\n",
    "        return 9\n",
    "    else:\n",
    "         return 10"
   ]
  },
  {
   "cell_type": "code",
   "execution_count": 28,
   "id": "f2c0a6b9",
   "metadata": {},
   "outputs": [],
   "source": [
    "data['Age']=data['Age'].apply(age)"
   ]
  },
  {
   "cell_type": "code",
   "execution_count": 29,
   "id": "32df343d",
   "metadata": {},
   "outputs": [],
   "source": [
    "pd.set_option('display.max_rows',None)"
   ]
  },
  {
   "cell_type": "code",
   "execution_count": 30,
   "id": "5935e542",
   "metadata": {},
   "outputs": [
    {
     "data": {
      "text/plain": [
       "Age\n",
       "4     5214\n",
       "5     4192\n",
       "3     4141\n",
       "6     3816\n",
       "7     3167\n",
       "2     3160\n",
       "8     2737\n",
       "9     2715\n",
       "1     2410\n",
       "10    1008\n",
       "Name: count, dtype: int64"
      ]
     },
     "execution_count": 30,
     "metadata": {},
     "output_type": "execute_result"
    }
   ],
   "source": [
    "data['Age'].value_counts()"
   ]
  },
  {
   "cell_type": "code",
   "execution_count": 32,
   "id": "7a8e069a",
   "metadata": {},
   "outputs": [
    {
     "data": {
      "image/png": "[encoded data removed]",
      "text/plain": [
       "<Figure size 400x300 with 1 Axes>"
      ]
     },
     "metadata": {},
     "output_type": "display_data"
    }
   ],
   "source": [
    "#Let us visualize\n",
    "plt.figure(figsize=(4,3))\n",
    "sns.countplot(x=data['Age'])\n",
    "plt.show()"
   ]
  },
  {
   "cell_type": "code",
   "execution_count": 33,
   "id": "feb7d075",
   "metadata": {},
   "outputs": [],
   "source": [
    "#So let the numer of people in the age of 30 to 35 are having the maximum counts"
   ]
  },
  {
   "cell_type": "code",
   "execution_count": 34,
   "id": "a1c22fa4",
   "metadata": {},
   "outputs": [
    {
     "data": {
      "image/png": "[encoded data removed]",
      "text/plain": [
       "<Figure size 400x300 with 1 Axes>"
      ]
     },
     "metadata": {},
     "output_type": "display_data"
    }
   ],
   "source": [
    "#Relation with the label\n",
    "plt.figure(figsize=(4,3))\n",
    "sns.countplot(x=data['Age'],hue=data['Income'])\n",
    "plt.show()"
   ]
  },
  {
   "cell_type": "markdown",
   "id": "e3f6693f",
   "metadata": {},
   "source": [
    "So here the relation between the age and the salary is pretty good\n",
    "The young people have very less income over 50k and the old people also have very less income over 50k. This may be because of the fact that the young ones do not have experience and the old ones do not have that much energy left.\n",
    "The middle age people with a mixture of experience and energy have to highest income over 50k."
   ]
  },
  {
   "cell_type": "code",
   "execution_count": 35,
   "id": "515e0c71",
   "metadata": {},
   "outputs": [
    {
     "data": {
      "text/html": [
       "<div>\n",
       "<style scoped>\n",
       "    .dataframe tbody tr th:only-of-type {\n",
       "        vertical-align: middle;\n",
       "    }\n",
       "\n",
       "    .dataframe tbody tr th {\n",
       "        vertical-align: top;\n",
       "    }\n",
       "\n",
       "    .dataframe thead th {\n",
       "        text-align: right;\n",
       "    }\n",
       "</style>\n",
       "<table border=\"1\" class=\"dataframe\">\n",
       "  <thead>\n",
       "    <tr style=\"text-align: right;\">\n",
       "      <th></th>\n",
       "      <th>Age</th>\n",
       "      <th>Workclass</th>\n",
       "      <th>Fnlwgt</th>\n",
       "      <th>Education</th>\n",
       "      <th>Education_num</th>\n",
       "      <th>Marital_status</th>\n",
       "      <th>Occupation</th>\n",
       "      <th>Relationship</th>\n",
       "      <th>Race</th>\n",
       "      <th>Sex</th>\n",
       "      <th>Capital_gain</th>\n",
       "      <th>Capital_loss</th>\n",
       "      <th>Hours_per_week</th>\n",
       "      <th>Native_country</th>\n",
       "      <th>Income</th>\n",
       "    </tr>\n",
       "  </thead>\n",
       "  <tbody>\n",
       "    <tr>\n",
       "      <th>0</th>\n",
       "      <td>7</td>\n",
       "      <td>Self-emp-not-inc</td>\n",
       "      <td>83311</td>\n",
       "      <td>Bachelors</td>\n",
       "      <td>13</td>\n",
       "      <td>Married-civ-spouse</td>\n",
       "      <td>Exec-managerial</td>\n",
       "      <td>Husband</td>\n",
       "      <td>White</td>\n",
       "      <td>Male</td>\n",
       "      <td>0</td>\n",
       "      <td>0</td>\n",
       "      <td>13</td>\n",
       "      <td>United-States</td>\n",
       "      <td>&lt;=50K</td>\n",
       "    </tr>\n",
       "    <tr>\n",
       "      <th>1</th>\n",
       "      <td>5</td>\n",
       "      <td>Private</td>\n",
       "      <td>215646</td>\n",
       "      <td>HS-grad</td>\n",
       "      <td>9</td>\n",
       "      <td>Divorced</td>\n",
       "      <td>Handlers-cleaners</td>\n",
       "      <td>Not-in-family</td>\n",
       "      <td>White</td>\n",
       "      <td>Male</td>\n",
       "      <td>0</td>\n",
       "      <td>0</td>\n",
       "      <td>40</td>\n",
       "      <td>United-States</td>\n",
       "      <td>&lt;=50K</td>\n",
       "    </tr>\n",
       "    <tr>\n",
       "      <th>2</th>\n",
       "      <td>8</td>\n",
       "      <td>Private</td>\n",
       "      <td>234721</td>\n",
       "      <td>11th</td>\n",
       "      <td>7</td>\n",
       "      <td>Married-civ-spouse</td>\n",
       "      <td>Handlers-cleaners</td>\n",
       "      <td>Husband</td>\n",
       "      <td>Black</td>\n",
       "      <td>Male</td>\n",
       "      <td>0</td>\n",
       "      <td>0</td>\n",
       "      <td>40</td>\n",
       "      <td>United-States</td>\n",
       "      <td>&lt;=50K</td>\n",
       "    </tr>\n",
       "    <tr>\n",
       "      <th>3</th>\n",
       "      <td>3</td>\n",
       "      <td>Private</td>\n",
       "      <td>338409</td>\n",
       "      <td>Bachelors</td>\n",
       "      <td>13</td>\n",
       "      <td>Married-civ-spouse</td>\n",
       "      <td>Prof-specialty</td>\n",
       "      <td>Wife</td>\n",
       "      <td>Black</td>\n",
       "      <td>Female</td>\n",
       "      <td>0</td>\n",
       "      <td>0</td>\n",
       "      <td>40</td>\n",
       "      <td>Cuba</td>\n",
       "      <td>&lt;=50K</td>\n",
       "    </tr>\n",
       "    <tr>\n",
       "      <th>4</th>\n",
       "      <td>5</td>\n",
       "      <td>Private</td>\n",
       "      <td>284582</td>\n",
       "      <td>Masters</td>\n",
       "      <td>14</td>\n",
       "      <td>Married-civ-spouse</td>\n",
       "      <td>Exec-managerial</td>\n",
       "      <td>Wife</td>\n",
       "      <td>White</td>\n",
       "      <td>Female</td>\n",
       "      <td>0</td>\n",
       "      <td>0</td>\n",
       "      <td>40</td>\n",
       "      <td>United-States</td>\n",
       "      <td>&lt;=50K</td>\n",
       "    </tr>\n",
       "  </tbody>\n",
       "</table>\n",
       "</div>"
      ],
      "text/plain": [
       "   Age          Workclass  Fnlwgt  ... Hours_per_week  Native_country  Income\n",
       "0    7   Self-emp-not-inc   83311  ...             13   United-States   <=50K\n",
       "1    5            Private  215646  ...             40   United-States   <=50K\n",
       "2    8            Private  234721  ...             40   United-States   <=50K\n",
       "3    3            Private  338409  ...             40            Cuba   <=50K\n",
       "4    5            Private  284582  ...             40   United-States   <=50K\n",
       "\n",
       "[5 rows x 15 columns]"
      ]
     },
     "execution_count": 35,
     "metadata": {},
     "output_type": "execute_result"
    }
   ],
   "source": [
    "data.head()"
   ]
  },
  {
   "cell_type": "code",
   "execution_count": 37,
   "id": "f18af4b7",
   "metadata": {},
   "outputs": [
    {
     "data": {
      "text/plain": [
       "Workclass\n",
       " Private             22696\n",
       " Self-emp-not-inc     2541\n",
       " Local-gov            2093\n",
       " ?                    1836\n",
       " State-gov            1297\n",
       " Self-emp-inc         1116\n",
       " Federal-gov           960\n",
       " Without-pay            14\n",
       " Never-worked            7\n",
       "Name: count, dtype: int64"
      ]
     },
     "execution_count": 37,
     "metadata": {},
     "output_type": "execute_result"
    }
   ],
   "source": [
    "#Workclass\n",
    "data['Workclass'].value_counts()"
   ]
  },
  {
   "cell_type": "markdown",
   "id": "a0a952a4",
   "metadata": {},
   "source": [
    "So here there is a very high class imabalance and we do not want to use it so what we can do here is that we will only\n",
    "use the private and will combine all the other using 'others'."
   ]
  },
  {
   "cell_type": "code",
   "execution_count": 46,
   "id": "cf952114",
   "metadata": {},
   "outputs": [
    {
     "data": {
      "text/plain": [
       "Index([' Private', ' Self-emp-not-inc', ' Local-gov', ' ?', ' State-gov',\n",
       "       ' Self-emp-inc', ' Federal-gov', ' Without-pay', ' Never-worked'],\n",
       "      dtype='object', name='Workclass')"
      ]
     },
     "execution_count": 46,
     "metadata": {},
     "output_type": "execute_result"
    }
   ],
   "source": [
    "data['Workclass'].value_counts().index"
   ]
  },
  {
   "cell_type": "code",
   "execution_count": 48,
   "id": "d2412a69",
   "metadata": {},
   "outputs": [
    {
     "data": {
      "text/plain": [
       "Workclass\n",
       "0    22696\n",
       "1     9864\n",
       "Name: count, dtype: int64"
      ]
     },
     "execution_count": 48,
     "metadata": {},
     "output_type": "execute_result"
    }
   ],
   "source": [
    "def workclass(value):\n",
    "    if value==' Private':\n",
    "        return 0\n",
    "    else:\n",
    "        return 1\n",
    "data['Workclass'].apply(workclass).value_counts()"
   ]
  },
  {
   "cell_type": "code",
   "execution_count": 49,
   "id": "7d30fc80",
   "metadata": {},
   "outputs": [
    {
     "data": {
      "text/plain": [
       "Workclass\n",
       "0    22696\n",
       "1     9864\n",
       "Name: count, dtype: int64"
      ]
     },
     "execution_count": 49,
     "metadata": {},
     "output_type": "execute_result"
    }
   ],
   "source": [
    "data['Workclass']=data['Workclass'].apply(workclass)\n",
    "data['Workclass'].value_counts()"
   ]
  },
  {
   "cell_type": "code",
   "execution_count": 50,
   "id": "8c0672b5",
   "metadata": {},
   "outputs": [
    {
     "data": {
      "image/png": "[encoded data removed]",
      "text/plain": [
       "<Figure size 500x300 with 1 Axes>"
      ]
     },
     "metadata": {},
     "output_type": "display_data"
    }
   ],
   "source": [
    "#The visualization part\n",
    "plt.figure(figsize=(5,3))\n",
    "sns.countplot(x=data['Workclass'])\n",
    "plt.show()"
   ]
  },
  {
   "cell_type": "markdown",
   "id": "69cf8a76",
   "metadata": {},
   "source": [
    "Clearly the private workclass which has been represented by 0 is having the highest value counts which means people working in the private organizations are higher in number and moreover the government jobs are less in numbers so people need to go to the private organization this might also be one of the reason for this"
   ]
  },
  {
   "cell_type": "code",
   "execution_count": 51,
   "id": "cf59d309",
   "metadata": {},
   "outputs": [
    {
     "data": {
      "image/png": "[encoded data removed]",
      "text/plain": [
       "<Figure size 500x300 with 1 Axes>"
      ]
     },
     "metadata": {},
     "output_type": "display_data"
    }
   ],
   "source": [
    "#Relation with the label\n",
    "plt.figure(figsize=(5,3))\n",
    "sns.countplot(x=data['Workclass'],hue=data['Income'])\n",
    "plt.show()"
   ]
  },
  {
   "cell_type": "markdown",
   "id": "fdb74f34",
   "metadata": {},
   "source": [
    "So even if the private workclass is very high as compared to the others but in terms of income over 50k there is not a very big difference between the private and the other workclass which represent the self_employed,gov_job......\n",
    "So which means that if you are in a private job than the chances of having a salary higher than 50k is less as compared to when you will do your own bussiness or work in a government job."
   ]
  },
  {
   "cell_type": "code",
   "execution_count": 52,
   "id": "1f22d25b",
   "metadata": {},
   "outputs": [
    {
     "data": {
      "text/html": [
       "<div>\n",
       "<style scoped>\n",
       "    .dataframe tbody tr th:only-of-type {\n",
       "        vertical-align: middle;\n",
       "    }\n",
       "\n",
       "    .dataframe tbody tr th {\n",
       "        vertical-align: top;\n",
       "    }\n",
       "\n",
       "    .dataframe thead th {\n",
       "        text-align: right;\n",
       "    }\n",
       "</style>\n",
       "<table border=\"1\" class=\"dataframe\">\n",
       "  <thead>\n",
       "    <tr style=\"text-align: right;\">\n",
       "      <th></th>\n",
       "      <th>Age</th>\n",
       "      <th>Workclass</th>\n",
       "      <th>Fnlwgt</th>\n",
       "      <th>Education</th>\n",
       "      <th>Education_num</th>\n",
       "      <th>Marital_status</th>\n",
       "      <th>Occupation</th>\n",
       "      <th>Relationship</th>\n",
       "      <th>Race</th>\n",
       "      <th>Sex</th>\n",
       "      <th>Capital_gain</th>\n",
       "      <th>Capital_loss</th>\n",
       "      <th>Hours_per_week</th>\n",
       "      <th>Native_country</th>\n",
       "      <th>Income</th>\n",
       "    </tr>\n",
       "  </thead>\n",
       "  <tbody>\n",
       "    <tr>\n",
       "      <th>0</th>\n",
       "      <td>7</td>\n",
       "      <td>1</td>\n",
       "      <td>83311</td>\n",
       "      <td>Bachelors</td>\n",
       "      <td>13</td>\n",
       "      <td>Married-civ-spouse</td>\n",
       "      <td>Exec-managerial</td>\n",
       "      <td>Husband</td>\n",
       "      <td>White</td>\n",
       "      <td>Male</td>\n",
       "      <td>0</td>\n",
       "      <td>0</td>\n",
       "      <td>13</td>\n",
       "      <td>United-States</td>\n",
       "      <td>&lt;=50K</td>\n",
       "    </tr>\n",
       "    <tr>\n",
       "      <th>1</th>\n",
       "      <td>5</td>\n",
       "      <td>0</td>\n",
       "      <td>215646</td>\n",
       "      <td>HS-grad</td>\n",
       "      <td>9</td>\n",
       "      <td>Divorced</td>\n",
       "      <td>Handlers-cleaners</td>\n",
       "      <td>Not-in-family</td>\n",
       "      <td>White</td>\n",
       "      <td>Male</td>\n",
       "      <td>0</td>\n",
       "      <td>0</td>\n",
       "      <td>40</td>\n",
       "      <td>United-States</td>\n",
       "      <td>&lt;=50K</td>\n",
       "    </tr>\n",
       "    <tr>\n",
       "      <th>2</th>\n",
       "      <td>8</td>\n",
       "      <td>0</td>\n",
       "      <td>234721</td>\n",
       "      <td>11th</td>\n",
       "      <td>7</td>\n",
       "      <td>Married-civ-spouse</td>\n",
       "      <td>Handlers-cleaners</td>\n",
       "      <td>Husband</td>\n",
       "      <td>Black</td>\n",
       "      <td>Male</td>\n",
       "      <td>0</td>\n",
       "      <td>0</td>\n",
       "      <td>40</td>\n",
       "      <td>United-States</td>\n",
       "      <td>&lt;=50K</td>\n",
       "    </tr>\n",
       "    <tr>\n",
       "      <th>3</th>\n",
       "      <td>3</td>\n",
       "      <td>0</td>\n",
       "      <td>338409</td>\n",
       "      <td>Bachelors</td>\n",
       "      <td>13</td>\n",
       "      <td>Married-civ-spouse</td>\n",
       "      <td>Prof-specialty</td>\n",
       "      <td>Wife</td>\n",
       "      <td>Black</td>\n",
       "      <td>Female</td>\n",
       "      <td>0</td>\n",
       "      <td>0</td>\n",
       "      <td>40</td>\n",
       "      <td>Cuba</td>\n",
       "      <td>&lt;=50K</td>\n",
       "    </tr>\n",
       "    <tr>\n",
       "      <th>4</th>\n",
       "      <td>5</td>\n",
       "      <td>0</td>\n",
       "      <td>284582</td>\n",
       "      <td>Masters</td>\n",
       "      <td>14</td>\n",
       "      <td>Married-civ-spouse</td>\n",
       "      <td>Exec-managerial</td>\n",
       "      <td>Wife</td>\n",
       "      <td>White</td>\n",
       "      <td>Female</td>\n",
       "      <td>0</td>\n",
       "      <td>0</td>\n",
       "      <td>40</td>\n",
       "      <td>United-States</td>\n",
       "      <td>&lt;=50K</td>\n",
       "    </tr>\n",
       "  </tbody>\n",
       "</table>\n",
       "</div>"
      ],
      "text/plain": [
       "   Age  Workclass  Fnlwgt  ... Hours_per_week  Native_country  Income\n",
       "0    7          1   83311  ...             13   United-States   <=50K\n",
       "1    5          0  215646  ...             40   United-States   <=50K\n",
       "2    8          0  234721  ...             40   United-States   <=50K\n",
       "3    3          0  338409  ...             40            Cuba   <=50K\n",
       "4    5          0  284582  ...             40   United-States   <=50K\n",
       "\n",
       "[5 rows x 15 columns]"
      ]
     },
     "execution_count": 52,
     "metadata": {},
     "output_type": "execute_result"
    }
   ],
   "source": [
    "data.head()"
   ]
  },
  {
   "cell_type": "code",
   "execution_count": 53,
   "id": "1a21b913",
   "metadata": {},
   "outputs": [
    {
     "data": {
      "text/plain": [
       "Fnlwgt\n",
       "164190    13\n",
       "203488    13\n",
       "123011    13\n",
       "148995    12\n",
       "126675    12\n",
       "          ..\n",
       "325573     1\n",
       "140176     1\n",
       "318264     1\n",
       "329205     1\n",
       "257302     1\n",
       "Name: count, Length: 21647, dtype: int64"
      ]
     },
     "execution_count": 53,
     "metadata": {},
     "output_type": "execute_result"
    }
   ],
   "source": [
    "#Fnlwgt\n",
    "data['Fnlwgt'].value_counts()"
   ]
  },
  {
   "cell_type": "markdown",
   "id": "c5d09830",
   "metadata": {},
   "source": [
    "So this is a continous columns so let us see the disribution"
   ]
  },
  {
   "cell_type": "code",
   "execution_count": 55,
   "id": "42b6174d",
   "metadata": {},
   "outputs": [
    {
     "data": {
      "text/plain": [
       "<Figure size 500x300 with 0 Axes>"
      ]
     },
     "metadata": {},
     "output_type": "display_data"
    },
    {
     "data": {
      "image/png": "[encoded data removed]",
      "text/plain": [
       "<Figure size 500x500 with 1 Axes>"
      ]
     },
     "metadata": {},
     "output_type": "display_data"
    }
   ],
   "source": [
    "plt.figure(figsize=(5,3))\n",
    "sns.displot(data['Fnlwgt'])\n",
    "plt.show()"
   ]
  },
  {
   "cell_type": "code",
   "execution_count": 56,
   "id": "350f6a5d",
   "metadata": {},
   "outputs": [
    {
     "data": {
      "image/png": "[encoded data removed]",
      "text/plain": [
       "<Figure size 500x300 with 1 Axes>"
      ]
     },
     "metadata": {},
     "output_type": "display_data"
    }
   ],
   "source": [
    "#The data seems to be skewed let us see the box plot to analyse\n",
    "plt.figure(figsize=(5,3))\n",
    "sns.boxplot(data['Fnlwgt'])\n",
    "plt.show()"
   ]
  },
  {
   "cell_type": "code",
   "execution_count": 57,
   "id": "c0c31177",
   "metadata": {},
   "outputs": [
    {
     "data": {
      "text/plain": [
       "<Figure size 500x300 with 0 Axes>"
      ]
     },
     "metadata": {},
     "output_type": "display_data"
    },
    {
     "data": {
      "image/png": "[encoded data removed]",
      "text/plain": [
       "<Figure size 500x500 with 1 Axes>"
      ]
     },
     "metadata": {},
     "output_type": "display_data"
    }
   ],
   "source": [
    "#The data seems to be skewed \n",
    "#Let us see the relation with the label\n",
    "plt.figure(figsize=(5,3))\n",
    "sns.catplot(x=data['Income'],y=data['Fnlwgt'])\n",
    "plt.show()"
   ]
  },
  {
   "cell_type": "markdown",
   "id": "4218f085",
   "metadata": {},
   "source": [
    "#It seems that the fnlweight is more when the salary is less than 50k"
   ]
  },
  {
   "cell_type": "markdown",
   "id": "3b05d092",
   "metadata": {},
   "source": [
    "#We will see and treat the outliers later on after the visualization part"
   ]
  },
  {
   "cell_type": "code",
   "execution_count": 60,
   "id": "7c0f2521",
   "metadata": {},
   "outputs": [
    {
     "data": {
      "text/html": [
       "<div>\n",
       "<style scoped>\n",
       "    .dataframe tbody tr th:only-of-type {\n",
       "        vertical-align: middle;\n",
       "    }\n",
       "\n",
       "    .dataframe tbody tr th {\n",
       "        vertical-align: top;\n",
       "    }\n",
       "\n",
       "    .dataframe thead th {\n",
       "        text-align: right;\n",
       "    }\n",
       "</style>\n",
       "<table border=\"1\" class=\"dataframe\">\n",
       "  <thead>\n",
       "    <tr style=\"text-align: right;\">\n",
       "      <th></th>\n",
       "      <th>Age</th>\n",
       "      <th>Workclass</th>\n",
       "      <th>Fnlwgt</th>\n",
       "      <th>Education</th>\n",
       "      <th>Education_num</th>\n",
       "      <th>Marital_status</th>\n",
       "      <th>Occupation</th>\n",
       "      <th>Relationship</th>\n",
       "      <th>Race</th>\n",
       "      <th>Sex</th>\n",
       "      <th>Capital_gain</th>\n",
       "      <th>Capital_loss</th>\n",
       "      <th>Hours_per_week</th>\n",
       "      <th>Native_country</th>\n",
       "      <th>Income</th>\n",
       "    </tr>\n",
       "  </thead>\n",
       "  <tbody>\n",
       "    <tr>\n",
       "      <th>0</th>\n",
       "      <td>7</td>\n",
       "      <td>1</td>\n",
       "      <td>83311</td>\n",
       "      <td>Bachelors</td>\n",
       "      <td>13</td>\n",
       "      <td>Married-civ-spouse</td>\n",
       "      <td>Exec-managerial</td>\n",
       "      <td>Husband</td>\n",
       "      <td>White</td>\n",
       "      <td>Male</td>\n",
       "      <td>0</td>\n",
       "      <td>0</td>\n",
       "      <td>13</td>\n",
       "      <td>United-States</td>\n",
       "      <td>&lt;=50K</td>\n",
       "    </tr>\n",
       "    <tr>\n",
       "      <th>1</th>\n",
       "      <td>5</td>\n",
       "      <td>0</td>\n",
       "      <td>215646</td>\n",
       "      <td>HS-grad</td>\n",
       "      <td>9</td>\n",
       "      <td>Divorced</td>\n",
       "      <td>Handlers-cleaners</td>\n",
       "      <td>Not-in-family</td>\n",
       "      <td>White</td>\n",
       "      <td>Male</td>\n",
       "      <td>0</td>\n",
       "      <td>0</td>\n",
       "      <td>40</td>\n",
       "      <td>United-States</td>\n",
       "      <td>&lt;=50K</td>\n",
       "    </tr>\n",
       "    <tr>\n",
       "      <th>2</th>\n",
       "      <td>8</td>\n",
       "      <td>0</td>\n",
       "      <td>234721</td>\n",
       "      <td>11th</td>\n",
       "      <td>7</td>\n",
       "      <td>Married-civ-spouse</td>\n",
       "      <td>Handlers-cleaners</td>\n",
       "      <td>Husband</td>\n",
       "      <td>Black</td>\n",
       "      <td>Male</td>\n",
       "      <td>0</td>\n",
       "      <td>0</td>\n",
       "      <td>40</td>\n",
       "      <td>United-States</td>\n",
       "      <td>&lt;=50K</td>\n",
       "    </tr>\n",
       "    <tr>\n",
       "      <th>3</th>\n",
       "      <td>3</td>\n",
       "      <td>0</td>\n",
       "      <td>338409</td>\n",
       "      <td>Bachelors</td>\n",
       "      <td>13</td>\n",
       "      <td>Married-civ-spouse</td>\n",
       "      <td>Prof-specialty</td>\n",
       "      <td>Wife</td>\n",
       "      <td>Black</td>\n",
       "      <td>Female</td>\n",
       "      <td>0</td>\n",
       "      <td>0</td>\n",
       "      <td>40</td>\n",
       "      <td>Cuba</td>\n",
       "      <td>&lt;=50K</td>\n",
       "    </tr>\n",
       "    <tr>\n",
       "      <th>4</th>\n",
       "      <td>5</td>\n",
       "      <td>0</td>\n",
       "      <td>284582</td>\n",
       "      <td>Masters</td>\n",
       "      <td>14</td>\n",
       "      <td>Married-civ-spouse</td>\n",
       "      <td>Exec-managerial</td>\n",
       "      <td>Wife</td>\n",
       "      <td>White</td>\n",
       "      <td>Female</td>\n",
       "      <td>0</td>\n",
       "      <td>0</td>\n",
       "      <td>40</td>\n",
       "      <td>United-States</td>\n",
       "      <td>&lt;=50K</td>\n",
       "    </tr>\n",
       "  </tbody>\n",
       "</table>\n",
       "</div>"
      ],
      "text/plain": [
       "   Age  Workclass  Fnlwgt  ... Hours_per_week  Native_country  Income\n",
       "0    7          1   83311  ...             13   United-States   <=50K\n",
       "1    5          0  215646  ...             40   United-States   <=50K\n",
       "2    8          0  234721  ...             40   United-States   <=50K\n",
       "3    3          0  338409  ...             40            Cuba   <=50K\n",
       "4    5          0  284582  ...             40   United-States   <=50K\n",
       "\n",
       "[5 rows x 15 columns]"
      ]
     },
     "execution_count": 60,
     "metadata": {},
     "output_type": "execute_result"
    }
   ],
   "source": [
    "data.head()"
   ]
  },
  {
   "cell_type": "markdown",
   "id": "2150cc78",
   "metadata": {},
   "source": [
    "The fnlweight was indeed based on various factors which we have seen and we will see how to treat them"
   ]
  },
  {
   "cell_type": "code",
   "execution_count": 61,
   "id": "547a4498",
   "metadata": {},
   "outputs": [
    {
     "data": {
      "text/plain": [
       "Education\n",
       " HS-grad         10501\n",
       " Some-college     7291\n",
       " Bachelors        5354\n",
       " Masters          1723\n",
       " Assoc-voc        1382\n",
       " 11th             1175\n",
       " Assoc-acdm       1067\n",
       " 10th              933\n",
       " 7th-8th           646\n",
       " Prof-school       576\n",
       " 9th               514\n",
       " 12th              433\n",
       " Doctorate         413\n",
       " 5th-6th           333\n",
       " 1st-4th           168\n",
       " Preschool          51\n",
       "Name: count, dtype: int64"
      ]
     },
     "execution_count": 61,
     "metadata": {},
     "output_type": "execute_result"
    }
   ],
   "source": [
    "#Education\n",
    "data['Education'].value_counts()"
   ]
  },
  {
   "cell_type": "code",
   "execution_count": 63,
   "id": "7233c6a1",
   "metadata": {},
   "outputs": [
    {
     "data": {
      "text/plain": [
       "16"
      ]
     },
     "execution_count": 63,
     "metadata": {},
     "output_type": "execute_result"
    }
   ],
   "source": [
    "#This represents the educational classifications of a individual\n",
    "len(data['Education'].value_counts().index)"
   ]
  },
  {
   "cell_type": "code",
   "execution_count": 67,
   "id": "9bc68044",
   "metadata": {},
   "outputs": [
    {
     "data": {
      "text/plain": [
       "Education\n",
       " HS-grad         10501\n",
       " Some-college     7291\n",
       " Bachelors        5354\n",
       " Masters          1723\n",
       " Assoc-voc        1382\n",
       " 11th             1175\n",
       " Assoc-acdm       1067\n",
       " 10th              933\n",
       " 7th-8th           646\n",
       " Prof-school       576\n",
       " 9th               514\n",
       " 12th              433\n",
       " Doctorate         413\n",
       " 5th-6th           333\n",
       " 1st-4th           168\n",
       " Preschool          51\n",
       "Name: count, dtype: int64"
      ]
     },
     "execution_count": 67,
     "metadata": {},
     "output_type": "execute_result"
    }
   ],
   "source": [
    "#There are 16 types of classification and we do not need to use all of them because 16 value count is indeed very\n",
    "data['Education'].value_counts().sort_values(ascending=False)"
   ]
  },
  {
   "cell_type": "markdown",
   "id": "3c511ee7",
   "metadata": {},
   "source": [
    "#So some of the qualifications have high value_counts so we will use them as they are but we will classify the value_counts which are less in number."
   ]
  },
  {
   "cell_type": "code",
   "execution_count": 71,
   "id": "0c11684b",
   "metadata": {},
   "outputs": [],
   "source": [
    "def education(value):\n",
    "    if value in [' HS-grad',' Some-college',' Bachelors']:\n",
    "        return value\n",
    "    if value in [' Masters', ' Assoc-voc', ' 11th', ' Assoc-acdm', ' 10th']:\n",
    "        return 'others'\n",
    "    else:\n",
    "        return 'others2'"
   ]
  },
  {
   "cell_type": "code",
   "execution_count": 74,
   "id": "aaab3fe9",
   "metadata": {},
   "outputs": [
    {
     "data": {
      "text/plain": [
       "Education\n",
       " HS-grad         10501\n",
       " Some-college     7291\n",
       "others            6280\n",
       " Bachelors        5354\n",
       "others2           3134\n",
       "Name: count, dtype: int64"
      ]
     },
     "execution_count": 74,
     "metadata": {},
     "output_type": "execute_result"
    }
   ],
   "source": [
    "data['Education']=data['Education'].apply(education)\n",
    "data['Education'].value_counts()"
   ]
  },
  {
   "cell_type": "code",
   "execution_count": 76,
   "id": "a79630b8",
   "metadata": {},
   "outputs": [
    {
     "data": {
      "image/png": "[encoded data removed]",
      "text/plain": [
       "<Figure size 500x300 with 1 Axes>"
      ]
     },
     "metadata": {},
     "output_type": "display_data"
    }
   ],
   "source": [
    "#Visulization\n",
    "plt.figure(figsize=(5,3))\n",
    "sns.countplot(x=data['Education'])\n",
    "plt.show()"
   ]
  },
  {
   "cell_type": "markdown",
   "id": "16033db7",
   "metadata": {},
   "source": [
    "The hs_grad is having the highest value couns followed by some_college that means these are the most popular courses"
   ]
  },
  {
   "cell_type": "code",
   "execution_count": 77,
   "id": "ddd32527",
   "metadata": {},
   "outputs": [
    {
     "data": {
      "image/png": "[encoded data removed]",
      "text/plain": [
       "<Figure size 500x300 with 1 Axes>"
      ]
     },
     "metadata": {},
     "output_type": "display_data"
    }
   ],
   "source": [
    "#Relation with the label\n",
    "plt.figure(figsize=(5,3))\n",
    "sns.countplot(x=data['Education'],hue=data['Income'])\n",
    "plt.show()"
   ]
  },
  {
   "cell_type": "markdown",
   "id": "161614cf",
   "metadata": {},
   "source": [
    "The employees having a bachelors degree definately are less in numbers but when it comes to having a salary of over 50k they are the highest in number. Infact the students with bachelors degree have almost 50% chances of having a salary over 50k.\n",
    "That is why it is said that Education is the future."
   ]
  },
  {
   "cell_type": "code",
   "execution_count": 79,
   "id": "89060932",
   "metadata": {},
   "outputs": [],
   "source": [
    "from sklearn.preprocessing import LabelEncoder\n",
    "lab_enc=LabelEncoder()"
   ]
  },
  {
   "cell_type": "markdown",
   "id": "ca8b10f5",
   "metadata": {},
   "source": [
    "#Let us labelencode this columns we do not did this earlier because i wanted to see the visualization before encoding it"
   ]
  },
  {
   "cell_type": "code",
   "execution_count": 81,
   "id": "5ee52495",
   "metadata": {},
   "outputs": [],
   "source": [
    "data['Education']=lab_enc.fit_transform(data['Education'])"
   ]
  },
  {
   "cell_type": "code",
   "execution_count": 82,
   "id": "2b48c4bf",
   "metadata": {},
   "outputs": [
    {
     "data": {
      "text/plain": [
       "Education\n",
       "1    10501\n",
       "2     7291\n",
       "3     6280\n",
       "0     5354\n",
       "4     3134\n",
       "Name: count, dtype: int64"
      ]
     },
     "execution_count": 82,
     "metadata": {},
     "output_type": "execute_result"
    }
   ],
   "source": [
    "data['Education'].value_counts()"
   ]
  },
  {
   "cell_type": "code",
   "execution_count": 78,
   "id": "17ee1512",
   "metadata": {},
   "outputs": [
    {
     "data": {
      "text/plain": [
       "Education_num\n",
       "9     10501\n",
       "10     7291\n",
       "13     5354\n",
       "14     1723\n",
       "11     1382\n",
       "7      1175\n",
       "12     1067\n",
       "6       933\n",
       "4       646\n",
       "15      576\n",
       "5       514\n",
       "8       433\n",
       "16      413\n",
       "3       333\n",
       "2       168\n",
       "1        51\n",
       "Name: count, dtype: int64"
      ]
     },
     "execution_count": 78,
     "metadata": {},
     "output_type": "execute_result"
    }
   ],
   "source": [
    "#Education no\n",
    "data['Education_num'].value_counts()"
   ]
  },
  {
   "cell_type": "code",
   "execution_count": 83,
   "id": "67c711a5",
   "metadata": {},
   "outputs": [],
   "source": [
    "#So this columns can also be grouped together based on the value counts"
   ]
  },
  {
   "cell_type": "code",
   "execution_count": 87,
   "id": "a100d032",
   "metadata": {},
   "outputs": [
    {
     "data": {
      "text/plain": [
       "Education_num\n",
       "9     10501\n",
       "10     7291\n",
       "13     5354\n",
       "14     1723\n",
       "11     1382\n",
       "7      1175\n",
       "12     1067\n",
       "6       933\n",
       "4       646\n",
       "15      576\n",
       "5       514\n",
       "8       433\n",
       "16      413\n",
       "3       333\n",
       "2       168\n",
       "1        51\n",
       "Name: count, dtype: int64"
      ]
     },
     "execution_count": 87,
     "metadata": {},
     "output_type": "execute_result"
    }
   ],
   "source": [
    "data['Education_num'].value_counts().sort_values(ascending=False)"
   ]
  },
  {
   "cell_type": "code",
   "execution_count": 89,
   "id": "4064ec29",
   "metadata": {},
   "outputs": [],
   "source": [
    "#Let is group this\n",
    "def education_num(value):\n",
    "    if value in [9,10,13]:\n",
    "        return value\n",
    "    if value in [14,11,7,12,6]:\n",
    "        return 'others'\n",
    "    else:\n",
    "        return 'others2'"
   ]
  },
  {
   "cell_type": "code",
   "execution_count": 90,
   "id": "0f243962",
   "metadata": {},
   "outputs": [
    {
     "data": {
      "text/plain": [
       "Education_num\n",
       "9          10501\n",
       "10          7291\n",
       "others      6280\n",
       "13          5354\n",
       "others2     3134\n",
       "Name: count, dtype: int64"
      ]
     },
     "execution_count": 90,
     "metadata": {},
     "output_type": "execute_result"
    }
   ],
   "source": [
    "data['Education_num'].apply(education_num).value_counts()"
   ]
  },
  {
   "cell_type": "code",
   "execution_count": 91,
   "id": "2b5bc460",
   "metadata": {},
   "outputs": [],
   "source": [
    "data['Education_num']=data['Education_num'].apply(education_num)"
   ]
  },
  {
   "cell_type": "code",
   "execution_count": 92,
   "id": "a311ae60",
   "metadata": {},
   "outputs": [
    {
     "data": {
      "text/plain": [
       "Education_num\n",
       "9          10501\n",
       "10          7291\n",
       "others      6280\n",
       "13          5354\n",
       "others2     3134\n",
       "Name: count, dtype: int64"
      ]
     },
     "execution_count": 92,
     "metadata": {},
     "output_type": "execute_result"
    }
   ],
   "source": [
    "data['Education_num'].value_counts()"
   ]
  },
  {
   "cell_type": "code",
   "execution_count": 93,
   "id": "402fa99e",
   "metadata": {},
   "outputs": [
    {
     "data": {
      "image/png": "[encoded data removed]",
      "text/plain": [
       "<Figure size 500x300 with 1 Axes>"
      ]
     },
     "metadata": {},
     "output_type": "display_data"
    }
   ],
   "source": [
    "#LEt us visualize this\n",
    "plt.figure(figsize=(5,3))\n",
    "sns.countplot(x=data['Education_num'])\n",
    "plt.show()"
   ]
  },
  {
   "cell_type": "code",
   "execution_count": 94,
   "id": "a92b3d7e",
   "metadata": {},
   "outputs": [
    {
     "data": {
      "image/png": "[encoded data removed]",
      "text/plain": [
       "<Figure size 500x300 with 1 Axes>"
      ]
     },
     "metadata": {},
     "output_type": "display_data"
    }
   ],
   "source": [
    "#Relation with the label\n",
    "plt.figure(figsize=(5,3))\n",
    "sns.countplot(x=data['Education_num'],hue=data['Income'])\n",
    "plt.show()"
   ]
  },
  {
   "cell_type": "markdown",
   "id": "37a1e77d",
   "metadata": {},
   "source": [
    "#So i think this columns is same as the education columns but the only difference is that it has numerical data rather than\n",
    "alphabets. Let us see using the chi2 test whether they are similar or not"
   ]
  },
  {
   "cell_type": "code",
   "execution_count": 95,
   "id": "ff353408",
   "metadata": {},
   "outputs": [],
   "source": [
    "from scipy.stats import chi2_contingency"
   ]
  },
  {
   "cell_type": "code",
   "execution_count": 96,
   "id": "32987102",
   "metadata": {},
   "outputs": [],
   "source": [
    "contigency_tabel=pd.crosstab(data['Education'],data['Education_num'])"
   ]
  },
  {
   "cell_type": "code",
   "execution_count": 97,
   "id": "1ebb85d5",
   "metadata": {},
   "outputs": [
    {
     "data": {
      "text/html": [
       "<div>\n",
       "<style scoped>\n",
       "    .dataframe tbody tr th:only-of-type {\n",
       "        vertical-align: middle;\n",
       "    }\n",
       "\n",
       "    .dataframe tbody tr th {\n",
       "        vertical-align: top;\n",
       "    }\n",
       "\n",
       "    .dataframe thead th {\n",
       "        text-align: right;\n",
       "    }\n",
       "</style>\n",
       "<table border=\"1\" class=\"dataframe\">\n",
       "  <thead>\n",
       "    <tr style=\"text-align: right;\">\n",
       "      <th>Education_num</th>\n",
       "      <th>9</th>\n",
       "      <th>10</th>\n",
       "      <th>13</th>\n",
       "      <th>others</th>\n",
       "      <th>others2</th>\n",
       "    </tr>\n",
       "    <tr>\n",
       "      <th>Education</th>\n",
       "      <th></th>\n",
       "      <th></th>\n",
       "      <th></th>\n",
       "      <th></th>\n",
       "      <th></th>\n",
       "    </tr>\n",
       "  </thead>\n",
       "  <tbody>\n",
       "    <tr>\n",
       "      <th>0</th>\n",
       "      <td>0</td>\n",
       "      <td>0</td>\n",
       "      <td>5354</td>\n",
       "      <td>0</td>\n",
       "      <td>0</td>\n",
       "    </tr>\n",
       "    <tr>\n",
       "      <th>1</th>\n",
       "      <td>10501</td>\n",
       "      <td>0</td>\n",
       "      <td>0</td>\n",
       "      <td>0</td>\n",
       "      <td>0</td>\n",
       "    </tr>\n",
       "    <tr>\n",
       "      <th>2</th>\n",
       "      <td>0</td>\n",
       "      <td>7291</td>\n",
       "      <td>0</td>\n",
       "      <td>0</td>\n",
       "      <td>0</td>\n",
       "    </tr>\n",
       "    <tr>\n",
       "      <th>3</th>\n",
       "      <td>0</td>\n",
       "      <td>0</td>\n",
       "      <td>0</td>\n",
       "      <td>6280</td>\n",
       "      <td>0</td>\n",
       "    </tr>\n",
       "    <tr>\n",
       "      <th>4</th>\n",
       "      <td>0</td>\n",
       "      <td>0</td>\n",
       "      <td>0</td>\n",
       "      <td>0</td>\n",
       "      <td>3134</td>\n",
       "    </tr>\n",
       "  </tbody>\n",
       "</table>\n",
       "</div>"
      ],
      "text/plain": [
       "Education_num      9    10    13  others  others2\n",
       "Education                                        \n",
       "0                  0     0  5354       0        0\n",
       "1              10501     0     0       0        0\n",
       "2                  0  7291     0       0        0\n",
       "3                  0     0     0    6280        0\n",
       "4                  0     0     0       0     3134"
      ]
     },
     "execution_count": 97,
     "metadata": {},
     "output_type": "execute_result"
    }
   ],
   "source": [
    "contigency_tabel"
   ]
  },
  {
   "cell_type": "code",
   "execution_count": 100,
   "id": "84734c65",
   "metadata": {},
   "outputs": [
    {
     "data": {
      "text/plain": [
       "Chi2ContingencyResult(statistic=130240.0, pvalue=0.0, dof=16, expected_freq=array([[1726.73077396, 1198.89477887,  880.38439803, 1032.65110565,\n",
       "         515.33894349],\n",
       "       [3386.70150491, 2351.43707002, 1726.73077396, 2025.37714988,\n",
       "        1010.75350123],\n",
       "       [2351.43707002, 1632.63762285, 1198.89477887, 1406.24938575,\n",
       "         701.78114251],\n",
       "       [2025.37714988, 1406.24938575, 1032.65110565, 1211.25307125,\n",
       "         604.46928747],\n",
       "       [1010.75350123,  701.78114251,  515.33894349,  604.46928747,\n",
       "         301.65712531]]))"
      ]
     },
     "execution_count": 100,
     "metadata": {},
     "output_type": "execute_result"
    }
   ],
   "source": [
    "#At the first look there seems to be a very high relation now let us see using the chi2\n",
    "chi2_contingency(contigency_tabel)"
   ]
  },
  {
   "cell_type": "markdown",
   "id": "9d4a3846",
   "metadata": {},
   "source": [
    "#We can clearly see that the chi2_statistic as well as the p_value is saying that the relation is very high\n",
    "We will take the decesion to keep this or remove this later on"
   ]
  },
  {
   "cell_type": "code",
   "execution_count": 104,
   "id": "b7323892",
   "metadata": {},
   "outputs": [],
   "source": [
    "data['Education_num']=data['Education_num'].astype('str')"
   ]
  },
  {
   "cell_type": "code",
   "execution_count": 105,
   "id": "cb606ba7",
   "metadata": {},
   "outputs": [
    {
     "data": {
      "text/plain": [
       "Education_num\n",
       "2    10501\n",
       "0     7291\n",
       "3     6280\n",
       "1     5354\n",
       "4     3134\n",
       "Name: count, dtype: int64"
      ]
     },
     "execution_count": 105,
     "metadata": {},
     "output_type": "execute_result"
    }
   ],
   "source": [
    "data['Education_num']=lab_enc.fit_transform(data['Education_num'])\n",
    "data['Education_num'].value_counts()\n",
    "#Label encoding this column also"
   ]
  },
  {
   "cell_type": "code",
   "execution_count": 106,
   "id": "c35fe075",
   "metadata": {},
   "outputs": [
    {
     "data": {
      "text/plain": [
       "Marital_status\n",
       " Married-civ-spouse       14976\n",
       " Never-married            10682\n",
       " Divorced                  4443\n",
       " Separated                 1025\n",
       " Widowed                    993\n",
       " Married-spouse-absent      418\n",
       " Married-AF-spouse           23\n",
       "Name: count, dtype: int64"
      ]
     },
     "execution_count": 106,
     "metadata": {},
     "output_type": "execute_result"
    }
   ],
   "source": [
    "#Maritial status\n",
    "data['Marital_status'].value_counts()"
   ]
  },
  {
   "cell_type": "markdown",
   "id": "dc1006d7",
   "metadata": {},
   "source": [
    "#We can group this column aslo as the separated, widowed, marriage_spouse abscen and the marriage_af_spouse are having a \n",
    "less value_counts as compared to the other and using them with low value counts does not makes any sence"
   ]
  },
  {
   "cell_type": "code",
   "execution_count": 107,
   "id": "74b89de7",
   "metadata": {},
   "outputs": [
    {
     "data": {
      "text/plain": [
       "Index([' Married-civ-spouse', ' Never-married', ' Divorced', ' Separated',\n",
       "       ' Widowed', ' Married-spouse-absent', ' Married-AF-spouse'],\n",
       "      dtype='object', name='Marital_status')"
      ]
     },
     "execution_count": 107,
     "metadata": {},
     "output_type": "execute_result"
    }
   ],
   "source": [
    "data['Marital_status'].value_counts().index"
   ]
  },
  {
   "cell_type": "code",
   "execution_count": 109,
   "id": "dd709314",
   "metadata": {},
   "outputs": [
    {
     "data": {
      "text/plain": [
       "Marital_status\n",
       " Married-civ-spouse    14976\n",
       " Never-married         10682\n",
       " Divorced               4443\n",
       "others                  2459\n",
       "Name: count, dtype: int64"
      ]
     },
     "execution_count": 109,
     "metadata": {},
     "output_type": "execute_result"
    }
   ],
   "source": [
    "def marriage_status(value):\n",
    "    if value in [' Separated',' Widowed', ' Married-spouse-absent', ' Married-AF-spouse']:\n",
    "        return 'others'\n",
    "    else:\n",
    "         return value\n",
    "data['Marital_status'].apply(marriage_status).value_counts()"
   ]
  },
  {
   "cell_type": "code",
   "execution_count": 110,
   "id": "95b00bc7",
   "metadata": {},
   "outputs": [
    {
     "data": {
      "text/plain": [
       "Marital_status\n",
       " Married-civ-spouse    14976\n",
       " Never-married         10682\n",
       " Divorced               4443\n",
       "others                  2459\n",
       "Name: count, dtype: int64"
      ]
     },
     "execution_count": 110,
     "metadata": {},
     "output_type": "execute_result"
    }
   ],
   "source": [
    "data['Marital_status']=data['Marital_status'].apply(marriage_status)\n",
    "data['Marital_status'].value_counts()"
   ]
  },
  {
   "cell_type": "code",
   "execution_count": 111,
   "id": "51b2a214",
   "metadata": {},
   "outputs": [
    {
     "data": {
      "image/png": "[encoded data removed]",
      "text/plain": [
       "<Figure size 500x300 with 1 Axes>"
      ]
     },
     "metadata": {},
     "output_type": "display_data"
    }
   ],
   "source": [
    "#Visualization part\n",
    "plt.figure(figsize=(5,3))\n",
    "sns.countplot(x=data['Marital_status'])\n",
    "plt.show()"
   ]
  },
  {
   "cell_type": "markdown",
   "id": "d5dc9140",
   "metadata": {},
   "source": [
    "So the married and the never-married are having a high value count\n",
    "So now let us see their relation with the label"
   ]
  },
  {
   "cell_type": "code",
   "execution_count": 112,
   "id": "b654dee1",
   "metadata": {},
   "outputs": [
    {
     "data": {
      "image/png": "[encoded data removed]",
      "text/plain": [
       "<Figure size 500x300 with 1 Axes>"
      ]
     },
     "metadata": {},
     "output_type": "display_data"
    }
   ],
   "source": [
    "#Relation with the label\n",
    "plt.figure(figsize=(5,3))\n",
    "sns.countplot(x=data['Marital_status'],hue=data['Income'])\n",
    "plt.show()"
   ]
  },
  {
   "cell_type": "markdown",
   "id": "eaa314b4",
   "metadata": {},
   "source": [
    "So the married_civ_spouse have the highest chance of having a high income as compared to the other"
   ]
  },
  {
   "cell_type": "markdown",
   "id": "35aa2163",
   "metadata": {},
   "source": [
    "SO there must be a relation between the marriage and the age let us see that als"
   ]
  },
  {
   "cell_type": "code",
   "execution_count": 115,
   "id": "5867f590",
   "metadata": {},
   "outputs": [
    {
     "data": {
      "image/png": "[encoded data removed]",
      "text/plain": [
       "<Figure size 800x600 with 1 Axes>"
      ]
     },
     "metadata": {},
     "output_type": "display_data"
    }
   ],
   "source": [
    "plt.figure(figsize=(8,6))\n",
    "sns.countplot(x=data['Marital_status'],hue=data['Age'])\n",
    "plt.show()"
   ]
  },
  {
   "cell_type": "markdown",
   "id": "0b8b6e98",
   "metadata": {},
   "source": [
    "So the relation is very clear.The never_married are mostly from the young age group and the married employees mostly from the \n",
    "middle age group"
   ]
  },
  {
   "cell_type": "code",
   "execution_count": 118,
   "id": "a19befcb",
   "metadata": {},
   "outputs": [],
   "source": [
    "#Let us see the chi2 test for this also\n",
    "contigency_tabel=pd.crosstab(data['Marital_status'],data['Age'])"
   ]
  },
  {
   "cell_type": "code",
   "execution_count": 120,
   "id": "c4e6582e",
   "metadata": {},
   "outputs": [
    {
     "data": {
      "text/plain": [
       "Chi2ContingencyResult(statistic=13623.547017008086, pvalue=0.0, dof=27, expected_freq=array([[ 328.85841523,  431.2002457 ,  565.06335995,  711.48040541,\n",
       "         572.02260442,  520.71523342,  432.15543612,  373.47945332,\n",
       "         370.47742629,  137.54742015],\n",
       "       [1108.48157248, 1453.44471744, 1904.65651106, 2398.18378378,\n",
       "        1928.11400491, 1755.17248157, 1456.66437346, 1258.88550369,\n",
       "        1248.76658477,  463.63046683],\n",
       "       [ 790.6517199 , 1036.70515971, 1358.54305897, 1710.56351351,\n",
       "        1375.27469287, 1251.91990172, 1039.00165848,  897.93101966,\n",
       "         890.71345209,  330.6958231 ],\n",
       "       [ 182.00829238,  238.64987715,  312.73707002,  393.7722973 ,\n",
       "         316.58869779,  288.19238329,  239.17853194,  206.70402334,\n",
       "         205.04253686,   76.12628993]]))"
      ]
     },
     "execution_count": 120,
     "metadata": {},
     "output_type": "execute_result"
    }
   ],
   "source": [
    "chi2_contingency(contigency_tabel)"
   ]
  },
  {
   "cell_type": "markdown",
   "id": "c22607a0",
   "metadata": {},
   "source": [
    "So even now the chi2 statistic score is very high but not that high as compated to the education and the education_num"
   ]
  },
  {
   "cell_type": "code",
   "execution_count": 121,
   "id": "5b27738d",
   "metadata": {},
   "outputs": [
    {
     "data": {
      "text/html": [
       "<div>\n",
       "<style scoped>\n",
       "    .dataframe tbody tr th:only-of-type {\n",
       "        vertical-align: middle;\n",
       "    }\n",
       "\n",
       "    .dataframe tbody tr th {\n",
       "        vertical-align: top;\n",
       "    }\n",
       "\n",
       "    .dataframe thead th {\n",
       "        text-align: right;\n",
       "    }\n",
       "</style>\n",
       "<table border=\"1\" class=\"dataframe\">\n",
       "  <thead>\n",
       "    <tr style=\"text-align: right;\">\n",
       "      <th></th>\n",
       "      <th>Age</th>\n",
       "      <th>Workclass</th>\n",
       "      <th>Fnlwgt</th>\n",
       "      <th>Education</th>\n",
       "      <th>Education_num</th>\n",
       "      <th>Marital_status</th>\n",
       "      <th>Occupation</th>\n",
       "      <th>Relationship</th>\n",
       "      <th>Race</th>\n",
       "      <th>Sex</th>\n",
       "      <th>Capital_gain</th>\n",
       "      <th>Capital_loss</th>\n",
       "      <th>Hours_per_week</th>\n",
       "      <th>Native_country</th>\n",
       "      <th>Income</th>\n",
       "    </tr>\n",
       "  </thead>\n",
       "  <tbody>\n",
       "    <tr>\n",
       "      <th>0</th>\n",
       "      <td>7</td>\n",
       "      <td>1</td>\n",
       "      <td>83311</td>\n",
       "      <td>0</td>\n",
       "      <td>1</td>\n",
       "      <td>Married-civ-spouse</td>\n",
       "      <td>Exec-managerial</td>\n",
       "      <td>Husband</td>\n",
       "      <td>White</td>\n",
       "      <td>Male</td>\n",
       "      <td>0</td>\n",
       "      <td>0</td>\n",
       "      <td>13</td>\n",
       "      <td>United-States</td>\n",
       "      <td>&lt;=50K</td>\n",
       "    </tr>\n",
       "    <tr>\n",
       "      <th>1</th>\n",
       "      <td>5</td>\n",
       "      <td>0</td>\n",
       "      <td>215646</td>\n",
       "      <td>1</td>\n",
       "      <td>2</td>\n",
       "      <td>Divorced</td>\n",
       "      <td>Handlers-cleaners</td>\n",
       "      <td>Not-in-family</td>\n",
       "      <td>White</td>\n",
       "      <td>Male</td>\n",
       "      <td>0</td>\n",
       "      <td>0</td>\n",
       "      <td>40</td>\n",
       "      <td>United-States</td>\n",
       "      <td>&lt;=50K</td>\n",
       "    </tr>\n",
       "    <tr>\n",
       "      <th>2</th>\n",
       "      <td>8</td>\n",
       "      <td>0</td>\n",
       "      <td>234721</td>\n",
       "      <td>3</td>\n",
       "      <td>3</td>\n",
       "      <td>Married-civ-spouse</td>\n",
       "      <td>Handlers-cleaners</td>\n",
       "      <td>Husband</td>\n",
       "      <td>Black</td>\n",
       "      <td>Male</td>\n",
       "      <td>0</td>\n",
       "      <td>0</td>\n",
       "      <td>40</td>\n",
       "      <td>United-States</td>\n",
       "      <td>&lt;=50K</td>\n",
       "    </tr>\n",
       "    <tr>\n",
       "      <th>3</th>\n",
       "      <td>3</td>\n",
       "      <td>0</td>\n",
       "      <td>338409</td>\n",
       "      <td>0</td>\n",
       "      <td>1</td>\n",
       "      <td>Married-civ-spouse</td>\n",
       "      <td>Prof-specialty</td>\n",
       "      <td>Wife</td>\n",
       "      <td>Black</td>\n",
       "      <td>Female</td>\n",
       "      <td>0</td>\n",
       "      <td>0</td>\n",
       "      <td>40</td>\n",
       "      <td>Cuba</td>\n",
       "      <td>&lt;=50K</td>\n",
       "    </tr>\n",
       "    <tr>\n",
       "      <th>4</th>\n",
       "      <td>5</td>\n",
       "      <td>0</td>\n",
       "      <td>284582</td>\n",
       "      <td>3</td>\n",
       "      <td>3</td>\n",
       "      <td>Married-civ-spouse</td>\n",
       "      <td>Exec-managerial</td>\n",
       "      <td>Wife</td>\n",
       "      <td>White</td>\n",
       "      <td>Female</td>\n",
       "      <td>0</td>\n",
       "      <td>0</td>\n",
       "      <td>40</td>\n",
       "      <td>United-States</td>\n",
       "      <td>&lt;=50K</td>\n",
       "    </tr>\n",
       "  </tbody>\n",
       "</table>\n",
       "</div>"
      ],
      "text/plain": [
       "   Age  Workclass  Fnlwgt  ...  Hours_per_week  Native_country  Income\n",
       "0    7          1   83311  ...              13   United-States   <=50K\n",
       "1    5          0  215646  ...              40   United-States   <=50K\n",
       "2    8          0  234721  ...              40   United-States   <=50K\n",
       "3    3          0  338409  ...              40            Cuba   <=50K\n",
       "4    5          0  284582  ...              40   United-States   <=50K\n",
       "\n",
       "[5 rows x 15 columns]"
      ]
     },
     "execution_count": 121,
     "metadata": {},
     "output_type": "execute_result"
    }
   ],
   "source": [
    "data.head()"
   ]
  },
  {
   "cell_type": "code",
   "execution_count": 122,
   "id": "4a946a7a",
   "metadata": {},
   "outputs": [
    {
     "data": {
      "text/plain": [
       "Marital_status\n",
       " Married-civ-spouse    14976\n",
       " Never-married         10682\n",
       " Divorced               4443\n",
       "others                  2459\n",
       "Name: count, dtype: int64"
      ]
     },
     "execution_count": 122,
     "metadata": {},
     "output_type": "execute_result"
    }
   ],
   "source": [
    "data['Marital_status'].value_counts()"
   ]
  },
  {
   "cell_type": "code",
   "execution_count": 123,
   "id": "b4b216a2",
   "metadata": {},
   "outputs": [
    {
     "data": {
      "text/plain": [
       "Marital_status\n",
       "1    14976\n",
       "2    10682\n",
       "0     4443\n",
       "3     2459\n",
       "Name: count, dtype: int64"
      ]
     },
     "execution_count": 123,
     "metadata": {},
     "output_type": "execute_result"
    }
   ],
   "source": [
    "#Encoding\n",
    "data['Marital_status']=lab_enc.fit_transform(data['Marital_status'])\n",
    "data['Marital_status'].value_counts()"
   ]
  },
  {
   "cell_type": "markdown",
   "id": "e25a4672",
   "metadata": {},
   "source": [
    "#Occupation\n",
    "Regardless of the age,gender,marriage status or anything this has to be the most important aspect when it comes to the salary of an employee."
   ]
  },
  {
   "cell_type": "code",
   "execution_count": 124,
   "id": "b1f94db3",
   "metadata": {},
   "outputs": [
    {
     "data": {
      "text/plain": [
       "Occupation\n",
       " Prof-specialty       4140\n",
       " Craft-repair         4099\n",
       " Exec-managerial      4066\n",
       " Adm-clerical         3769\n",
       " Sales                3650\n",
       " Other-service        3295\n",
       " Machine-op-inspct    2002\n",
       " ?                    1843\n",
       " Transport-moving     1597\n",
       " Handlers-cleaners    1370\n",
       " Farming-fishing       994\n",
       " Tech-support          928\n",
       " Protective-serv       649\n",
       " Priv-house-serv       149\n",
       " Armed-Forces            9\n",
       "Name: count, dtype: int64"
      ]
     },
     "execution_count": 124,
     "metadata": {},
     "output_type": "execute_result"
    }
   ],
   "source": [
    "data['Occupation'].value_counts()"
   ]
  },
  {
   "cell_type": "code",
   "execution_count": 125,
   "id": "9a07182c",
   "metadata": {},
   "outputs": [
    {
     "data": {
      "text/plain": [
       "Index([' Prof-specialty', ' Craft-repair', ' Exec-managerial', ' Adm-clerical',\n",
       "       ' Sales', ' Other-service', ' Machine-op-inspct', ' ?',\n",
       "       ' Transport-moving', ' Handlers-cleaners', ' Farming-fishing',\n",
       "       ' Tech-support', ' Protective-serv', ' Priv-house-serv',\n",
       "       ' Armed-Forces'],\n",
       "      dtype='object', name='Occupation')"
      ]
     },
     "execution_count": 125,
     "metadata": {},
     "output_type": "execute_result"
    }
   ],
   "source": [
    "#Very high imbalance so we need to group them \n",
    "data['Occupation'].value_counts().index"
   ]
  },
  {
   "cell_type": "code",
   "execution_count": 132,
   "id": "d0ac9842",
   "metadata": {},
   "outputs": [],
   "source": [
    "def occupation(value):\n",
    "    if value in [' Prof-specialty', ' Craft-repair', ' Exec-managerial', ' Adm-clerical',' Sales']:\n",
    "        return value\n",
    "    if value in [' Machine-op-inspct', ' ?',' Transport-moving',' Handlers-cleaners']:\n",
    "        return 'other'\n",
    "    else:\n",
    "        return 'others2'"
   ]
  },
  {
   "cell_type": "code",
   "execution_count": 133,
   "id": "92806df9",
   "metadata": {},
   "outputs": [
    {
     "data": {
      "text/plain": [
       "Occupation\n",
       "other               6812\n",
       "others2             6024\n",
       " Prof-specialty     4140\n",
       " Craft-repair       4099\n",
       " Exec-managerial    4066\n",
       " Adm-clerical       3769\n",
       " Sales              3650\n",
       "Name: count, dtype: int64"
      ]
     },
     "execution_count": 133,
     "metadata": {},
     "output_type": "execute_result"
    }
   ],
   "source": [
    "data['Occupation'].apply(occupation).value_counts()"
   ]
  },
  {
   "cell_type": "markdown",
   "id": "0aaaed1b",
   "metadata": {},
   "source": [
    "So what we have done here is that we have used the higher value counts as it is and we have grouped the lesses value counts groups together. And apart from that we have grouped the other_service columns which was earlier in the columns with the prpfessions which had very less value counts."
   ]
  },
  {
   "cell_type": "code",
   "execution_count": 136,
   "id": "95165812",
   "metadata": {},
   "outputs": [
    {
     "data": {
      "image/png": "[encoded data removed]",
      "text/plain": [
       "<Figure size 500x300 with 1 Axes>"
      ]
     },
     "metadata": {},
     "output_type": "display_data"
    }
   ],
   "source": [
    "#data['Occupation']=data['Occupation'].apply(occupation)\n",
    "#Visualization\n",
    "plt.figure(figsize=(5,3))\n",
    "sns.countplot(x=data['Occupation'])\n",
    "plt.xticks(rotation=90)\n",
    "plt.show()"
   ]
  },
  {
   "cell_type": "markdown",
   "id": "f5b1a815",
   "metadata": {},
   "source": [
    "#SO the others and the others2 have the highest value counts among the groups"
   ]
  },
  {
   "cell_type": "code",
   "execution_count": 137,
   "id": "46ddfab1",
   "metadata": {},
   "outputs": [
    {
     "data": {
      "image/png": "[encoded data removed]",
      "text/plain": [
       "<Figure size 800x600 with 1 Axes>"
      ]
     },
     "metadata": {},
     "output_type": "display_data"
    }
   ],
   "source": [
    "plt.figure(figsize=(8,6))\n",
    "sns.countplot(x=data['Occupation'],hue=data['Income'])\n",
    "plt.xticks(rotation=90)\n",
    "plt.show()"
   ]
  },
  {
   "cell_type": "markdown",
   "id": "ed600dd5",
   "metadata": {},
   "source": [
    "So the occupation is the most important thing when it comes to the income of a employee. So here also it can be seen very clearly that the exec_managerical, prof_specialty.... have the highest ratio of the employees having a salary greater than 50K.\n",
    "On other hand the other and the other2 which had the highest number of employees but when it comes to the salary than they are very less in number. Infact When we will add the employees of other and other2 who have a salary greater than 50K even than the number will be less than the employees of the prof_speciality who have a salary of more than 50K. So the occupatin has a very big impact on the salary."
   ]
  },
  {
   "cell_type": "code",
   "execution_count": 139,
   "id": "80dc7487",
   "metadata": {},
   "outputs": [
    {
     "data": {
      "text/plain": [
       "Occupation\n",
       "5    6812\n",
       "6    6024\n",
       "3    4140\n",
       "1    4099\n",
       "2    4066\n",
       "0    3769\n",
       "4    3650\n",
       "Name: count, dtype: int64"
      ]
     },
     "execution_count": 139,
     "metadata": {},
     "output_type": "execute_result"
    }
   ],
   "source": [
    "#labelencoding\n",
    "data['Occupation']=lab_enc.fit_transform(data['Occupation'])\n",
    "data['Occupation'].value_counts()"
   ]
  },
  {
   "cell_type": "code",
   "execution_count": 140,
   "id": "6037443f",
   "metadata": {},
   "outputs": [
    {
     "data": {
      "text/html": [
       "<div>\n",
       "<style scoped>\n",
       "    .dataframe tbody tr th:only-of-type {\n",
       "        vertical-align: middle;\n",
       "    }\n",
       "\n",
       "    .dataframe tbody tr th {\n",
       "        vertical-align: top;\n",
       "    }\n",
       "\n",
       "    .dataframe thead th {\n",
       "        text-align: right;\n",
       "    }\n",
       "</style>\n",
       "<table border=\"1\" class=\"dataframe\">\n",
       "  <thead>\n",
       "    <tr style=\"text-align: right;\">\n",
       "      <th></th>\n",
       "      <th>Age</th>\n",
       "      <th>Workclass</th>\n",
       "      <th>Fnlwgt</th>\n",
       "      <th>Education</th>\n",
       "      <th>Education_num</th>\n",
       "      <th>Marital_status</th>\n",
       "      <th>Occupation</th>\n",
       "      <th>Relationship</th>\n",
       "      <th>Race</th>\n",
       "      <th>Sex</th>\n",
       "      <th>Capital_gain</th>\n",
       "      <th>Capital_loss</th>\n",
       "      <th>Hours_per_week</th>\n",
       "      <th>Native_country</th>\n",
       "      <th>Income</th>\n",
       "    </tr>\n",
       "  </thead>\n",
       "  <tbody>\n",
       "    <tr>\n",
       "      <th>0</th>\n",
       "      <td>7</td>\n",
       "      <td>1</td>\n",
       "      <td>83311</td>\n",
       "      <td>0</td>\n",
       "      <td>1</td>\n",
       "      <td>1</td>\n",
       "      <td>2</td>\n",
       "      <td>Husband</td>\n",
       "      <td>White</td>\n",
       "      <td>Male</td>\n",
       "      <td>0</td>\n",
       "      <td>0</td>\n",
       "      <td>13</td>\n",
       "      <td>United-States</td>\n",
       "      <td>&lt;=50K</td>\n",
       "    </tr>\n",
       "    <tr>\n",
       "      <th>1</th>\n",
       "      <td>5</td>\n",
       "      <td>0</td>\n",
       "      <td>215646</td>\n",
       "      <td>1</td>\n",
       "      <td>2</td>\n",
       "      <td>0</td>\n",
       "      <td>5</td>\n",
       "      <td>Not-in-family</td>\n",
       "      <td>White</td>\n",
       "      <td>Male</td>\n",
       "      <td>0</td>\n",
       "      <td>0</td>\n",
       "      <td>40</td>\n",
       "      <td>United-States</td>\n",
       "      <td>&lt;=50K</td>\n",
       "    </tr>\n",
       "    <tr>\n",
       "      <th>2</th>\n",
       "      <td>8</td>\n",
       "      <td>0</td>\n",
       "      <td>234721</td>\n",
       "      <td>3</td>\n",
       "      <td>3</td>\n",
       "      <td>1</td>\n",
       "      <td>5</td>\n",
       "      <td>Husband</td>\n",
       "      <td>Black</td>\n",
       "      <td>Male</td>\n",
       "      <td>0</td>\n",
       "      <td>0</td>\n",
       "      <td>40</td>\n",
       "      <td>United-States</td>\n",
       "      <td>&lt;=50K</td>\n",
       "    </tr>\n",
       "    <tr>\n",
       "      <th>3</th>\n",
       "      <td>3</td>\n",
       "      <td>0</td>\n",
       "      <td>338409</td>\n",
       "      <td>0</td>\n",
       "      <td>1</td>\n",
       "      <td>1</td>\n",
       "      <td>3</td>\n",
       "      <td>Wife</td>\n",
       "      <td>Black</td>\n",
       "      <td>Female</td>\n",
       "      <td>0</td>\n",
       "      <td>0</td>\n",
       "      <td>40</td>\n",
       "      <td>Cuba</td>\n",
       "      <td>&lt;=50K</td>\n",
       "    </tr>\n",
       "    <tr>\n",
       "      <th>4</th>\n",
       "      <td>5</td>\n",
       "      <td>0</td>\n",
       "      <td>284582</td>\n",
       "      <td>3</td>\n",
       "      <td>3</td>\n",
       "      <td>1</td>\n",
       "      <td>2</td>\n",
       "      <td>Wife</td>\n",
       "      <td>White</td>\n",
       "      <td>Female</td>\n",
       "      <td>0</td>\n",
       "      <td>0</td>\n",
       "      <td>40</td>\n",
       "      <td>United-States</td>\n",
       "      <td>&lt;=50K</td>\n",
       "    </tr>\n",
       "  </tbody>\n",
       "</table>\n",
       "</div>"
      ],
      "text/plain": [
       "   Age  Workclass  Fnlwgt  ...  Hours_per_week  Native_country  Income\n",
       "0    7          1   83311  ...              13   United-States   <=50K\n",
       "1    5          0  215646  ...              40   United-States   <=50K\n",
       "2    8          0  234721  ...              40   United-States   <=50K\n",
       "3    3          0  338409  ...              40            Cuba   <=50K\n",
       "4    5          0  284582  ...              40   United-States   <=50K\n",
       "\n",
       "[5 rows x 15 columns]"
      ]
     },
     "execution_count": 140,
     "metadata": {},
     "output_type": "execute_result"
    }
   ],
   "source": [
    "#Label Encoding done\n",
    "data.head()"
   ]
  },
  {
   "cell_type": "code",
   "execution_count": 141,
   "id": "91b6db76",
   "metadata": {},
   "outputs": [
    {
     "data": {
      "text/plain": [
       "Relationship\n",
       " Husband           13193\n",
       " Not-in-family      8304\n",
       " Own-child          5068\n",
       " Unmarried          3446\n",
       " Wife               1568\n",
       " Other-relative      981\n",
       "Name: count, dtype: int64"
      ]
     },
     "execution_count": 141,
     "metadata": {},
     "output_type": "execute_result"
    }
   ],
   "source": [
    "#Relationship\n",
    "data['Relationship'].value_counts()"
   ]
  },
  {
   "cell_type": "code",
   "execution_count": 143,
   "id": "4e0d0bfb",
   "metadata": {},
   "outputs": [
    {
     "data": {
      "text/plain": [
       "Index([' Husband', ' Not-in-family', ' Own-child', ' Unmarried', ' Wife',\n",
       "       ' Other-relative'],\n",
       "      dtype='object', name='Relationship')"
      ]
     },
     "execution_count": 143,
     "metadata": {},
     "output_type": "execute_result"
    }
   ],
   "source": [
    "#So here also there are some imbalance we can group them\n",
    "data['Relationship'].value_counts().index"
   ]
  },
  {
   "cell_type": "code",
   "execution_count": 144,
   "id": "f539afe1",
   "metadata": {},
   "outputs": [
    {
     "data": {
      "text/plain": [
       "Relationship\n",
       " Husband          13193\n",
       " Not-in-family     8304\n",
       "other              5995\n",
       " Own-child         5068\n",
       "Name: count, dtype: int64"
      ]
     },
     "execution_count": 144,
     "metadata": {},
     "output_type": "execute_result"
    }
   ],
   "source": [
    "def relation(value):\n",
    "    if value in [' Husband', ' Not-in-family', ' Own-child']:\n",
    "        return value\n",
    "    else:\n",
    "        return 'other'\n",
    "data['Relationship'].apply(relation).value_counts()"
   ]
  },
  {
   "cell_type": "code",
   "execution_count": 145,
   "id": "e7362a94",
   "metadata": {},
   "outputs": [
    {
     "data": {
      "text/plain": [
       "Relationship\n",
       " Husband          13193\n",
       " Not-in-family     8304\n",
       "other              5995\n",
       " Own-child         5068\n",
       "Name: count, dtype: int64"
      ]
     },
     "execution_count": 145,
     "metadata": {},
     "output_type": "execute_result"
    }
   ],
   "source": [
    "#Now the relationship columns seems to be fine and balanced\n",
    "data['Relationship']=data['Relationship'].apply(relation)\n",
    "data['Relationship'].value_counts()"
   ]
  },
  {
   "cell_type": "code",
   "execution_count": 146,
   "id": "98da0046",
   "metadata": {},
   "outputs": [
    {
     "data": {
      "image/png": "[encoded data removed]",
      "text/plain": [
       "<Figure size 500x300 with 1 Axes>"
      ]
     },
     "metadata": {},
     "output_type": "display_data"
    }
   ],
   "source": [
    "#Visualization part\n",
    "plt.figure(figsize=(5,3))\n",
    "sns.countplot(x=data['Relationship'])\n",
    "plt.show()"
   ]
  },
  {
   "cell_type": "markdown",
   "id": "693ee6ef",
   "metadata": {},
   "source": [
    "So the husbands are largers in numbers as employees. And this is not so shocking because in most of the families the husbands go out and earn money and the wifes take care of the family."
   ]
  },
  {
   "cell_type": "code",
   "execution_count": 147,
   "id": "e6aa6365",
   "metadata": {},
   "outputs": [
    {
     "data": {
      "image/png": "[encoded data removed]",
      "text/plain": [
       "<Figure size 500x300 with 1 Axes>"
      ]
     },
     "metadata": {},
     "output_type": "display_data"
    }
   ],
   "source": [
    "#Relation with the label\n",
    "plt.figure(figsize=(5,3))\n",
    "sns.countplot(x=data['Relationship'],hue=data['Income'])\n",
    "plt.show()"
   ]
  },
  {
   "cell_type": "markdown",
   "id": "2d8f716d",
   "metadata": {},
   "source": [
    "So here the husbands have the highest chance and highest ratio of having a income of greater than 50k as compared to the others\n",
    "Let us see the relation of the relationship with the age"
   ]
  },
  {
   "cell_type": "code",
   "execution_count": 149,
   "id": "5cf21f57",
   "metadata": {},
   "outputs": [
    {
     "data": {
      "image/png": "[encoded data removed]",
      "text/plain": [
       "<Figure size 800x600 with 1 Axes>"
      ]
     },
     "metadata": {},
     "output_type": "display_data"
    }
   ],
   "source": [
    "plt.figure(figsize=(8,6))\n",
    "sns.countplot(x=data['Relationship'],hue=data['Age'])\n",
    "plt.show()"
   ]
  },
  {
   "cell_type": "markdown",
   "id": "88d60d8a",
   "metadata": {},
   "source": [
    "There is a clear relation between the age and the relationship. The husbands are more in the middle age and the own-child is more in the young age."
   ]
  },
  {
   "cell_type": "code",
   "execution_count": 151,
   "id": "ee699d5c",
   "metadata": {},
   "outputs": [
    {
     "data": {
      "text/plain": [
       "Relationship\n",
       "0    13193\n",
       "1     8304\n",
       "3     5995\n",
       "2     5068\n",
       "Name: count, dtype: int64"
      ]
     },
     "execution_count": 151,
     "metadata": {},
     "output_type": "execute_result"
    }
   ],
   "source": [
    "data['Relationship']=lab_enc.fit_transform(data['Relationship'])\n",
    "data['Relationship'].value_counts()"
   ]
  },
  {
   "cell_type": "code",
   "execution_count": 152,
   "id": "23df50f9",
   "metadata": {},
   "outputs": [
    {
     "data": {
      "text/plain": [
       "Race\n",
       " White                 27815\n",
       " Black                  3124\n",
       " Asian-Pac-Islander     1039\n",
       " Amer-Indian-Eskimo      311\n",
       " Other                   271\n",
       "Name: count, dtype: int64"
      ]
     },
     "execution_count": 152,
     "metadata": {},
     "output_type": "execute_result"
    }
   ],
   "source": [
    "#Race column\n",
    "data['Race'].value_counts()"
   ]
  },
  {
   "cell_type": "code",
   "execution_count": 153,
   "id": "285b27ac",
   "metadata": {},
   "outputs": [
    {
     "data": {
      "text/plain": [
       "Index([' White', ' Black', ' Asian-Pac-Islander', ' Amer-Indian-Eskimo',\n",
       "       ' Other'],\n",
       "      dtype='object', name='Race')"
      ]
     },
     "execution_count": 153,
     "metadata": {},
     "output_type": "execute_result"
    }
   ],
   "source": [
    "data['Race'].value_counts().index"
   ]
  },
  {
   "cell_type": "code",
   "execution_count": 155,
   "id": "6af17d97",
   "metadata": {},
   "outputs": [
    {
     "data": {
      "text/plain": [
       "Race\n",
       " White    27815\n",
       " Black     3124\n",
       "other      1621\n",
       "Name: count, dtype: int64"
      ]
     },
     "execution_count": 155,
     "metadata": {},
     "output_type": "execute_result"
    }
   ],
   "source": [
    "#There is a very big imbalance here also so let us just adjust it accordingly\n",
    "def race(value):\n",
    "    if value in [' White', ' Black']:\n",
    "        return value\n",
    "    else:\n",
    "        return 'other'\n",
    "data['Race'].apply(race).value_counts()"
   ]
  },
  {
   "cell_type": "code",
   "execution_count": 156,
   "id": "19f6f6eb",
   "metadata": {},
   "outputs": [],
   "source": [
    "data['Race']=data['Race'].apply(race)"
   ]
  },
  {
   "cell_type": "markdown",
   "id": "3a9f135b",
   "metadata": {},
   "source": [
    "So what we have done here is that we have categorized and grouped the races with lower value counts together."
   ]
  },
  {
   "cell_type": "code",
   "execution_count": 157,
   "id": "007e5130",
   "metadata": {},
   "outputs": [
    {
     "data": {
      "image/png": "[encoded data removed]",
      "text/plain": [
       "<Figure size 500x300 with 1 Axes>"
      ]
     },
     "metadata": {},
     "output_type": "display_data"
    }
   ],
   "source": [
    "#Visualization part\n",
    "plt.figure(figsize=(5,3))\n",
    "sns.countplot(x=data['Race'])\n",
    "plt.show()"
   ]
  },
  {
   "cell_type": "code",
   "execution_count": 158,
   "id": "e90dd368",
   "metadata": {},
   "outputs": [
    {
     "data": {
      "image/png": "[encoded data removed]",
      "text/plain": [
       "<Figure size 500x300 with 1 Axes>"
      ]
     },
     "metadata": {},
     "output_type": "display_data"
    }
   ],
   "source": [
    "#CLearly the value_counts of white is very very high .\n",
    "#We will now see the relatin with the label\n",
    "plt.figure(figsize=(5,3))\n",
    "sns.countplot(x=data['Race'],hue=data['Income'])\n",
    "plt.show()"
   ]
  },
  {
   "cell_type": "markdown",
   "id": "25a9f9cf",
   "metadata": {},
   "source": [
    "#The white race people who are having the highest number of employees also have the highest ratio when it comes to having a salary of greater than or less than 50k."
   ]
  },
  {
   "cell_type": "code",
   "execution_count": 160,
   "id": "a8354e5e",
   "metadata": {},
   "outputs": [
    {
     "data": {
      "text/plain": [
       "Race\n",
       "1    27815\n",
       "0     3124\n",
       "2     1621\n",
       "Name: count, dtype: int64"
      ]
     },
     "execution_count": 160,
     "metadata": {},
     "output_type": "execute_result"
    }
   ],
   "source": [
    "#Label Encoding\n",
    "data['Race']=lab_enc.fit_transform(data['Race'])\n",
    "data['Race'].value_counts()"
   ]
  },
  {
   "cell_type": "code",
   "execution_count": 162,
   "id": "435ce000",
   "metadata": {},
   "outputs": [
    {
     "data": {
      "text/plain": [
       "Sex\n",
       " Male      21789\n",
       " Female    10771\n",
       "Name: count, dtype: int64"
      ]
     },
     "execution_count": 162,
     "metadata": {},
     "output_type": "execute_result"
    }
   ],
   "source": [
    "#Sex\n",
    "data['Sex'].value_counts()"
   ]
  },
  {
   "cell_type": "markdown",
   "id": "8af85276",
   "metadata": {},
   "source": [
    "#The male have a higher value counts and this time we can not do anything like grouping the classes together because here there \n",
    "is only one class."
   ]
  },
  {
   "cell_type": "code",
   "execution_count": 163,
   "id": "63866c7c",
   "metadata": {},
   "outputs": [
    {
     "data": {
      "image/png": "[encoded data removed]",
      "text/plain": [
       "<Figure size 500x300 with 1 Axes>"
      ]
     },
     "metadata": {},
     "output_type": "display_data"
    }
   ],
   "source": [
    "#Visualization\n",
    "plt.figure(figsize=(5,3))\n",
    "sns.countplot(x=data['Sex'])\n",
    "plt.show()"
   ]
  },
  {
   "cell_type": "code",
   "execution_count": 164,
   "id": "0c63557f",
   "metadata": {},
   "outputs": [
    {
     "data": {
      "image/png": "[encoded data removed]",
      "text/plain": [
       "<Figure size 500x300 with 1 Axes>"
      ]
     },
     "metadata": {},
     "output_type": "display_data"
    }
   ],
   "source": [
    "plt.figure(figsize=(5,3))\n",
    "sns.countplot(x=data['Sex'],hue=data['Income'])\n",
    "plt.show()"
   ]
  },
  {
   "cell_type": "markdown",
   "id": "ad3df0a6",
   "metadata": {},
   "source": [
    "The females employees have very less ratio of the  employees who have salary greater than 50k vs the emlpoyee who have salary of less than 50k. Which means most of the female employees have salary of less than 50k. But on the other hand the male employees have very high ratio of this which means men are more in numbers when it comes to having a salary of greater than 50k."
   ]
  },
  {
   "cell_type": "code",
   "execution_count": 167,
   "id": "f715ec1e",
   "metadata": {},
   "outputs": [],
   "source": [
    "data['Sex']=lab_enc.fit_transform(data['Sex']) #Label Encoding of the sex column"
   ]
  },
  {
   "cell_type": "code",
   "execution_count": 168,
   "id": "3d2176b9",
   "metadata": {},
   "outputs": [
    {
     "data": {
      "text/plain": [
       "Sex\n",
       "1    21789\n",
       "0    10771\n",
       "Name: count, dtype: int64"
      ]
     },
     "execution_count": 168,
     "metadata": {},
     "output_type": "execute_result"
    }
   ],
   "source": [
    "data['Sex'].value_counts()"
   ]
  },
  {
   "cell_type": "code",
   "execution_count": 169,
   "id": "5ce0bcfe",
   "metadata": {},
   "outputs": [
    {
     "data": {
      "text/html": [
       "<div>\n",
       "<style scoped>\n",
       "    .dataframe tbody tr th:only-of-type {\n",
       "        vertical-align: middle;\n",
       "    }\n",
       "\n",
       "    .dataframe tbody tr th {\n",
       "        vertical-align: top;\n",
       "    }\n",
       "\n",
       "    .dataframe thead th {\n",
       "        text-align: right;\n",
       "    }\n",
       "</style>\n",
       "<table border=\"1\" class=\"dataframe\">\n",
       "  <thead>\n",
       "    <tr style=\"text-align: right;\">\n",
       "      <th></th>\n",
       "      <th>Age</th>\n",
       "      <th>Workclass</th>\n",
       "      <th>Fnlwgt</th>\n",
       "      <th>Education</th>\n",
       "      <th>Education_num</th>\n",
       "      <th>Marital_status</th>\n",
       "      <th>Occupation</th>\n",
       "      <th>Relationship</th>\n",
       "      <th>Race</th>\n",
       "      <th>Sex</th>\n",
       "      <th>Capital_gain</th>\n",
       "      <th>Capital_loss</th>\n",
       "      <th>Hours_per_week</th>\n",
       "      <th>Native_country</th>\n",
       "      <th>Income</th>\n",
       "    </tr>\n",
       "  </thead>\n",
       "  <tbody>\n",
       "    <tr>\n",
       "      <th>0</th>\n",
       "      <td>7</td>\n",
       "      <td>1</td>\n",
       "      <td>83311</td>\n",
       "      <td>0</td>\n",
       "      <td>1</td>\n",
       "      <td>1</td>\n",
       "      <td>2</td>\n",
       "      <td>0</td>\n",
       "      <td>1</td>\n",
       "      <td>1</td>\n",
       "      <td>0</td>\n",
       "      <td>0</td>\n",
       "      <td>13</td>\n",
       "      <td>United-States</td>\n",
       "      <td>&lt;=50K</td>\n",
       "    </tr>\n",
       "    <tr>\n",
       "      <th>1</th>\n",
       "      <td>5</td>\n",
       "      <td>0</td>\n",
       "      <td>215646</td>\n",
       "      <td>1</td>\n",
       "      <td>2</td>\n",
       "      <td>0</td>\n",
       "      <td>5</td>\n",
       "      <td>1</td>\n",
       "      <td>1</td>\n",
       "      <td>1</td>\n",
       "      <td>0</td>\n",
       "      <td>0</td>\n",
       "      <td>40</td>\n",
       "      <td>United-States</td>\n",
       "      <td>&lt;=50K</td>\n",
       "    </tr>\n",
       "    <tr>\n",
       "      <th>2</th>\n",
       "      <td>8</td>\n",
       "      <td>0</td>\n",
       "      <td>234721</td>\n",
       "      <td>3</td>\n",
       "      <td>3</td>\n",
       "      <td>1</td>\n",
       "      <td>5</td>\n",
       "      <td>0</td>\n",
       "      <td>0</td>\n",
       "      <td>1</td>\n",
       "      <td>0</td>\n",
       "      <td>0</td>\n",
       "      <td>40</td>\n",
       "      <td>United-States</td>\n",
       "      <td>&lt;=50K</td>\n",
       "    </tr>\n",
       "    <tr>\n",
       "      <th>3</th>\n",
       "      <td>3</td>\n",
       "      <td>0</td>\n",
       "      <td>338409</td>\n",
       "      <td>0</td>\n",
       "      <td>1</td>\n",
       "      <td>1</td>\n",
       "      <td>3</td>\n",
       "      <td>3</td>\n",
       "      <td>0</td>\n",
       "      <td>0</td>\n",
       "      <td>0</td>\n",
       "      <td>0</td>\n",
       "      <td>40</td>\n",
       "      <td>Cuba</td>\n",
       "      <td>&lt;=50K</td>\n",
       "    </tr>\n",
       "    <tr>\n",
       "      <th>4</th>\n",
       "      <td>5</td>\n",
       "      <td>0</td>\n",
       "      <td>284582</td>\n",
       "      <td>3</td>\n",
       "      <td>3</td>\n",
       "      <td>1</td>\n",
       "      <td>2</td>\n",
       "      <td>3</td>\n",
       "      <td>1</td>\n",
       "      <td>0</td>\n",
       "      <td>0</td>\n",
       "      <td>0</td>\n",
       "      <td>40</td>\n",
       "      <td>United-States</td>\n",
       "      <td>&lt;=50K</td>\n",
       "    </tr>\n",
       "  </tbody>\n",
       "</table>\n",
       "</div>"
      ],
      "text/plain": [
       "   Age  Workclass  Fnlwgt  ...  Hours_per_week  Native_country  Income\n",
       "0    7          1   83311  ...              13   United-States   <=50K\n",
       "1    5          0  215646  ...              40   United-States   <=50K\n",
       "2    8          0  234721  ...              40   United-States   <=50K\n",
       "3    3          0  338409  ...              40            Cuba   <=50K\n",
       "4    5          0  284582  ...              40   United-States   <=50K\n",
       "\n",
       "[5 rows x 15 columns]"
      ]
     },
     "execution_count": 169,
     "metadata": {},
     "output_type": "execute_result"
    }
   ],
   "source": [
    "data.head()"
   ]
  },
  {
   "cell_type": "code",
   "execution_count": 170,
   "id": "369ec963",
   "metadata": {},
   "outputs": [
    {
     "data": {
      "text/plain": [
       "Native_country\n",
       " United-States                 29169\n",
       " Mexico                          643\n",
       " ?                               583\n",
       " Philippines                     198\n",
       " Germany                         137\n",
       "                               ...  \n",
       " Outlying-US(Guam-USVI-etc)       14\n",
       " Honduras                         13\n",
       " Hungary                          13\n",
       " Scotland                         12\n",
       " Holand-Netherlands                1\n",
       "Name: count, Length: 42, dtype: int64"
      ]
     },
     "execution_count": 170,
     "metadata": {},
     "output_type": "execute_result"
    }
   ],
   "source": [
    "#Native country\n",
    "data['Native_country'].value_counts()"
   ]
  },
  {
   "cell_type": "code",
   "execution_count": 171,
   "id": "118754ea",
   "metadata": {},
   "outputs": [],
   "source": [
    "pd.set_option('display.max_rows',None) #TO see all the rows in value counts"
   ]
  },
  {
   "cell_type": "code",
   "execution_count": 172,
   "id": "6c939ea8",
   "metadata": {},
   "outputs": [
    {
     "data": {
      "text/plain": [
       "Native_country\n",
       " United-States                 29169\n",
       " Mexico                          643\n",
       " ?                               583\n",
       " Philippines                     198\n",
       " Germany                         137\n",
       " Canada                          121\n",
       " Puerto-Rico                     114\n",
       " El-Salvador                     106\n",
       " India                           100\n",
       " Cuba                             95\n",
       " England                          90\n",
       " Jamaica                          81\n",
       " South                            80\n",
       " China                            75\n",
       " Italy                            73\n",
       " Dominican-Republic               70\n",
       " Vietnam                          67\n",
       " Guatemala                        64\n",
       " Japan                            62\n",
       " Poland                           60\n",
       " Columbia                         59\n",
       " Taiwan                           51\n",
       " Haiti                            44\n",
       " Iran                             43\n",
       " Portugal                         37\n",
       " Nicaragua                        34\n",
       " Peru                             31\n",
       " France                           29\n",
       " Greece                           29\n",
       " Ecuador                          28\n",
       " Ireland                          24\n",
       " Hong                             20\n",
       " Cambodia                         19\n",
       " Trinadad&Tobago                  19\n",
       " Laos                             18\n",
       " Thailand                         18\n",
       " Yugoslavia                       16\n",
       " Outlying-US(Guam-USVI-etc)       14\n",
       " Honduras                         13\n",
       " Hungary                          13\n",
       " Scotland                         12\n",
       " Holand-Netherlands                1\n",
       "Name: count, dtype: int64"
      ]
     },
     "execution_count": 172,
     "metadata": {},
     "output_type": "execute_result"
    }
   ],
   "source": [
    "data['Native_country'].value_counts()"
   ]
  },
  {
   "cell_type": "markdown",
   "id": "952a8053",
   "metadata": {},
   "source": [
    "So out of 32500 rows the 29500 rows belong to united states \n",
    "So this is a very imbalanced column\n",
    "So what we will do it we will group all the countries except united states together\n",
    "So let us proceed"
   ]
  },
  {
   "cell_type": "code",
   "execution_count": 176,
   "id": "233b6fa0",
   "metadata": {},
   "outputs": [
    {
     "data": {
      "text/plain": [
       "Index([' United-States', ' Mexico', ' ?', ' Philippines', ' Germany',\n",
       "       ' Canada', ' Puerto-Rico', ' El-Salvador', ' India', ' Cuba',\n",
       "       ' England', ' Jamaica', ' South', ' China', ' Italy',\n",
       "       ' Dominican-Republic', ' Vietnam', ' Guatemala', ' Japan', ' Poland',\n",
       "       ' Columbia', ' Taiwan', ' Haiti', ' Iran', ' Portugal', ' Nicaragua',\n",
       "       ' Peru', ' France', ' Greece', ' Ecuador', ' Ireland', ' Hong',\n",
       "       ' Cambodia', ' Trinadad&Tobago', ' Laos', ' Thailand', ' Yugoslavia',\n",
       "       ' Outlying-US(Guam-USVI-etc)', ' Honduras', ' Hungary', ' Scotland',\n",
       "       ' Holand-Netherlands'],\n",
       "      dtype='object', name='Native_country')"
      ]
     },
     "execution_count": 176,
     "metadata": {},
     "output_type": "execute_result"
    }
   ],
   "source": [
    "data['Native_country'].value_counts().index"
   ]
  },
  {
   "cell_type": "code",
   "execution_count": 179,
   "id": "4cbd65f3",
   "metadata": {},
   "outputs": [
    {
     "data": {
      "text/plain": [
       "Native_country\n",
       " United-States    29169\n",
       "Other              3391\n",
       "Name: count, dtype: int64"
      ]
     },
     "execution_count": 179,
     "metadata": {},
     "output_type": "execute_result"
    }
   ],
   "source": [
    "def native_country(value):\n",
    "    if value==' United-States':\n",
    "        return value\n",
    "    else:\n",
    "        return 'Other'\n",
    "data['Native_country'].apply(native_country).value_counts()"
   ]
  },
  {
   "cell_type": "code",
   "execution_count": 182,
   "id": "af1a33e2",
   "metadata": {},
   "outputs": [
    {
     "data": {
      "text/plain": [
       "Native_country\n",
       " United-States    29169\n",
       "Other              3391\n",
       "Name: count, dtype: int64"
      ]
     },
     "execution_count": 182,
     "metadata": {},
     "output_type": "execute_result"
    }
   ],
   "source": [
    "data['Native_country']=data['Native_country'].apply(native_country)\n",
    "data['Native_country'].value_counts()"
   ]
  },
  {
   "cell_type": "code",
   "execution_count": 183,
   "id": "f78748fa",
   "metadata": {},
   "outputs": [
    {
     "data": {
      "image/png": "[encoded data removed]",
      "text/plain": [
       "<Figure size 500x300 with 1 Axes>"
      ]
     },
     "metadata": {},
     "output_type": "display_data"
    }
   ],
   "source": [
    "#Visualization\n",
    "plt.figure(figsize=(5,3))\n",
    "sns.countplot(x=data['Native_country'])\n",
    "plt.show()"
   ]
  },
  {
   "cell_type": "code",
   "execution_count": 184,
   "id": "2886ad26",
   "metadata": {},
   "outputs": [
    {
     "data": {
      "image/png": "[encoded data removed]",
      "text/plain": [
       "<Figure size 500x300 with 1 Axes>"
      ]
     },
     "metadata": {},
     "output_type": "display_data"
    }
   ],
   "source": [
    "#United-states very large in numbers\n",
    "plt.figure(figsize=(5,3))\n",
    "sns.countplot(x=data['Native_country'],hue=data['Income'])\n",
    "plt.show()"
   ]
  },
  {
   "cell_type": "markdown",
   "id": "34c006bf",
   "metadata": {},
   "source": [
    "A united states employee has more chance of having a income greater than 50K as compared to the employees of other country"
   ]
  },
  {
   "cell_type": "code",
   "execution_count": 185,
   "id": "8478b1dc",
   "metadata": {},
   "outputs": [
    {
     "data": {
      "text/plain": [
       "Native_country\n",
       "0    29169\n",
       "1     3391\n",
       "Name: count, dtype: int64"
      ]
     },
     "execution_count": 185,
     "metadata": {},
     "output_type": "execute_result"
    }
   ],
   "source": [
    "data['Native_country']=lab_enc.fit_transform(data['Native_country'])\n",
    "data['Native_country'].value_counts()"
   ]
  },
  {
   "cell_type": "code",
   "execution_count": 186,
   "id": "25455690",
   "metadata": {},
   "outputs": [
    {
     "data": {
      "text/html": [
       "<div>\n",
       "<style scoped>\n",
       "    .dataframe tbody tr th:only-of-type {\n",
       "        vertical-align: middle;\n",
       "    }\n",
       "\n",
       "    .dataframe tbody tr th {\n",
       "        vertical-align: top;\n",
       "    }\n",
       "\n",
       "    .dataframe thead th {\n",
       "        text-align: right;\n",
       "    }\n",
       "</style>\n",
       "<table border=\"1\" class=\"dataframe\">\n",
       "  <thead>\n",
       "    <tr style=\"text-align: right;\">\n",
       "      <th></th>\n",
       "      <th>Age</th>\n",
       "      <th>Workclass</th>\n",
       "      <th>Fnlwgt</th>\n",
       "      <th>Education</th>\n",
       "      <th>Education_num</th>\n",
       "      <th>Marital_status</th>\n",
       "      <th>Occupation</th>\n",
       "      <th>Relationship</th>\n",
       "      <th>Race</th>\n",
       "      <th>Sex</th>\n",
       "      <th>Capital_gain</th>\n",
       "      <th>Capital_loss</th>\n",
       "      <th>Hours_per_week</th>\n",
       "      <th>Native_country</th>\n",
       "      <th>Income</th>\n",
       "    </tr>\n",
       "  </thead>\n",
       "  <tbody>\n",
       "    <tr>\n",
       "      <th>0</th>\n",
       "      <td>7</td>\n",
       "      <td>1</td>\n",
       "      <td>83311</td>\n",
       "      <td>0</td>\n",
       "      <td>1</td>\n",
       "      <td>1</td>\n",
       "      <td>2</td>\n",
       "      <td>0</td>\n",
       "      <td>1</td>\n",
       "      <td>1</td>\n",
       "      <td>0</td>\n",
       "      <td>0</td>\n",
       "      <td>13</td>\n",
       "      <td>0</td>\n",
       "      <td>&lt;=50K</td>\n",
       "    </tr>\n",
       "    <tr>\n",
       "      <th>1</th>\n",
       "      <td>5</td>\n",
       "      <td>0</td>\n",
       "      <td>215646</td>\n",
       "      <td>1</td>\n",
       "      <td>2</td>\n",
       "      <td>0</td>\n",
       "      <td>5</td>\n",
       "      <td>1</td>\n",
       "      <td>1</td>\n",
       "      <td>1</td>\n",
       "      <td>0</td>\n",
       "      <td>0</td>\n",
       "      <td>40</td>\n",
       "      <td>0</td>\n",
       "      <td>&lt;=50K</td>\n",
       "    </tr>\n",
       "    <tr>\n",
       "      <th>2</th>\n",
       "      <td>8</td>\n",
       "      <td>0</td>\n",
       "      <td>234721</td>\n",
       "      <td>3</td>\n",
       "      <td>3</td>\n",
       "      <td>1</td>\n",
       "      <td>5</td>\n",
       "      <td>0</td>\n",
       "      <td>0</td>\n",
       "      <td>1</td>\n",
       "      <td>0</td>\n",
       "      <td>0</td>\n",
       "      <td>40</td>\n",
       "      <td>0</td>\n",
       "      <td>&lt;=50K</td>\n",
       "    </tr>\n",
       "    <tr>\n",
       "      <th>3</th>\n",
       "      <td>3</td>\n",
       "      <td>0</td>\n",
       "      <td>338409</td>\n",
       "      <td>0</td>\n",
       "      <td>1</td>\n",
       "      <td>1</td>\n",
       "      <td>3</td>\n",
       "      <td>3</td>\n",
       "      <td>0</td>\n",
       "      <td>0</td>\n",
       "      <td>0</td>\n",
       "      <td>0</td>\n",
       "      <td>40</td>\n",
       "      <td>1</td>\n",
       "      <td>&lt;=50K</td>\n",
       "    </tr>\n",
       "    <tr>\n",
       "      <th>4</th>\n",
       "      <td>5</td>\n",
       "      <td>0</td>\n",
       "      <td>284582</td>\n",
       "      <td>3</td>\n",
       "      <td>3</td>\n",
       "      <td>1</td>\n",
       "      <td>2</td>\n",
       "      <td>3</td>\n",
       "      <td>1</td>\n",
       "      <td>0</td>\n",
       "      <td>0</td>\n",
       "      <td>0</td>\n",
       "      <td>40</td>\n",
       "      <td>0</td>\n",
       "      <td>&lt;=50K</td>\n",
       "    </tr>\n",
       "  </tbody>\n",
       "</table>\n",
       "</div>"
      ],
      "text/plain": [
       "   Age  Workclass  Fnlwgt  ...  Hours_per_week  Native_country  Income\n",
       "0    7          1   83311  ...              13               0   <=50K\n",
       "1    5          0  215646  ...              40               0   <=50K\n",
       "2    8          0  234721  ...              40               0   <=50K\n",
       "3    3          0  338409  ...              40               1   <=50K\n",
       "4    5          0  284582  ...              40               0   <=50K\n",
       "\n",
       "[5 rows x 15 columns]"
      ]
     },
     "execution_count": 186,
     "metadata": {},
     "output_type": "execute_result"
    }
   ],
   "source": [
    "data.head()"
   ]
  },
  {
   "cell_type": "code",
   "execution_count": 187,
   "id": "78c63b8d",
   "metadata": {},
   "outputs": [
    {
     "data": {
      "text/plain": [
       "Capital_gain\n",
       "0        29849\n",
       "15024      347\n",
       "7688       284\n",
       "7298       246\n",
       "99999      159\n",
       "5178        97\n",
       "3103        97\n",
       "4386        70\n",
       "5013        69\n",
       "8614        55\n",
       "3325        53\n",
       "2174        47\n",
       "10520       43\n",
       "4064        42\n",
       "14084       41\n",
       "4650        41\n",
       "3137        37\n",
       "20051       37\n",
       "27828       34\n",
       "594         34\n",
       "3908        32\n",
       "2829        31\n",
       "13550       27\n",
       "6849        27\n",
       "14344       26\n",
       "1055        25\n",
       "2885        24\n",
       "3411        24\n",
       "2176        23\n",
       "4787        23\n",
       "3464        23\n",
       "9386        22\n",
       "2597        20\n",
       "4101        20\n",
       "2407        19\n",
       "4865        17\n",
       "2202        16\n",
       "1506        15\n",
       "3942        14\n",
       "3674        14\n",
       "4416        12\n",
       "2580        12\n",
       "4508        12\n",
       "3781        12\n",
       "10605       12\n",
       "2463        11\n",
       "2907        11\n",
       "5455        11\n",
       "2354        11\n",
       "2635        11\n",
       "25236       11\n",
       "6497        11\n",
       "7430         9\n",
       "2105         9\n",
       "6418         9\n",
       "2964         9\n",
       "2977         8\n",
       "1151         8\n",
       "2414         8\n",
       "3471         8\n",
       "914          8\n",
       "4934         7\n",
       "1831         7\n",
       "1409         7\n",
       "1471         7\n",
       "3818         7\n",
       "1797         7\n",
       "3273         6\n",
       "1848         6\n",
       "3887         6\n",
       "2329         6\n",
       "10566        6\n",
       "2346         6\n",
       "114          6\n",
       "15831        6\n",
       "7443         5\n",
       "2653         5\n",
       "2290         5\n",
       "3418         5\n",
       "6514         5\n",
       "5556         5\n",
       "2050         5\n",
       "6767         5\n",
       "991          5\n",
       "2228         5\n",
       "34095        5\n",
       "15020        5\n",
       "2036         4\n",
       "9562         4\n",
       "25124        4\n",
       "1086         4\n",
       "3432         4\n",
       "7896         3\n",
       "4687         3\n",
       "1173         3\n",
       "2961         3\n",
       "6360         3\n",
       "2936         3\n",
       "2009         3\n",
       "1424         3\n",
       "5721         3\n",
       "18481        2\n",
       "11678        2\n",
       "2993         2\n",
       "2062         2\n",
       "41310        2\n",
       "3456         2\n",
       "6723         2\n",
       "401          2\n",
       "7978         1\n",
       "2387         1\n",
       "1639         1\n",
       "1455         1\n",
       "6097         1\n",
       "1111         1\n",
       "2538         1\n",
       "22040        1\n",
       "4931         1\n",
       "5060         1\n",
       "Name: count, dtype: int64"
      ]
     },
     "execution_count": 187,
     "metadata": {},
     "output_type": "execute_result"
    }
   ],
   "source": [
    "#Capital_gain\n",
    "data['Capital_gain'].value_counts()"
   ]
  },
  {
   "cell_type": "code",
   "execution_count": 190,
   "id": "1acdbc2c",
   "metadata": {},
   "outputs": [
    {
     "data": {
      "text/plain": [
       "Index([    0, 15024,  7688,  7298, 99999,  5178,  3103,  4386,  5013,  8614,\n",
       "       ...\n",
       "        7978,  2387,  1639,  1455,  6097,  1111,  2538, 22040,  4931,  5060],\n",
       "      dtype='int64', name='Capital_gain', length=119)"
      ]
     },
     "execution_count": 190,
     "metadata": {},
     "output_type": "execute_result"
    }
   ],
   "source": [
    "#Here also we can group the columns together as there is a very large imbalance\n",
    "data['Capital_gain'].value_counts().index"
   ]
  },
  {
   "cell_type": "code",
   "execution_count": 198,
   "id": "0cc7be00",
   "metadata": {},
   "outputs": [],
   "source": [
    "def capital_gain(value):\n",
    "    if value==0:\n",
    "        return value\n",
    "    else:\n",
    "        return 'Something'"
   ]
  },
  {
   "cell_type": "code",
   "execution_count": 195,
   "id": "44bcf572",
   "metadata": {},
   "outputs": [],
   "source": [
    "pd.set_option('display.max_rows',20)"
   ]
  },
  {
   "cell_type": "code",
   "execution_count": 196,
   "id": "99c9fdb6",
   "metadata": {},
   "outputs": [
    {
     "ename": "KeyboardInterrupt",
     "evalue": "",
     "output_type": "error",
     "traceback": [
      "\u001b[1;31m---------------------------------------------------------------------------\u001b[0m",
      "\u001b[1;31mKeyboardInterrupt\u001b[0m                         Traceback (most recent call last)",
      "Cell \u001b[1;32mIn[196], line 1\u001b[0m\n\u001b[1;32m----> 1\u001b[0m data[\u001b[38;5;124m'\u001b[39m\u001b[38;5;124mCapital_gain\u001b[39m\u001b[38;5;124m'\u001b[39m]\u001b[38;5;241m.\u001b[39mapply(capital_gain)\n",
      "File \u001b[1;32m~\\anaconda3\\Lib\\site-packages\\pandas\\core\\series.py:4630\u001b[0m, in \u001b[0;36mSeries.apply\u001b[1;34m(self, func, convert_dtype, args, **kwargs)\u001b[0m\n\u001b[0;32m   4520\u001b[0m \u001b[38;5;28;01mdef\u001b[39;00m \u001b[38;5;21mapply\u001b[39m(\n\u001b[0;32m   4521\u001b[0m     \u001b[38;5;28mself\u001b[39m,\n\u001b[0;32m   4522\u001b[0m     func: AggFuncType,\n\u001b[1;32m   (...)\u001b[0m\n\u001b[0;32m   4525\u001b[0m     \u001b[38;5;241m*\u001b[39m\u001b[38;5;241m*\u001b[39mkwargs,\n\u001b[0;32m   4526\u001b[0m ) \u001b[38;5;241m-\u001b[39m\u001b[38;5;241m>\u001b[39m DataFrame \u001b[38;5;241m|\u001b[39m Series:\n\u001b[0;32m   4527\u001b[0m \u001b[38;5;250m    \u001b[39m\u001b[38;5;124;03m\"\"\"\u001b[39;00m\n\u001b[0;32m   4528\u001b[0m \u001b[38;5;124;03m    Invoke function on values of Series.\u001b[39;00m\n\u001b[0;32m   4529\u001b[0m \n\u001b[1;32m   (...)\u001b[0m\n\u001b[0;32m   4628\u001b[0m \u001b[38;5;124;03m    dtype: float64\u001b[39;00m\n\u001b[0;32m   4629\u001b[0m \u001b[38;5;124;03m    \"\"\"\u001b[39;00m\n\u001b[1;32m-> 4630\u001b[0m     \u001b[38;5;28;01mreturn\u001b[39;00m SeriesApply(\u001b[38;5;28mself\u001b[39m, func, convert_dtype, args, kwargs)\u001b[38;5;241m.\u001b[39mapply()\n",
      "File \u001b[1;32m~\\anaconda3\\Lib\\site-packages\\pandas\\core\\apply.py:1025\u001b[0m, in \u001b[0;36mSeriesApply.apply\u001b[1;34m(self)\u001b[0m\n\u001b[0;32m   1022\u001b[0m     \u001b[38;5;28;01mreturn\u001b[39;00m \u001b[38;5;28mself\u001b[39m\u001b[38;5;241m.\u001b[39mapply_str()\n\u001b[0;32m   1024\u001b[0m \u001b[38;5;66;03m# self.f is Callable\u001b[39;00m\n\u001b[1;32m-> 1025\u001b[0m \u001b[38;5;28;01mreturn\u001b[39;00m \u001b[38;5;28mself\u001b[39m\u001b[38;5;241m.\u001b[39mapply_standard()\n",
      "File \u001b[1;32m~\\anaconda3\\Lib\\site-packages\\pandas\\core\\apply.py:1076\u001b[0m, in \u001b[0;36mSeriesApply.apply_standard\u001b[1;34m(self)\u001b[0m\n\u001b[0;32m   1074\u001b[0m     \u001b[38;5;28;01melse\u001b[39;00m:\n\u001b[0;32m   1075\u001b[0m         values \u001b[38;5;241m=\u001b[39m obj\u001b[38;5;241m.\u001b[39mastype(\u001b[38;5;28mobject\u001b[39m)\u001b[38;5;241m.\u001b[39m_values\n\u001b[1;32m-> 1076\u001b[0m         mapped \u001b[38;5;241m=\u001b[39m lib\u001b[38;5;241m.\u001b[39mmap_infer(\n\u001b[0;32m   1077\u001b[0m             values,\n\u001b[0;32m   1078\u001b[0m             f,\n\u001b[0;32m   1079\u001b[0m             convert\u001b[38;5;241m=\u001b[39m\u001b[38;5;28mself\u001b[39m\u001b[38;5;241m.\u001b[39mconvert_dtype,\n\u001b[0;32m   1080\u001b[0m         )\n\u001b[0;32m   1082\u001b[0m \u001b[38;5;28;01mif\u001b[39;00m \u001b[38;5;28mlen\u001b[39m(mapped) \u001b[38;5;129;01mand\u001b[39;00m \u001b[38;5;28misinstance\u001b[39m(mapped[\u001b[38;5;241m0\u001b[39m], ABCSeries):\n\u001b[0;32m   1083\u001b[0m     \u001b[38;5;66;03m# GH#43986 Need to do list(mapped) in order to get treated as nested\u001b[39;00m\n\u001b[0;32m   1084\u001b[0m     \u001b[38;5;66;03m#  See also GH#25959 regarding EA support\u001b[39;00m\n\u001b[0;32m   1085\u001b[0m     \u001b[38;5;28;01mreturn\u001b[39;00m obj\u001b[38;5;241m.\u001b[39m_constructor_expanddim(\u001b[38;5;28mlist\u001b[39m(mapped), index\u001b[38;5;241m=\u001b[39mobj\u001b[38;5;241m.\u001b[39mindex)\n",
      "File \u001b[1;32m~\\anaconda3\\Lib\\site-packages\\pandas\\_libs\\lib.pyx:2834\u001b[0m, in \u001b[0;36mpandas._libs.lib.map_infer\u001b[1;34m()\u001b[0m\n",
      "Cell \u001b[1;32mIn[192], line 2\u001b[0m, in \u001b[0;36mcapital_gain\u001b[1;34m(value)\u001b[0m\n\u001b[0;32m      1\u001b[0m \u001b[38;5;28;01mdef\u001b[39;00m \u001b[38;5;21mcapital_gain\u001b[39m(value):\n\u001b[1;32m----> 2\u001b[0m     \u001b[38;5;28;01mif\u001b[39;00m value\u001b[38;5;241m==\u001b[39mdata[\u001b[38;5;124m'\u001b[39m\u001b[38;5;124mCapital_gain\u001b[39m\u001b[38;5;124m'\u001b[39m]\u001b[38;5;241m.\u001b[39mvalue_counts()\u001b[38;5;241m.\u001b[39mindex[\u001b[38;5;241m0\u001b[39m]:\n\u001b[0;32m      3\u001b[0m         \u001b[38;5;28;01mreturn\u001b[39;00m value\n\u001b[0;32m      4\u001b[0m     \u001b[38;5;28;01melse\u001b[39;00m:\n",
      "File \u001b[1;32m~\\anaconda3\\Lib\\site-packages\\pandas\\core\\base.py:1015\u001b[0m, in \u001b[0;36mIndexOpsMixin.value_counts\u001b[1;34m(self, normalize, sort, ascending, bins, dropna)\u001b[0m\n\u001b[0;32m    928\u001b[0m \u001b[38;5;129m@final\u001b[39m\n\u001b[0;32m    929\u001b[0m \u001b[38;5;28;01mdef\u001b[39;00m \u001b[38;5;21mvalue_counts\u001b[39m(\n\u001b[0;32m    930\u001b[0m     \u001b[38;5;28mself\u001b[39m,\n\u001b[1;32m   (...)\u001b[0m\n\u001b[0;32m    935\u001b[0m     dropna: \u001b[38;5;28mbool\u001b[39m \u001b[38;5;241m=\u001b[39m \u001b[38;5;28;01mTrue\u001b[39;00m,\n\u001b[0;32m    936\u001b[0m ) \u001b[38;5;241m-\u001b[39m\u001b[38;5;241m>\u001b[39m Series:\n\u001b[0;32m    937\u001b[0m \u001b[38;5;250m    \u001b[39m\u001b[38;5;124;03m\"\"\"\u001b[39;00m\n\u001b[0;32m    938\u001b[0m \u001b[38;5;124;03m    Return a Series containing counts of unique values.\u001b[39;00m\n\u001b[0;32m    939\u001b[0m \n\u001b[1;32m   (...)\u001b[0m\n\u001b[0;32m   1013\u001b[0m \u001b[38;5;124;03m    Name: count, dtype: int64\u001b[39;00m\n\u001b[0;32m   1014\u001b[0m \u001b[38;5;124;03m    \"\"\"\u001b[39;00m\n\u001b[1;32m-> 1015\u001b[0m     \u001b[38;5;28;01mreturn\u001b[39;00m algorithms\u001b[38;5;241m.\u001b[39mvalue_counts(\n\u001b[0;32m   1016\u001b[0m         \u001b[38;5;28mself\u001b[39m,\n\u001b[0;32m   1017\u001b[0m         sort\u001b[38;5;241m=\u001b[39msort,\n\u001b[0;32m   1018\u001b[0m         ascending\u001b[38;5;241m=\u001b[39mascending,\n\u001b[0;32m   1019\u001b[0m         normalize\u001b[38;5;241m=\u001b[39mnormalize,\n\u001b[0;32m   1020\u001b[0m         bins\u001b[38;5;241m=\u001b[39mbins,\n\u001b[0;32m   1021\u001b[0m         dropna\u001b[38;5;241m=\u001b[39mdropna,\n\u001b[0;32m   1022\u001b[0m     )\n",
      "File \u001b[1;32m~\\anaconda3\\Lib\\site-packages\\pandas\\core\\algorithms.py:899\u001b[0m, in \u001b[0;36mvalue_counts\u001b[1;34m(values, sort, ascending, normalize, bins, dropna)\u001b[0m\n\u001b[0;32m    896\u001b[0m         result \u001b[38;5;241m=\u001b[39m Series(counts, index\u001b[38;5;241m=\u001b[39midx, name\u001b[38;5;241m=\u001b[39mname, copy\u001b[38;5;241m=\u001b[39m\u001b[38;5;28;01mFalse\u001b[39;00m)\n\u001b[0;32m    898\u001b[0m \u001b[38;5;28;01mif\u001b[39;00m sort:\n\u001b[1;32m--> 899\u001b[0m     result \u001b[38;5;241m=\u001b[39m result\u001b[38;5;241m.\u001b[39msort_values(ascending\u001b[38;5;241m=\u001b[39mascending)\n\u001b[0;32m    901\u001b[0m \u001b[38;5;28;01mif\u001b[39;00m normalize:\n\u001b[0;32m    902\u001b[0m     result \u001b[38;5;241m=\u001b[39m result \u001b[38;5;241m/\u001b[39m counts\u001b[38;5;241m.\u001b[39msum()\n",
      "File \u001b[1;32m~\\anaconda3\\Lib\\site-packages\\pandas\\core\\series.py:3634\u001b[0m, in \u001b[0;36mSeries.sort_values\u001b[1;34m(self, axis, ascending, inplace, kind, na_position, ignore_index, key)\u001b[0m\n\u001b[0;32m   3632\u001b[0m \u001b[38;5;66;03m# GH 35922. Make sorting stable by leveraging nargsort\u001b[39;00m\n\u001b[0;32m   3633\u001b[0m values_to_sort \u001b[38;5;241m=\u001b[39m ensure_key_mapped(\u001b[38;5;28mself\u001b[39m, key)\u001b[38;5;241m.\u001b[39m_values \u001b[38;5;28;01mif\u001b[39;00m key \u001b[38;5;28;01melse\u001b[39;00m \u001b[38;5;28mself\u001b[39m\u001b[38;5;241m.\u001b[39m_values\n\u001b[1;32m-> 3634\u001b[0m sorted_index \u001b[38;5;241m=\u001b[39m nargsort(values_to_sort, kind, \u001b[38;5;28mbool\u001b[39m(ascending), na_position)\n\u001b[0;32m   3636\u001b[0m \u001b[38;5;28;01mif\u001b[39;00m is_range_indexer(sorted_index, \u001b[38;5;28mlen\u001b[39m(sorted_index)):\n\u001b[0;32m   3637\u001b[0m     \u001b[38;5;28;01mif\u001b[39;00m inplace:\n",
      "File \u001b[1;32m~\\anaconda3\\Lib\\site-packages\\pandas\\core\\sorting.py:421\u001b[0m, in \u001b[0;36mnargsort\u001b[1;34m(items, kind, ascending, na_position, key, mask)\u001b[0m\n\u001b[0;32m    418\u001b[0m \u001b[38;5;28;01melse\u001b[39;00m:\n\u001b[0;32m    419\u001b[0m     items \u001b[38;5;241m=\u001b[39m np\u001b[38;5;241m.\u001b[39masanyarray(items)\n\u001b[1;32m--> 421\u001b[0m idx \u001b[38;5;241m=\u001b[39m np\u001b[38;5;241m.\u001b[39marange(\u001b[38;5;28mlen\u001b[39m(items))\n\u001b[0;32m    422\u001b[0m non_nans \u001b[38;5;241m=\u001b[39m items[\u001b[38;5;241m~\u001b[39mmask]\n\u001b[0;32m    423\u001b[0m non_nan_idx \u001b[38;5;241m=\u001b[39m idx[\u001b[38;5;241m~\u001b[39mmask]\n",
      "\u001b[1;31mKeyboardInterrupt\u001b[0m: "
     ]
    }
   ],
   "source": [
    "data['Capital_gain'].apply(capital_gain)"
   ]
  },
  {
   "cell_type": "code",
   "execution_count": 200,
   "id": "0f707c4d",
   "metadata": {},
   "outputs": [
    {
     "data": {
      "text/plain": [
       "Capital_gain\n",
       "0            29849\n",
       "Something     2711\n",
       "Name: count, dtype: int64"
      ]
     },
     "execution_count": 200,
     "metadata": {},
     "output_type": "execute_result"
    }
   ],
   "source": [
    "data['Capital_gain'].apply(capital_gain).value_counts()"
   ]
  },
  {
   "cell_type": "code",
   "execution_count": 201,
   "id": "ad1a7704",
   "metadata": {},
   "outputs": [
    {
     "data": {
      "text/plain": [
       "Capital_gain\n",
       "0            29849\n",
       "Something     2711\n",
       "Name: count, dtype: int64"
      ]
     },
     "execution_count": 201,
     "metadata": {},
     "output_type": "execute_result"
    }
   ],
   "source": [
    "data['Capital_gain']=data['Capital_gain'].apply(capital_gain)\n",
    "data['Capital_gain'].value_counts()"
   ]
  },
  {
   "cell_type": "code",
   "execution_count": 202,
   "id": "0b909314",
   "metadata": {},
   "outputs": [
    {
     "data": {
      "image/png": "[encoded data removed]",
      "text/plain": [
       "<Figure size 500x300 with 1 Axes>"
      ]
     },
     "metadata": {},
     "output_type": "display_data"
    }
   ],
   "source": [
    "#Visualization\n",
    "plt.figure(figsize=(5,3))\n",
    "sns.countplot(x=data['Capital_gain'])\n",
    "plt.show()"
   ]
  },
  {
   "cell_type": "code",
   "execution_count": 203,
   "id": "24107b0c",
   "metadata": {},
   "outputs": [
    {
     "data": {
      "image/png": "[encoded data removed]",
      "text/plain": [
       "<Figure size 500x300 with 1 Axes>"
      ]
     },
     "metadata": {},
     "output_type": "display_data"
    }
   ],
   "source": [
    "plt.figure(figsize=(5,3))\n",
    "sns.countplot(x=data['Capital_gain'],hue=data['Income'])\n",
    "plt.show()"
   ]
  },
  {
   "cell_type": "code",
   "execution_count": 205,
   "id": "2a6d5c60",
   "metadata": {},
   "outputs": [],
   "source": [
    "data['Capital_gain']=data['Capital_gain'].astype('str')"
   ]
  },
  {
   "cell_type": "markdown",
   "id": "1b930977",
   "metadata": {},
   "source": [
    "Employees with some capital gain have more chances of having an income of over 50K"
   ]
  },
  {
   "cell_type": "code",
   "execution_count": 206,
   "id": "714314fd",
   "metadata": {},
   "outputs": [
    {
     "data": {
      "text/plain": [
       "Capital_gain\n",
       "0    29849\n",
       "1     2711\n",
       "Name: count, dtype: int64"
      ]
     },
     "execution_count": 206,
     "metadata": {},
     "output_type": "execute_result"
    }
   ],
   "source": [
    "data['Capital_gain']=lab_enc.fit_transform(data['Capital_gain'])\n",
    "data['Capital_gain'].value_counts()"
   ]
  },
  {
   "cell_type": "code",
   "execution_count": 207,
   "id": "aee09e4b",
   "metadata": {},
   "outputs": [
    {
     "data": {
      "text/html": [
       "<div>\n",
       "<style scoped>\n",
       "    .dataframe tbody tr th:only-of-type {\n",
       "        vertical-align: middle;\n",
       "    }\n",
       "\n",
       "    .dataframe tbody tr th {\n",
       "        vertical-align: top;\n",
       "    }\n",
       "\n",
       "    .dataframe thead th {\n",
       "        text-align: right;\n",
       "    }\n",
       "</style>\n",
       "<table border=\"1\" class=\"dataframe\">\n",
       "  <thead>\n",
       "    <tr style=\"text-align: right;\">\n",
       "      <th></th>\n",
       "      <th>Age</th>\n",
       "      <th>Workclass</th>\n",
       "      <th>Fnlwgt</th>\n",
       "      <th>Education</th>\n",
       "      <th>Education_num</th>\n",
       "      <th>Marital_status</th>\n",
       "      <th>Occupation</th>\n",
       "      <th>Relationship</th>\n",
       "      <th>Race</th>\n",
       "      <th>Sex</th>\n",
       "      <th>Capital_gain</th>\n",
       "      <th>Capital_loss</th>\n",
       "      <th>Hours_per_week</th>\n",
       "      <th>Native_country</th>\n",
       "      <th>Income</th>\n",
       "    </tr>\n",
       "  </thead>\n",
       "  <tbody>\n",
       "    <tr>\n",
       "      <th>0</th>\n",
       "      <td>7</td>\n",
       "      <td>1</td>\n",
       "      <td>83311</td>\n",
       "      <td>0</td>\n",
       "      <td>1</td>\n",
       "      <td>1</td>\n",
       "      <td>2</td>\n",
       "      <td>0</td>\n",
       "      <td>1</td>\n",
       "      <td>1</td>\n",
       "      <td>0</td>\n",
       "      <td>0</td>\n",
       "      <td>13</td>\n",
       "      <td>0</td>\n",
       "      <td>&lt;=50K</td>\n",
       "    </tr>\n",
       "    <tr>\n",
       "      <th>1</th>\n",
       "      <td>5</td>\n",
       "      <td>0</td>\n",
       "      <td>215646</td>\n",
       "      <td>1</td>\n",
       "      <td>2</td>\n",
       "      <td>0</td>\n",
       "      <td>5</td>\n",
       "      <td>1</td>\n",
       "      <td>1</td>\n",
       "      <td>1</td>\n",
       "      <td>0</td>\n",
       "      <td>0</td>\n",
       "      <td>40</td>\n",
       "      <td>0</td>\n",
       "      <td>&lt;=50K</td>\n",
       "    </tr>\n",
       "    <tr>\n",
       "      <th>2</th>\n",
       "      <td>8</td>\n",
       "      <td>0</td>\n",
       "      <td>234721</td>\n",
       "      <td>3</td>\n",
       "      <td>3</td>\n",
       "      <td>1</td>\n",
       "      <td>5</td>\n",
       "      <td>0</td>\n",
       "      <td>0</td>\n",
       "      <td>1</td>\n",
       "      <td>0</td>\n",
       "      <td>0</td>\n",
       "      <td>40</td>\n",
       "      <td>0</td>\n",
       "      <td>&lt;=50K</td>\n",
       "    </tr>\n",
       "    <tr>\n",
       "      <th>3</th>\n",
       "      <td>3</td>\n",
       "      <td>0</td>\n",
       "      <td>338409</td>\n",
       "      <td>0</td>\n",
       "      <td>1</td>\n",
       "      <td>1</td>\n",
       "      <td>3</td>\n",
       "      <td>3</td>\n",
       "      <td>0</td>\n",
       "      <td>0</td>\n",
       "      <td>0</td>\n",
       "      <td>0</td>\n",
       "      <td>40</td>\n",
       "      <td>1</td>\n",
       "      <td>&lt;=50K</td>\n",
       "    </tr>\n",
       "    <tr>\n",
       "      <th>4</th>\n",
       "      <td>5</td>\n",
       "      <td>0</td>\n",
       "      <td>284582</td>\n",
       "      <td>3</td>\n",
       "      <td>3</td>\n",
       "      <td>1</td>\n",
       "      <td>2</td>\n",
       "      <td>3</td>\n",
       "      <td>1</td>\n",
       "      <td>0</td>\n",
       "      <td>0</td>\n",
       "      <td>0</td>\n",
       "      <td>40</td>\n",
       "      <td>0</td>\n",
       "      <td>&lt;=50K</td>\n",
       "    </tr>\n",
       "  </tbody>\n",
       "</table>\n",
       "</div>"
      ],
      "text/plain": [
       "   Age  Workclass  Fnlwgt  ...  Hours_per_week  Native_country  Income\n",
       "0    7          1   83311  ...              13               0   <=50K\n",
       "1    5          0  215646  ...              40               0   <=50K\n",
       "2    8          0  234721  ...              40               0   <=50K\n",
       "3    3          0  338409  ...              40               1   <=50K\n",
       "4    5          0  284582  ...              40               0   <=50K\n",
       "\n",
       "[5 rows x 15 columns]"
      ]
     },
     "execution_count": 207,
     "metadata": {},
     "output_type": "execute_result"
    }
   ],
   "source": [
    "data.head()"
   ]
  },
  {
   "cell_type": "code",
   "execution_count": 208,
   "id": "2a0fa418",
   "metadata": {},
   "outputs": [
    {
     "data": {
      "text/plain": [
       "Capital_loss\n",
       "0       31041\n",
       "1902      202\n",
       "1977      168\n",
       "1887      159\n",
       "1848       51\n",
       "        ...  \n",
       "2080        1\n",
       "1539        1\n",
       "1844        1\n",
       "2489        1\n",
       "1411        1\n",
       "Name: count, Length: 92, dtype: int64"
      ]
     },
     "execution_count": 208,
     "metadata": {},
     "output_type": "execute_result"
    }
   ],
   "source": [
    "#Capital loss\n",
    "data['Capital_loss'].value_counts()"
   ]
  },
  {
   "cell_type": "code",
   "execution_count": 209,
   "id": "77076ef9",
   "metadata": {},
   "outputs": [],
   "source": [
    "pd.set_option('display.max_rows',None)"
   ]
  },
  {
   "cell_type": "code",
   "execution_count": 210,
   "id": "7f35fab3",
   "metadata": {},
   "outputs": [
    {
     "data": {
      "text/plain": [
       "Capital_loss\n",
       "0       31041\n",
       "1902      202\n",
       "1977      168\n",
       "1887      159\n",
       "1848       51\n",
       "1485       51\n",
       "2415       49\n",
       "1602       47\n",
       "1740       42\n",
       "1590       40\n",
       "1876       39\n",
       "1672       34\n",
       "1564       25\n",
       "2258       25\n",
       "2001       24\n",
       "1669       24\n",
       "1741       24\n",
       "1980       23\n",
       "1719       22\n",
       "2051       21\n",
       "2002       21\n",
       "1408       21\n",
       "1579       20\n",
       "2377       20\n",
       "1504       18\n",
       "1721       18\n",
       "1974       18\n",
       "2339       17\n",
       "2179       15\n",
       "1628       15\n",
       "1762       14\n",
       "2559       12\n",
       "625        12\n",
       "2444       12\n",
       "2824       10\n",
       "1617        9\n",
       "2042        9\n",
       "2205        9\n",
       "2392        9\n",
       "1651        9\n",
       "1594        8\n",
       "2174        7\n",
       "1380        7\n",
       "1340        7\n",
       "1092        7\n",
       "2206        6\n",
       "2057        6\n",
       "880         6\n",
       "1573        6\n",
       "2246        6\n",
       "2603        5\n",
       "213         4\n",
       "1825        4\n",
       "1668        4\n",
       "1258        4\n",
       "2547        4\n",
       "1726        4\n",
       "2129        3\n",
       "419         3\n",
       "2231        3\n",
       "2267        3\n",
       "2457        3\n",
       "323         3\n",
       "653         3\n",
       "4356        3\n",
       "3770        2\n",
       "1755        2\n",
       "3683        2\n",
       "1648        2\n",
       "2754        2\n",
       "3900        2\n",
       "1138        2\n",
       "2238        2\n",
       "2149        2\n",
       "974         2\n",
       "810         2\n",
       "1816        2\n",
       "3004        2\n",
       "1735        2\n",
       "2352        2\n",
       "2201        1\n",
       "2472        1\n",
       "2163        1\n",
       "2467        1\n",
       "1944        1\n",
       "2282        1\n",
       "155         1\n",
       "2080        1\n",
       "1539        1\n",
       "1844        1\n",
       "2489        1\n",
       "1411        1\n",
       "Name: count, dtype: int64"
      ]
     },
     "execution_count": 210,
     "metadata": {},
     "output_type": "execute_result"
    }
   ],
   "source": [
    "data['Capital_loss'].value_counts()"
   ]
  },
  {
   "cell_type": "code",
   "execution_count": 211,
   "id": "8e86b41b",
   "metadata": {},
   "outputs": [],
   "source": [
    "#Same thing here also most have 0 values\n",
    "def capital_loss(value):\n",
    "    if value==0:\n",
    "        return value\n",
    "    else:\n",
    "        return 'Something'"
   ]
  },
  {
   "cell_type": "code",
   "execution_count": 212,
   "id": "c8ef8554",
   "metadata": {},
   "outputs": [],
   "source": [
    "pd.set_option('display.max_rows',20)"
   ]
  },
  {
   "cell_type": "code",
   "execution_count": 214,
   "id": "27460a8b",
   "metadata": {},
   "outputs": [
    {
     "data": {
      "text/plain": [
       "Capital_loss\n",
       "0            31041\n",
       "Something     1519\n",
       "Name: count, dtype: int64"
      ]
     },
     "execution_count": 214,
     "metadata": {},
     "output_type": "execute_result"
    }
   ],
   "source": [
    "data['Capital_loss'].apply(capital_loss).value_counts()"
   ]
  },
  {
   "cell_type": "code",
   "execution_count": 216,
   "id": "c6ce053f",
   "metadata": {},
   "outputs": [],
   "source": [
    "data['Capital_loss']=data['Capital_loss'].apply(capital_loss)"
   ]
  },
  {
   "cell_type": "code",
   "execution_count": 217,
   "id": "9165d3af",
   "metadata": {},
   "outputs": [
    {
     "data": {
      "image/png": "[encoded data removed]",
      "text/plain": [
       "<Figure size 500x300 with 1 Axes>"
      ]
     },
     "metadata": {},
     "output_type": "display_data"
    }
   ],
   "source": [
    "#Visualization\n",
    "plt.figure(figsize=(5,3))\n",
    "sns.countplot(x=data['Capital_loss'])\n",
    "plt.show()"
   ]
  },
  {
   "cell_type": "code",
   "execution_count": 218,
   "id": "e5ec7694",
   "metadata": {},
   "outputs": [
    {
     "data": {
      "image/png": "[encoded data removed]",
      "text/plain": [
       "<Figure size 500x300 with 1 Axes>"
      ]
     },
     "metadata": {},
     "output_type": "display_data"
    }
   ],
   "source": [
    "#Most of the rows have values 0\n",
    "plt.figure(figsize=(5,3))\n",
    "sns.countplot(x=data['Capital_loss'],hue=data['Income'])\n",
    "plt.show()"
   ]
  },
  {
   "cell_type": "markdown",
   "id": "8c53b543",
   "metadata": {},
   "source": [
    "People with 0 capital loss have more chances of having a income greater than 50k"
   ]
  },
  {
   "cell_type": "code",
   "execution_count": 220,
   "id": "ddf5d7c1",
   "metadata": {},
   "outputs": [],
   "source": [
    "data['Capital_loss']=data['Capital_loss'].astype('str')"
   ]
  },
  {
   "cell_type": "code",
   "execution_count": 221,
   "id": "ed044195",
   "metadata": {},
   "outputs": [
    {
     "data": {
      "text/plain": [
       "Capital_loss\n",
       "0    31041\n",
       "1     1519\n",
       "Name: count, dtype: int64"
      ]
     },
     "execution_count": 221,
     "metadata": {},
     "output_type": "execute_result"
    }
   ],
   "source": [
    "data['Capital_loss']=lab_enc.fit_transform(data['Capital_loss'])\n",
    "data['Capital_loss'].value_counts()"
   ]
  },
  {
   "cell_type": "code",
   "execution_count": 222,
   "id": "3cfb8e25",
   "metadata": {},
   "outputs": [
    {
     "data": {
      "text/plain": [
       "Hours_per_week\n",
       "40    15216\n",
       "50     2819\n",
       "45     1824\n",
       "60     1475\n",
       "35     1297\n",
       "      ...  \n",
       "82        1\n",
       "94        1\n",
       "92        1\n",
       "74        1\n",
       "87        1\n",
       "Name: count, Length: 94, dtype: int64"
      ]
     },
     "execution_count": 222,
     "metadata": {},
     "output_type": "execute_result"
    }
   ],
   "source": [
    "#Hours per week\n",
    "data['Hours_per_week'].value_counts()"
   ]
  },
  {
   "cell_type": "code",
   "execution_count": 223,
   "id": "94cc7bab",
   "metadata": {},
   "outputs": [],
   "source": [
    "pd.set_option('display.max_rows',None)"
   ]
  },
  {
   "cell_type": "code",
   "execution_count": 224,
   "id": "86d5fb69",
   "metadata": {},
   "outputs": [
    {
     "data": {
      "text/plain": [
       "Hours_per_week\n",
       "40    15216\n",
       "50     2819\n",
       "45     1824\n",
       "60     1475\n",
       "35     1297\n",
       "20     1224\n",
       "30     1149\n",
       "55      694\n",
       "25      674\n",
       "48      517\n",
       "38      476\n",
       "15      404\n",
       "70      291\n",
       "10      278\n",
       "32      266\n",
       "24      252\n",
       "65      244\n",
       "36      220\n",
       "42      219\n",
       "44      212\n",
       "16      205\n",
       "12      173\n",
       "43      151\n",
       "37      149\n",
       "8       145\n",
       "52      138\n",
       "80      133\n",
       "56       97\n",
       "28       86\n",
       "99       85\n",
       "46       82\n",
       "18       75\n",
       "72       71\n",
       "75       66\n",
       "6        64\n",
       "5        60\n",
       "4        54\n",
       "47       49\n",
       "84       45\n",
       "22       44\n",
       "54       41\n",
       "3        39\n",
       "33       39\n",
       "39       38\n",
       "41       36\n",
       "14       34\n",
       "2        32\n",
       "27       30\n",
       "26       30\n",
       "49       29\n",
       "17       29\n",
       "90       29\n",
       "34       28\n",
       "58       28\n",
       "7        26\n",
       "53       25\n",
       "21       24\n",
       "13       23\n",
       "23       21\n",
       "1        20\n",
       "62       18\n",
       "9        18\n",
       "57       17\n",
       "66       17\n",
       "19       14\n",
       "64       14\n",
       "85       13\n",
       "51       13\n",
       "68       12\n",
       "11       11\n",
       "98       11\n",
       "63       10\n",
       "78        8\n",
       "29        7\n",
       "77        6\n",
       "31        5\n",
       "59        5\n",
       "96        5\n",
       "67        4\n",
       "76        3\n",
       "81        3\n",
       "91        3\n",
       "61        2\n",
       "86        2\n",
       "95        2\n",
       "97        2\n",
       "89        2\n",
       "73        2\n",
       "88        2\n",
       "82        1\n",
       "94        1\n",
       "92        1\n",
       "74        1\n",
       "87        1\n",
       "Name: count, dtype: int64"
      ]
     },
     "execution_count": 224,
     "metadata": {},
     "output_type": "execute_result"
    }
   ],
   "source": [
    "data['Hours_per_week'].value_counts()"
   ]
  },
  {
   "cell_type": "code",
   "execution_count": 226,
   "id": "8c1f44ce",
   "metadata": {},
   "outputs": [],
   "source": [
    "index=data['Hours_per_week'].value_counts().index"
   ]
  },
  {
   "cell_type": "code",
   "execution_count": 227,
   "id": "768d3ffd",
   "metadata": {},
   "outputs": [
    {
     "data": {
      "text/plain": [
       "Index([40, 50, 45, 60, 35, 20, 30, 55, 25, 48, 38, 15, 70, 10, 32, 24, 65, 36,\n",
       "       42, 44, 16, 12, 43, 37,  8, 52, 80, 56, 28, 99, 46, 18, 72, 75,  6,  5,\n",
       "        4, 47, 84, 22, 54,  3, 33, 39, 41, 14,  2, 27, 26, 49, 17, 90, 34, 58,\n",
       "        7, 53, 21, 13, 23,  1, 62,  9, 57, 66, 19, 64, 85, 51, 68, 11, 98, 63,\n",
       "       78, 29, 77, 31, 59, 96, 67, 76, 81, 91, 61, 86, 95, 97, 89, 73, 88, 82,\n",
       "       94, 92, 74, 87],\n",
       "      dtype='int64', name='Hours_per_week')"
      ]
     },
     "execution_count": 227,
     "metadata": {},
     "output_type": "execute_result"
    }
   ],
   "source": [
    "index"
   ]
  },
  {
   "cell_type": "code",
   "execution_count": null,
   "id": "92cf64ac",
   "metadata": {},
   "outputs": [],
   "source": [
    "#This column is also discrete and we should group this column also and we will do this"
   ]
  },
  {
   "cell_type": "code",
   "execution_count": 229,
   "id": "8fce6c6d",
   "metadata": {},
   "outputs": [
    {
     "data": {
      "text/plain": [
       "Hours_per_week\n",
       "1        20\n",
       "2        32\n",
       "3        39\n",
       "4        54\n",
       "5        60\n",
       "6        64\n",
       "7        26\n",
       "8       145\n",
       "9        18\n",
       "10      278\n",
       "11       11\n",
       "12      173\n",
       "13       23\n",
       "14       34\n",
       "15      404\n",
       "16      205\n",
       "17       29\n",
       "18       75\n",
       "19       14\n",
       "20     1224\n",
       "21       24\n",
       "22       44\n",
       "23       21\n",
       "24      252\n",
       "25      674\n",
       "26       30\n",
       "27       30\n",
       "28       86\n",
       "29        7\n",
       "30     1149\n",
       "31        5\n",
       "32      266\n",
       "33       39\n",
       "34       28\n",
       "35     1297\n",
       "36      220\n",
       "37      149\n",
       "38      476\n",
       "39       38\n",
       "40    15216\n",
       "41       36\n",
       "42      219\n",
       "43      151\n",
       "44      212\n",
       "45     1824\n",
       "46       82\n",
       "47       49\n",
       "48      517\n",
       "49       29\n",
       "50     2819\n",
       "51       13\n",
       "52      138\n",
       "53       25\n",
       "54       41\n",
       "55      694\n",
       "56       97\n",
       "57       17\n",
       "58       28\n",
       "59        5\n",
       "60     1475\n",
       "61        2\n",
       "62       18\n",
       "63       10\n",
       "64       14\n",
       "65      244\n",
       "66       17\n",
       "67        4\n",
       "68       12\n",
       "70      291\n",
       "72       71\n",
       "73        2\n",
       "74        1\n",
       "75       66\n",
       "76        3\n",
       "77        6\n",
       "78        8\n",
       "80      133\n",
       "81        3\n",
       "82        1\n",
       "84       45\n",
       "85       13\n",
       "86        2\n",
       "87        1\n",
       "88        2\n",
       "89        2\n",
       "90       29\n",
       "91        3\n",
       "92        1\n",
       "94        1\n",
       "95        2\n",
       "96        5\n",
       "97        2\n",
       "98       11\n",
       "99       85\n",
       "Name: count, dtype: int64"
      ]
     },
     "execution_count": 229,
     "metadata": {},
     "output_type": "execute_result"
    }
   ],
   "source": [
    "data['Hours_per_week'].value_counts().sort_index()"
   ]
  },
  {
   "cell_type": "markdown",
   "id": "c76ab0f3",
   "metadata": {},
   "source": [
    "There is a very high randomness in the value counts so it will not be a wise idea to group them because there is no trend here i this columns. So we will use this columns as it is"
   ]
  },
  {
   "cell_type": "code",
   "execution_count": 230,
   "id": "5b4d47ef",
   "metadata": {},
   "outputs": [
    {
     "data": {
      "text/html": [
       "<div>\n",
       "<style scoped>\n",
       "    .dataframe tbody tr th:only-of-type {\n",
       "        vertical-align: middle;\n",
       "    }\n",
       "\n",
       "    .dataframe tbody tr th {\n",
       "        vertical-align: top;\n",
       "    }\n",
       "\n",
       "    .dataframe thead th {\n",
       "        text-align: right;\n",
       "    }\n",
       "</style>\n",
       "<table border=\"1\" class=\"dataframe\">\n",
       "  <thead>\n",
       "    <tr style=\"text-align: right;\">\n",
       "      <th></th>\n",
       "      <th>Age</th>\n",
       "      <th>Workclass</th>\n",
       "      <th>Fnlwgt</th>\n",
       "      <th>Education</th>\n",
       "      <th>Education_num</th>\n",
       "      <th>Marital_status</th>\n",
       "      <th>Occupation</th>\n",
       "      <th>Relationship</th>\n",
       "      <th>Race</th>\n",
       "      <th>Sex</th>\n",
       "      <th>Capital_gain</th>\n",
       "      <th>Capital_loss</th>\n",
       "      <th>Hours_per_week</th>\n",
       "      <th>Native_country</th>\n",
       "      <th>Income</th>\n",
       "    </tr>\n",
       "  </thead>\n",
       "  <tbody>\n",
       "    <tr>\n",
       "      <th>0</th>\n",
       "      <td>7</td>\n",
       "      <td>1</td>\n",
       "      <td>83311</td>\n",
       "      <td>0</td>\n",
       "      <td>1</td>\n",
       "      <td>1</td>\n",
       "      <td>2</td>\n",
       "      <td>0</td>\n",
       "      <td>1</td>\n",
       "      <td>1</td>\n",
       "      <td>0</td>\n",
       "      <td>0</td>\n",
       "      <td>13</td>\n",
       "      <td>0</td>\n",
       "      <td>&lt;=50K</td>\n",
       "    </tr>\n",
       "    <tr>\n",
       "      <th>1</th>\n",
       "      <td>5</td>\n",
       "      <td>0</td>\n",
       "      <td>215646</td>\n",
       "      <td>1</td>\n",
       "      <td>2</td>\n",
       "      <td>0</td>\n",
       "      <td>5</td>\n",
       "      <td>1</td>\n",
       "      <td>1</td>\n",
       "      <td>1</td>\n",
       "      <td>0</td>\n",
       "      <td>0</td>\n",
       "      <td>40</td>\n",
       "      <td>0</td>\n",
       "      <td>&lt;=50K</td>\n",
       "    </tr>\n",
       "    <tr>\n",
       "      <th>2</th>\n",
       "      <td>8</td>\n",
       "      <td>0</td>\n",
       "      <td>234721</td>\n",
       "      <td>3</td>\n",
       "      <td>3</td>\n",
       "      <td>1</td>\n",
       "      <td>5</td>\n",
       "      <td>0</td>\n",
       "      <td>0</td>\n",
       "      <td>1</td>\n",
       "      <td>0</td>\n",
       "      <td>0</td>\n",
       "      <td>40</td>\n",
       "      <td>0</td>\n",
       "      <td>&lt;=50K</td>\n",
       "    </tr>\n",
       "    <tr>\n",
       "      <th>3</th>\n",
       "      <td>3</td>\n",
       "      <td>0</td>\n",
       "      <td>338409</td>\n",
       "      <td>0</td>\n",
       "      <td>1</td>\n",
       "      <td>1</td>\n",
       "      <td>3</td>\n",
       "      <td>3</td>\n",
       "      <td>0</td>\n",
       "      <td>0</td>\n",
       "      <td>0</td>\n",
       "      <td>0</td>\n",
       "      <td>40</td>\n",
       "      <td>1</td>\n",
       "      <td>&lt;=50K</td>\n",
       "    </tr>\n",
       "    <tr>\n",
       "      <th>4</th>\n",
       "      <td>5</td>\n",
       "      <td>0</td>\n",
       "      <td>284582</td>\n",
       "      <td>3</td>\n",
       "      <td>3</td>\n",
       "      <td>1</td>\n",
       "      <td>2</td>\n",
       "      <td>3</td>\n",
       "      <td>1</td>\n",
       "      <td>0</td>\n",
       "      <td>0</td>\n",
       "      <td>0</td>\n",
       "      <td>40</td>\n",
       "      <td>0</td>\n",
       "      <td>&lt;=50K</td>\n",
       "    </tr>\n",
       "  </tbody>\n",
       "</table>\n",
       "</div>"
      ],
      "text/plain": [
       "   Age  Workclass  Fnlwgt  ...  Hours_per_week  Native_country  Income\n",
       "0    7          1   83311  ...              13               0   <=50K\n",
       "1    5          0  215646  ...              40               0   <=50K\n",
       "2    8          0  234721  ...              40               0   <=50K\n",
       "3    3          0  338409  ...              40               1   <=50K\n",
       "4    5          0  284582  ...              40               0   <=50K\n",
       "\n",
       "[5 rows x 15 columns]"
      ]
     },
     "execution_count": 230,
     "metadata": {},
     "output_type": "execute_result"
    }
   ],
   "source": [
    "data.head()"
   ]
  },
  {
   "cell_type": "code",
   "execution_count": 231,
   "id": "4d0d5387",
   "metadata": {},
   "outputs": [
    {
     "data": {
      "text/plain": [
       "Income\n",
       " <=50K    24719\n",
       " >50K      7841\n",
       "Name: count, dtype: int64"
      ]
     },
     "execution_count": 231,
     "metadata": {},
     "output_type": "execute_result"
    }
   ],
   "source": [
    "#The label\n",
    "data['Income'].value_counts()"
   ]
  },
  {
   "cell_type": "markdown",
   "id": "70b6789b",
   "metadata": {},
   "source": [
    "#So there is a clear imbalance in the dataset. We will first make the model using this only if  it will not give a good accuracy than we can proceed towards the balancing of the label"
   ]
  },
  {
   "cell_type": "code",
   "execution_count": 232,
   "id": "dc16257b",
   "metadata": {},
   "outputs": [
    {
     "data": {
      "image/png": "[encoded data removed]",
      "text/plain": [
       "<Figure size 500x300 with 1 Axes>"
      ]
     },
     "metadata": {},
     "output_type": "display_data"
    }
   ],
   "source": [
    "#Visualization\n",
    "plt.figure(figsize=(5,3))\n",
    "sns.countplot(x=data['Income'])\n",
    "plt.show()"
   ]
  },
  {
   "cell_type": "code",
   "execution_count": 233,
   "id": "7cdb6d40",
   "metadata": {},
   "outputs": [],
   "source": [
    "#Let us label encode the columns after that we can proceed to the model building\n",
    "data['Income']=lab_enc.fit_transform(data['Income'])"
   ]
  },
  {
   "cell_type": "code",
   "execution_count": 234,
   "id": "4acb1768",
   "metadata": {},
   "outputs": [
    {
     "data": {
      "text/plain": [
       "Income\n",
       "0    24719\n",
       "1     7841\n",
       "Name: count, dtype: int64"
      ]
     },
     "execution_count": 234,
     "metadata": {},
     "output_type": "execute_result"
    }
   ],
   "source": [
    "data['Income'].value_counts()"
   ]
  },
  {
   "cell_type": "code",
   "execution_count": 235,
   "id": "ef469078",
   "metadata": {},
   "outputs": [
    {
     "data": {
      "text/html": [
       "<div>\n",
       "<style scoped>\n",
       "    .dataframe tbody tr th:only-of-type {\n",
       "        vertical-align: middle;\n",
       "    }\n",
       "\n",
       "    .dataframe tbody tr th {\n",
       "        vertical-align: top;\n",
       "    }\n",
       "\n",
       "    .dataframe thead th {\n",
       "        text-align: right;\n",
       "    }\n",
       "</style>\n",
       "<table border=\"1\" class=\"dataframe\">\n",
       "  <thead>\n",
       "    <tr style=\"text-align: right;\">\n",
       "      <th></th>\n",
       "      <th>Age</th>\n",
       "      <th>Workclass</th>\n",
       "      <th>Fnlwgt</th>\n",
       "      <th>Education</th>\n",
       "      <th>Education_num</th>\n",
       "      <th>Marital_status</th>\n",
       "      <th>Occupation</th>\n",
       "      <th>Relationship</th>\n",
       "      <th>Race</th>\n",
       "      <th>Sex</th>\n",
       "      <th>Capital_gain</th>\n",
       "      <th>Capital_loss</th>\n",
       "      <th>Hours_per_week</th>\n",
       "      <th>Native_country</th>\n",
       "      <th>Income</th>\n",
       "    </tr>\n",
       "  </thead>\n",
       "  <tbody>\n",
       "    <tr>\n",
       "      <th>0</th>\n",
       "      <td>7</td>\n",
       "      <td>1</td>\n",
       "      <td>83311</td>\n",
       "      <td>0</td>\n",
       "      <td>1</td>\n",
       "      <td>1</td>\n",
       "      <td>2</td>\n",
       "      <td>0</td>\n",
       "      <td>1</td>\n",
       "      <td>1</td>\n",
       "      <td>0</td>\n",
       "      <td>0</td>\n",
       "      <td>13</td>\n",
       "      <td>0</td>\n",
       "      <td>0</td>\n",
       "    </tr>\n",
       "    <tr>\n",
       "      <th>1</th>\n",
       "      <td>5</td>\n",
       "      <td>0</td>\n",
       "      <td>215646</td>\n",
       "      <td>1</td>\n",
       "      <td>2</td>\n",
       "      <td>0</td>\n",
       "      <td>5</td>\n",
       "      <td>1</td>\n",
       "      <td>1</td>\n",
       "      <td>1</td>\n",
       "      <td>0</td>\n",
       "      <td>0</td>\n",
       "      <td>40</td>\n",
       "      <td>0</td>\n",
       "      <td>0</td>\n",
       "    </tr>\n",
       "    <tr>\n",
       "      <th>2</th>\n",
       "      <td>8</td>\n",
       "      <td>0</td>\n",
       "      <td>234721</td>\n",
       "      <td>3</td>\n",
       "      <td>3</td>\n",
       "      <td>1</td>\n",
       "      <td>5</td>\n",
       "      <td>0</td>\n",
       "      <td>0</td>\n",
       "      <td>1</td>\n",
       "      <td>0</td>\n",
       "      <td>0</td>\n",
       "      <td>40</td>\n",
       "      <td>0</td>\n",
       "      <td>0</td>\n",
       "    </tr>\n",
       "    <tr>\n",
       "      <th>3</th>\n",
       "      <td>3</td>\n",
       "      <td>0</td>\n",
       "      <td>338409</td>\n",
       "      <td>0</td>\n",
       "      <td>1</td>\n",
       "      <td>1</td>\n",
       "      <td>3</td>\n",
       "      <td>3</td>\n",
       "      <td>0</td>\n",
       "      <td>0</td>\n",
       "      <td>0</td>\n",
       "      <td>0</td>\n",
       "      <td>40</td>\n",
       "      <td>1</td>\n",
       "      <td>0</td>\n",
       "    </tr>\n",
       "    <tr>\n",
       "      <th>4</th>\n",
       "      <td>5</td>\n",
       "      <td>0</td>\n",
       "      <td>284582</td>\n",
       "      <td>3</td>\n",
       "      <td>3</td>\n",
       "      <td>1</td>\n",
       "      <td>2</td>\n",
       "      <td>3</td>\n",
       "      <td>1</td>\n",
       "      <td>0</td>\n",
       "      <td>0</td>\n",
       "      <td>0</td>\n",
       "      <td>40</td>\n",
       "      <td>0</td>\n",
       "      <td>0</td>\n",
       "    </tr>\n",
       "  </tbody>\n",
       "</table>\n",
       "</div>"
      ],
      "text/plain": [
       "   Age  Workclass  Fnlwgt  ...  Hours_per_week  Native_country  Income\n",
       "0    7          1   83311  ...              13               0       0\n",
       "1    5          0  215646  ...              40               0       0\n",
       "2    8          0  234721  ...              40               0       0\n",
       "3    3          0  338409  ...              40               1       0\n",
       "4    5          0  284582  ...              40               0       0\n",
       "\n",
       "[5 rows x 15 columns]"
      ]
     },
     "execution_count": 235,
     "metadata": {},
     "output_type": "execute_result"
    }
   ],
   "source": [
    "data.head()"
   ]
  },
  {
   "cell_type": "code",
   "execution_count": 236,
   "id": "14864c90",
   "metadata": {},
   "outputs": [
    {
     "data": {
      "text/plain": [
       "<Figure size 500x300 with 0 Axes>"
      ]
     },
     "metadata": {},
     "output_type": "display_data"
    },
    {
     "data": {
      "image/png": "[encoded data removed]",
      "text/plain": [
       "<Figure size 500x500 with 1 Axes>"
      ]
     },
     "metadata": {},
     "output_type": "display_data"
    }
   ],
   "source": [
    "#There is only one continous column in our dataset which is he fnlwgt let us see and treat this\n",
    "plt.figure(figsize=(5,3))\n",
    "sns.catplot(x=data['Income'],y=data['Fnlwgt'])\n",
    "plt.show()"
   ]
  },
  {
   "cell_type": "code",
   "execution_count": 237,
   "id": "be44539a",
   "metadata": {},
   "outputs": [
    {
     "data": {
      "text/plain": [
       "<Figure size 500x300 with 0 Axes>"
      ]
     },
     "metadata": {},
     "output_type": "display_data"
    },
    {
     "data": {
      "image/png": "[encoded data removed]",
      "text/plain": [
       "<Figure size 500x500 with 1 Axes>"
      ]
     },
     "metadata": {},
     "output_type": "display_data"
    }
   ],
   "source": [
    "#Distribution of the columns\n",
    "plt.figure(figsize=(5,3))\n",
    "sns.displot(data['Fnlwgt'])\n",
    "plt.show()"
   ]
  },
  {
   "cell_type": "code",
   "execution_count": 238,
   "id": "b7324ac2",
   "metadata": {},
   "outputs": [],
   "source": [
    "#Let us see the zscore and see if there is any outlier or not because zscore can help to treat the outliers\n",
    "from scipy.stats import zscore"
   ]
  },
  {
   "cell_type": "code",
   "execution_count": 239,
   "id": "f08dbbe1",
   "metadata": {},
   "outputs": [],
   "source": [
    "Zscore=np.abs(zscore(data['Fnlwgt']))"
   ]
  },
  {
   "cell_type": "code",
   "execution_count": 241,
   "id": "97e53dc4",
   "metadata": {},
   "outputs": [],
   "source": [
    "pd.set_option('display.max_rows',15)"
   ]
  },
  {
   "cell_type": "code",
   "execution_count": 242,
   "id": "f85b7665",
   "metadata": {},
   "outputs": [
    {
     "data": {
      "text/plain": [
       "0        1.008742\n",
       "1        0.245046\n",
       "2        0.425770\n",
       "3        1.408146\n",
       "4        0.898170\n",
       "           ...   \n",
       "32555    0.639710\n",
       "32556    0.335466\n",
       "32557    0.358811\n",
       "32558    0.110927\n",
       "32559    0.929862\n",
       "Name: Fnlwgt, Length: 32560, dtype: float64"
      ]
     },
     "execution_count": 242,
     "metadata": {},
     "output_type": "execute_result"
    }
   ],
   "source": [
    "Zscore"
   ]
  },
  {
   "cell_type": "code",
   "execution_count": 257,
   "id": "50101c7b",
   "metadata": {},
   "outputs": [],
   "source": [
    "index=np.where(Zscore>3) #The index where the zscore was greater than 3"
   ]
  },
  {
   "cell_type": "code",
   "execution_count": 259,
   "id": "9bc287ae",
   "metadata": {},
   "outputs": [
    {
     "data": {
      "text/plain": [
       "347"
      ]
     },
     "execution_count": 259,
     "metadata": {},
     "output_type": "execute_result"
    }
   ],
   "source": [
    "len(index[0])"
   ]
  },
  {
   "cell_type": "code",
   "execution_count": null,
   "id": "9f6d9269",
   "metadata": {},
   "outputs": [],
   "source": [
    "#Let uss see how much data we will loose if we delete this"
   ]
  },
  {
   "cell_type": "code",
   "execution_count": 267,
   "id": "82b2f146",
   "metadata": {},
   "outputs": [],
   "source": [
    "shape=data.shape[0]"
   ]
  },
  {
   "cell_type": "code",
   "execution_count": 268,
   "id": "736d07c2",
   "metadata": {},
   "outputs": [
    {
     "name": "stdout",
     "output_type": "stream",
     "text": [
      "1.0657248157248156\n"
     ]
    }
   ],
   "source": [
    "print((len(index[0])/shape)*100)"
   ]
  },
  {
   "cell_type": "code",
   "execution_count": 269,
   "id": "e9b2a855",
   "metadata": {},
   "outputs": [],
   "source": [
    "#SO this is only 1% so we can delete this for sure"
   ]
  },
  {
   "cell_type": "code",
   "execution_count": 272,
   "id": "252b1c1e",
   "metadata": {},
   "outputs": [],
   "source": [
    "data=data.drop(index=index[0])"
   ]
  },
  {
   "cell_type": "code",
   "execution_count": 274,
   "id": "908e854b",
   "metadata": {},
   "outputs": [],
   "source": [
    "data.reset_index(inplace=True)"
   ]
  },
  {
   "cell_type": "code",
   "execution_count": 276,
   "id": "fb77e46f",
   "metadata": {},
   "outputs": [],
   "source": [
    "data=data.drop(columns='index')"
   ]
  },
  {
   "cell_type": "code",
   "execution_count": 277,
   "id": "d38d0596",
   "metadata": {},
   "outputs": [
    {
     "data": {
      "text/html": [
       "<div>\n",
       "<style scoped>\n",
       "    .dataframe tbody tr th:only-of-type {\n",
       "        vertical-align: middle;\n",
       "    }\n",
       "\n",
       "    .dataframe tbody tr th {\n",
       "        vertical-align: top;\n",
       "    }\n",
       "\n",
       "    .dataframe thead th {\n",
       "        text-align: right;\n",
       "    }\n",
       "</style>\n",
       "<table border=\"1\" class=\"dataframe\">\n",
       "  <thead>\n",
       "    <tr style=\"text-align: right;\">\n",
       "      <th></th>\n",
       "      <th>Age</th>\n",
       "      <th>Workclass</th>\n",
       "      <th>Fnlwgt</th>\n",
       "      <th>Education</th>\n",
       "      <th>Education_num</th>\n",
       "      <th>Marital_status</th>\n",
       "      <th>Occupation</th>\n",
       "      <th>Relationship</th>\n",
       "      <th>Race</th>\n",
       "      <th>Sex</th>\n",
       "      <th>Capital_gain</th>\n",
       "      <th>Capital_loss</th>\n",
       "      <th>Hours_per_week</th>\n",
       "      <th>Native_country</th>\n",
       "      <th>Income</th>\n",
       "    </tr>\n",
       "  </thead>\n",
       "  <tbody>\n",
       "    <tr>\n",
       "      <th>0</th>\n",
       "      <td>7</td>\n",
       "      <td>1</td>\n",
       "      <td>83311</td>\n",
       "      <td>0</td>\n",
       "      <td>1</td>\n",
       "      <td>1</td>\n",
       "      <td>2</td>\n",
       "      <td>0</td>\n",
       "      <td>1</td>\n",
       "      <td>1</td>\n",
       "      <td>0</td>\n",
       "      <td>0</td>\n",
       "      <td>13</td>\n",
       "      <td>0</td>\n",
       "      <td>0</td>\n",
       "    </tr>\n",
       "    <tr>\n",
       "      <th>1</th>\n",
       "      <td>5</td>\n",
       "      <td>0</td>\n",
       "      <td>215646</td>\n",
       "      <td>1</td>\n",
       "      <td>2</td>\n",
       "      <td>0</td>\n",
       "      <td>5</td>\n",
       "      <td>1</td>\n",
       "      <td>1</td>\n",
       "      <td>1</td>\n",
       "      <td>0</td>\n",
       "      <td>0</td>\n",
       "      <td>40</td>\n",
       "      <td>0</td>\n",
       "      <td>0</td>\n",
       "    </tr>\n",
       "    <tr>\n",
       "      <th>2</th>\n",
       "      <td>8</td>\n",
       "      <td>0</td>\n",
       "      <td>234721</td>\n",
       "      <td>3</td>\n",
       "      <td>3</td>\n",
       "      <td>1</td>\n",
       "      <td>5</td>\n",
       "      <td>0</td>\n",
       "      <td>0</td>\n",
       "      <td>1</td>\n",
       "      <td>0</td>\n",
       "      <td>0</td>\n",
       "      <td>40</td>\n",
       "      <td>0</td>\n",
       "      <td>0</td>\n",
       "    </tr>\n",
       "    <tr>\n",
       "      <th>3</th>\n",
       "      <td>3</td>\n",
       "      <td>0</td>\n",
       "      <td>338409</td>\n",
       "      <td>0</td>\n",
       "      <td>1</td>\n",
       "      <td>1</td>\n",
       "      <td>3</td>\n",
       "      <td>3</td>\n",
       "      <td>0</td>\n",
       "      <td>0</td>\n",
       "      <td>0</td>\n",
       "      <td>0</td>\n",
       "      <td>40</td>\n",
       "      <td>1</td>\n",
       "      <td>0</td>\n",
       "    </tr>\n",
       "    <tr>\n",
       "      <th>4</th>\n",
       "      <td>5</td>\n",
       "      <td>0</td>\n",
       "      <td>284582</td>\n",
       "      <td>3</td>\n",
       "      <td>3</td>\n",
       "      <td>1</td>\n",
       "      <td>2</td>\n",
       "      <td>3</td>\n",
       "      <td>1</td>\n",
       "      <td>0</td>\n",
       "      <td>0</td>\n",
       "      <td>0</td>\n",
       "      <td>40</td>\n",
       "      <td>0</td>\n",
       "      <td>0</td>\n",
       "    </tr>\n",
       "    <tr>\n",
       "      <th>...</th>\n",
       "      <td>...</td>\n",
       "      <td>...</td>\n",
       "      <td>...</td>\n",
       "      <td>...</td>\n",
       "      <td>...</td>\n",
       "      <td>...</td>\n",
       "      <td>...</td>\n",
       "      <td>...</td>\n",
       "      <td>...</td>\n",
       "      <td>...</td>\n",
       "      <td>...</td>\n",
       "      <td>...</td>\n",
       "      <td>...</td>\n",
       "      <td>...</td>\n",
       "      <td>...</td>\n",
       "    </tr>\n",
       "    <tr>\n",
       "      <th>32208</th>\n",
       "      <td>3</td>\n",
       "      <td>0</td>\n",
       "      <td>257302</td>\n",
       "      <td>3</td>\n",
       "      <td>3</td>\n",
       "      <td>1</td>\n",
       "      <td>6</td>\n",
       "      <td>3</td>\n",
       "      <td>1</td>\n",
       "      <td>0</td>\n",
       "      <td>0</td>\n",
       "      <td>0</td>\n",
       "      <td>38</td>\n",
       "      <td>0</td>\n",
       "      <td>0</td>\n",
       "    </tr>\n",
       "    <tr>\n",
       "      <th>32209</th>\n",
       "      <td>5</td>\n",
       "      <td>0</td>\n",
       "      <td>154374</td>\n",
       "      <td>1</td>\n",
       "      <td>2</td>\n",
       "      <td>1</td>\n",
       "      <td>5</td>\n",
       "      <td>0</td>\n",
       "      <td>1</td>\n",
       "      <td>1</td>\n",
       "      <td>0</td>\n",
       "      <td>0</td>\n",
       "      <td>40</td>\n",
       "      <td>0</td>\n",
       "      <td>1</td>\n",
       "    </tr>\n",
       "    <tr>\n",
       "      <th>32210</th>\n",
       "      <td>9</td>\n",
       "      <td>0</td>\n",
       "      <td>151910</td>\n",
       "      <td>1</td>\n",
       "      <td>2</td>\n",
       "      <td>3</td>\n",
       "      <td>0</td>\n",
       "      <td>3</td>\n",
       "      <td>1</td>\n",
       "      <td>0</td>\n",
       "      <td>0</td>\n",
       "      <td>0</td>\n",
       "      <td>40</td>\n",
       "      <td>0</td>\n",
       "      <td>0</td>\n",
       "    </tr>\n",
       "    <tr>\n",
       "      <th>32211</th>\n",
       "      <td>2</td>\n",
       "      <td>0</td>\n",
       "      <td>201490</td>\n",
       "      <td>1</td>\n",
       "      <td>2</td>\n",
       "      <td>2</td>\n",
       "      <td>0</td>\n",
       "      <td>2</td>\n",
       "      <td>1</td>\n",
       "      <td>1</td>\n",
       "      <td>0</td>\n",
       "      <td>0</td>\n",
       "      <td>20</td>\n",
       "      <td>0</td>\n",
       "      <td>0</td>\n",
       "    </tr>\n",
       "    <tr>\n",
       "      <th>32212</th>\n",
       "      <td>8</td>\n",
       "      <td>1</td>\n",
       "      <td>287927</td>\n",
       "      <td>1</td>\n",
       "      <td>2</td>\n",
       "      <td>1</td>\n",
       "      <td>2</td>\n",
       "      <td>3</td>\n",
       "      <td>1</td>\n",
       "      <td>0</td>\n",
       "      <td>1</td>\n",
       "      <td>0</td>\n",
       "      <td>40</td>\n",
       "      <td>0</td>\n",
       "      <td>1</td>\n",
       "    </tr>\n",
       "  </tbody>\n",
       "</table>\n",
       "<p>32213 rows × 15 columns</p>\n",
       "</div>"
      ],
      "text/plain": [
       "       Age  Workclass  Fnlwgt  ...  Hours_per_week  Native_country  Income\n",
       "0        7          1   83311  ...              13               0       0\n",
       "1        5          0  215646  ...              40               0       0\n",
       "2        8          0  234721  ...              40               0       0\n",
       "3        3          0  338409  ...              40               1       0\n",
       "4        5          0  284582  ...              40               0       0\n",
       "...    ...        ...     ...  ...             ...             ...     ...\n",
       "32208    3          0  257302  ...              38               0       0\n",
       "32209    5          0  154374  ...              40               0       1\n",
       "32210    9          0  151910  ...              40               0       0\n",
       "32211    2          0  201490  ...              20               0       0\n",
       "32212    8          1  287927  ...              40               0       1\n",
       "\n",
       "[32213 rows x 15 columns]"
      ]
     },
     "execution_count": 277,
     "metadata": {},
     "output_type": "execute_result"
    }
   ],
   "source": [
    "data"
   ]
  },
  {
   "cell_type": "code",
   "execution_count": 278,
   "id": "a2c3a8dd",
   "metadata": {},
   "outputs": [],
   "source": [
    "#So succesfully deleted the outliers also\n",
    "ZScore=np.abs(zscore(data['Fnlwgt']))"
   ]
  },
  {
   "cell_type": "code",
   "execution_count": 288,
   "id": "444699f3",
   "metadata": {},
   "outputs": [
    {
     "data": {
      "text/html": [
       "<div>\n",
       "<style scoped>\n",
       "    .dataframe tbody tr th:only-of-type {\n",
       "        vertical-align: middle;\n",
       "    }\n",
       "\n",
       "    .dataframe tbody tr th {\n",
       "        vertical-align: top;\n",
       "    }\n",
       "\n",
       "    .dataframe thead th {\n",
       "        text-align: right;\n",
       "    }\n",
       "</style>\n",
       "<table border=\"1\" class=\"dataframe\">\n",
       "  <thead>\n",
       "    <tr style=\"text-align: right;\">\n",
       "      <th></th>\n",
       "      <th>Age</th>\n",
       "      <th>Workclass</th>\n",
       "      <th>Fnlwgt</th>\n",
       "      <th>Education</th>\n",
       "      <th>Education_num</th>\n",
       "      <th>Marital_status</th>\n",
       "      <th>Occupation</th>\n",
       "      <th>Relationship</th>\n",
       "      <th>Race</th>\n",
       "      <th>Sex</th>\n",
       "      <th>Capital_gain</th>\n",
       "      <th>Capital_loss</th>\n",
       "      <th>Hours_per_week</th>\n",
       "      <th>Native_country</th>\n",
       "      <th>Income</th>\n",
       "    </tr>\n",
       "  </thead>\n",
       "  <tbody>\n",
       "    <tr>\n",
       "      <th>0</th>\n",
       "      <td>7</td>\n",
       "      <td>1</td>\n",
       "      <td>83311</td>\n",
       "      <td>0</td>\n",
       "      <td>1</td>\n",
       "      <td>1</td>\n",
       "      <td>2</td>\n",
       "      <td>0</td>\n",
       "      <td>1</td>\n",
       "      <td>1</td>\n",
       "      <td>0</td>\n",
       "      <td>0</td>\n",
       "      <td>13</td>\n",
       "      <td>0</td>\n",
       "      <td>0</td>\n",
       "    </tr>\n",
       "    <tr>\n",
       "      <th>1</th>\n",
       "      <td>5</td>\n",
       "      <td>0</td>\n",
       "      <td>215646</td>\n",
       "      <td>1</td>\n",
       "      <td>2</td>\n",
       "      <td>0</td>\n",
       "      <td>5</td>\n",
       "      <td>1</td>\n",
       "      <td>1</td>\n",
       "      <td>1</td>\n",
       "      <td>0</td>\n",
       "      <td>0</td>\n",
       "      <td>40</td>\n",
       "      <td>0</td>\n",
       "      <td>0</td>\n",
       "    </tr>\n",
       "    <tr>\n",
       "      <th>2</th>\n",
       "      <td>8</td>\n",
       "      <td>0</td>\n",
       "      <td>234721</td>\n",
       "      <td>3</td>\n",
       "      <td>3</td>\n",
       "      <td>1</td>\n",
       "      <td>5</td>\n",
       "      <td>0</td>\n",
       "      <td>0</td>\n",
       "      <td>1</td>\n",
       "      <td>0</td>\n",
       "      <td>0</td>\n",
       "      <td>40</td>\n",
       "      <td>0</td>\n",
       "      <td>0</td>\n",
       "    </tr>\n",
       "    <tr>\n",
       "      <th>3</th>\n",
       "      <td>3</td>\n",
       "      <td>0</td>\n",
       "      <td>338409</td>\n",
       "      <td>0</td>\n",
       "      <td>1</td>\n",
       "      <td>1</td>\n",
       "      <td>3</td>\n",
       "      <td>3</td>\n",
       "      <td>0</td>\n",
       "      <td>0</td>\n",
       "      <td>0</td>\n",
       "      <td>0</td>\n",
       "      <td>40</td>\n",
       "      <td>1</td>\n",
       "      <td>0</td>\n",
       "    </tr>\n",
       "    <tr>\n",
       "      <th>4</th>\n",
       "      <td>5</td>\n",
       "      <td>0</td>\n",
       "      <td>284582</td>\n",
       "      <td>3</td>\n",
       "      <td>3</td>\n",
       "      <td>1</td>\n",
       "      <td>2</td>\n",
       "      <td>3</td>\n",
       "      <td>1</td>\n",
       "      <td>0</td>\n",
       "      <td>0</td>\n",
       "      <td>0</td>\n",
       "      <td>40</td>\n",
       "      <td>0</td>\n",
       "      <td>0</td>\n",
       "    </tr>\n",
       "  </tbody>\n",
       "</table>\n",
       "</div>"
      ],
      "text/plain": [
       "   Age  Workclass  Fnlwgt  ...  Hours_per_week  Native_country  Income\n",
       "0    7          1   83311  ...              13               0       0\n",
       "1    5          0  215646  ...              40               0       0\n",
       "2    8          0  234721  ...              40               0       0\n",
       "3    3          0  338409  ...              40               1       0\n",
       "4    5          0  284582  ...              40               0       0\n",
       "\n",
       "[5 rows x 15 columns]"
      ]
     },
     "execution_count": 288,
     "metadata": {},
     "output_type": "execute_result"
    }
   ],
   "source": [
    "data.head()"
   ]
  },
  {
   "cell_type": "code",
   "execution_count": 290,
   "id": "18c22e50",
   "metadata": {},
   "outputs": [
    {
     "data": {
      "text/plain": [
       "Education\n",
       "1    10387\n",
       "2     7217\n",
       "3     6225\n",
       "0     5291\n",
       "4     3093\n",
       "Name: count, dtype: int64"
      ]
     },
     "execution_count": 290,
     "metadata": {},
     "output_type": "execute_result"
    }
   ],
   "source": [
    "data['Education'].value_counts()"
   ]
  },
  {
   "cell_type": "code",
   "execution_count": 291,
   "id": "e57bd44a",
   "metadata": {},
   "outputs": [
    {
     "data": {
      "text/plain": [
       "Education_num\n",
       "2    10387\n",
       "0     7217\n",
       "3     6225\n",
       "1     5291\n",
       "4     3093\n",
       "Name: count, dtype: int64"
      ]
     },
     "execution_count": 291,
     "metadata": {},
     "output_type": "execute_result"
    }
   ],
   "source": [
    "data['Education_num'].value_counts()"
   ]
  },
  {
   "cell_type": "code",
   "execution_count": 292,
   "id": "9e9aeb84",
   "metadata": {},
   "outputs": [],
   "source": [
    "#There two are the same columns so we will drop one of them \n",
    "#We will drop the education num column\n",
    "data=data.drop(columns='Education_num')"
   ]
  },
  {
   "cell_type": "code",
   "execution_count": 293,
   "id": "2cc27666",
   "metadata": {},
   "outputs": [
    {
     "data": {
      "text/html": [
       "<div>\n",
       "<style scoped>\n",
       "    .dataframe tbody tr th:only-of-type {\n",
       "        vertical-align: middle;\n",
       "    }\n",
       "\n",
       "    .dataframe tbody tr th {\n",
       "        vertical-align: top;\n",
       "    }\n",
       "\n",
       "    .dataframe thead th {\n",
       "        text-align: right;\n",
       "    }\n",
       "</style>\n",
       "<table border=\"1\" class=\"dataframe\">\n",
       "  <thead>\n",
       "    <tr style=\"text-align: right;\">\n",
       "      <th></th>\n",
       "      <th>Age</th>\n",
       "      <th>Workclass</th>\n",
       "      <th>Fnlwgt</th>\n",
       "      <th>Education</th>\n",
       "      <th>Marital_status</th>\n",
       "      <th>Occupation</th>\n",
       "      <th>Relationship</th>\n",
       "      <th>Race</th>\n",
       "      <th>Sex</th>\n",
       "      <th>Capital_gain</th>\n",
       "      <th>Capital_loss</th>\n",
       "      <th>Hours_per_week</th>\n",
       "      <th>Native_country</th>\n",
       "      <th>Income</th>\n",
       "    </tr>\n",
       "  </thead>\n",
       "  <tbody>\n",
       "    <tr>\n",
       "      <th>0</th>\n",
       "      <td>7</td>\n",
       "      <td>1</td>\n",
       "      <td>83311</td>\n",
       "      <td>0</td>\n",
       "      <td>1</td>\n",
       "      <td>2</td>\n",
       "      <td>0</td>\n",
       "      <td>1</td>\n",
       "      <td>1</td>\n",
       "      <td>0</td>\n",
       "      <td>0</td>\n",
       "      <td>13</td>\n",
       "      <td>0</td>\n",
       "      <td>0</td>\n",
       "    </tr>\n",
       "    <tr>\n",
       "      <th>1</th>\n",
       "      <td>5</td>\n",
       "      <td>0</td>\n",
       "      <td>215646</td>\n",
       "      <td>1</td>\n",
       "      <td>0</td>\n",
       "      <td>5</td>\n",
       "      <td>1</td>\n",
       "      <td>1</td>\n",
       "      <td>1</td>\n",
       "      <td>0</td>\n",
       "      <td>0</td>\n",
       "      <td>40</td>\n",
       "      <td>0</td>\n",
       "      <td>0</td>\n",
       "    </tr>\n",
       "    <tr>\n",
       "      <th>2</th>\n",
       "      <td>8</td>\n",
       "      <td>0</td>\n",
       "      <td>234721</td>\n",
       "      <td>3</td>\n",
       "      <td>1</td>\n",
       "      <td>5</td>\n",
       "      <td>0</td>\n",
       "      <td>0</td>\n",
       "      <td>1</td>\n",
       "      <td>0</td>\n",
       "      <td>0</td>\n",
       "      <td>40</td>\n",
       "      <td>0</td>\n",
       "      <td>0</td>\n",
       "    </tr>\n",
       "    <tr>\n",
       "      <th>3</th>\n",
       "      <td>3</td>\n",
       "      <td>0</td>\n",
       "      <td>338409</td>\n",
       "      <td>0</td>\n",
       "      <td>1</td>\n",
       "      <td>3</td>\n",
       "      <td>3</td>\n",
       "      <td>0</td>\n",
       "      <td>0</td>\n",
       "      <td>0</td>\n",
       "      <td>0</td>\n",
       "      <td>40</td>\n",
       "      <td>1</td>\n",
       "      <td>0</td>\n",
       "    </tr>\n",
       "    <tr>\n",
       "      <th>4</th>\n",
       "      <td>5</td>\n",
       "      <td>0</td>\n",
       "      <td>284582</td>\n",
       "      <td>3</td>\n",
       "      <td>1</td>\n",
       "      <td>2</td>\n",
       "      <td>3</td>\n",
       "      <td>1</td>\n",
       "      <td>0</td>\n",
       "      <td>0</td>\n",
       "      <td>0</td>\n",
       "      <td>40</td>\n",
       "      <td>0</td>\n",
       "      <td>0</td>\n",
       "    </tr>\n",
       "  </tbody>\n",
       "</table>\n",
       "</div>"
      ],
      "text/plain": [
       "   Age  Workclass  Fnlwgt  ...  Hours_per_week  Native_country  Income\n",
       "0    7          1   83311  ...              13               0       0\n",
       "1    5          0  215646  ...              40               0       0\n",
       "2    8          0  234721  ...              40               0       0\n",
       "3    3          0  338409  ...              40               1       0\n",
       "4    5          0  284582  ...              40               0       0\n",
       "\n",
       "[5 rows x 14 columns]"
      ]
     },
     "execution_count": 293,
     "metadata": {},
     "output_type": "execute_result"
    }
   ],
   "source": [
    "data.head()"
   ]
  },
  {
   "cell_type": "code",
   "execution_count": 294,
   "id": "8583e447",
   "metadata": {},
   "outputs": [
    {
     "data": {
      "text/html": [
       "<div>\n",
       "<style scoped>\n",
       "    .dataframe tbody tr th:only-of-type {\n",
       "        vertical-align: middle;\n",
       "    }\n",
       "\n",
       "    .dataframe tbody tr th {\n",
       "        vertical-align: top;\n",
       "    }\n",
       "\n",
       "    .dataframe thead th {\n",
       "        text-align: right;\n",
       "    }\n",
       "</style>\n",
       "<table border=\"1\" class=\"dataframe\">\n",
       "  <thead>\n",
       "    <tr style=\"text-align: right;\">\n",
       "      <th></th>\n",
       "      <th>Age</th>\n",
       "      <th>Workclass</th>\n",
       "      <th>Fnlwgt</th>\n",
       "      <th>Education</th>\n",
       "      <th>Marital_status</th>\n",
       "      <th>Occupation</th>\n",
       "      <th>Relationship</th>\n",
       "      <th>Race</th>\n",
       "      <th>Sex</th>\n",
       "      <th>Capital_gain</th>\n",
       "      <th>Capital_loss</th>\n",
       "      <th>Hours_per_week</th>\n",
       "      <th>Native_country</th>\n",
       "      <th>Income</th>\n",
       "    </tr>\n",
       "  </thead>\n",
       "  <tbody>\n",
       "    <tr>\n",
       "      <th>0</th>\n",
       "      <td>7</td>\n",
       "      <td>1</td>\n",
       "      <td>83311</td>\n",
       "      <td>0</td>\n",
       "      <td>1</td>\n",
       "      <td>2</td>\n",
       "      <td>0</td>\n",
       "      <td>1</td>\n",
       "      <td>1</td>\n",
       "      <td>0</td>\n",
       "      <td>0</td>\n",
       "      <td>13</td>\n",
       "      <td>0</td>\n",
       "      <td>0</td>\n",
       "    </tr>\n",
       "    <tr>\n",
       "      <th>1</th>\n",
       "      <td>5</td>\n",
       "      <td>0</td>\n",
       "      <td>215646</td>\n",
       "      <td>1</td>\n",
       "      <td>0</td>\n",
       "      <td>5</td>\n",
       "      <td>1</td>\n",
       "      <td>1</td>\n",
       "      <td>1</td>\n",
       "      <td>0</td>\n",
       "      <td>0</td>\n",
       "      <td>40</td>\n",
       "      <td>0</td>\n",
       "      <td>0</td>\n",
       "    </tr>\n",
       "    <tr>\n",
       "      <th>2</th>\n",
       "      <td>8</td>\n",
       "      <td>0</td>\n",
       "      <td>234721</td>\n",
       "      <td>3</td>\n",
       "      <td>1</td>\n",
       "      <td>5</td>\n",
       "      <td>0</td>\n",
       "      <td>0</td>\n",
       "      <td>1</td>\n",
       "      <td>0</td>\n",
       "      <td>0</td>\n",
       "      <td>40</td>\n",
       "      <td>0</td>\n",
       "      <td>0</td>\n",
       "    </tr>\n",
       "    <tr>\n",
       "      <th>3</th>\n",
       "      <td>3</td>\n",
       "      <td>0</td>\n",
       "      <td>338409</td>\n",
       "      <td>0</td>\n",
       "      <td>1</td>\n",
       "      <td>3</td>\n",
       "      <td>3</td>\n",
       "      <td>0</td>\n",
       "      <td>0</td>\n",
       "      <td>0</td>\n",
       "      <td>0</td>\n",
       "      <td>40</td>\n",
       "      <td>1</td>\n",
       "      <td>0</td>\n",
       "    </tr>\n",
       "    <tr>\n",
       "      <th>4</th>\n",
       "      <td>5</td>\n",
       "      <td>0</td>\n",
       "      <td>284582</td>\n",
       "      <td>3</td>\n",
       "      <td>1</td>\n",
       "      <td>2</td>\n",
       "      <td>3</td>\n",
       "      <td>1</td>\n",
       "      <td>0</td>\n",
       "      <td>0</td>\n",
       "      <td>0</td>\n",
       "      <td>40</td>\n",
       "      <td>0</td>\n",
       "      <td>0</td>\n",
       "    </tr>\n",
       "    <tr>\n",
       "      <th>...</th>\n",
       "      <td>...</td>\n",
       "      <td>...</td>\n",
       "      <td>...</td>\n",
       "      <td>...</td>\n",
       "      <td>...</td>\n",
       "      <td>...</td>\n",
       "      <td>...</td>\n",
       "      <td>...</td>\n",
       "      <td>...</td>\n",
       "      <td>...</td>\n",
       "      <td>...</td>\n",
       "      <td>...</td>\n",
       "      <td>...</td>\n",
       "      <td>...</td>\n",
       "    </tr>\n",
       "    <tr>\n",
       "      <th>32208</th>\n",
       "      <td>3</td>\n",
       "      <td>0</td>\n",
       "      <td>257302</td>\n",
       "      <td>3</td>\n",
       "      <td>1</td>\n",
       "      <td>6</td>\n",
       "      <td>3</td>\n",
       "      <td>1</td>\n",
       "      <td>0</td>\n",
       "      <td>0</td>\n",
       "      <td>0</td>\n",
       "      <td>38</td>\n",
       "      <td>0</td>\n",
       "      <td>0</td>\n",
       "    </tr>\n",
       "    <tr>\n",
       "      <th>32209</th>\n",
       "      <td>5</td>\n",
       "      <td>0</td>\n",
       "      <td>154374</td>\n",
       "      <td>1</td>\n",
       "      <td>1</td>\n",
       "      <td>5</td>\n",
       "      <td>0</td>\n",
       "      <td>1</td>\n",
       "      <td>1</td>\n",
       "      <td>0</td>\n",
       "      <td>0</td>\n",
       "      <td>40</td>\n",
       "      <td>0</td>\n",
       "      <td>1</td>\n",
       "    </tr>\n",
       "    <tr>\n",
       "      <th>32210</th>\n",
       "      <td>9</td>\n",
       "      <td>0</td>\n",
       "      <td>151910</td>\n",
       "      <td>1</td>\n",
       "      <td>3</td>\n",
       "      <td>0</td>\n",
       "      <td>3</td>\n",
       "      <td>1</td>\n",
       "      <td>0</td>\n",
       "      <td>0</td>\n",
       "      <td>0</td>\n",
       "      <td>40</td>\n",
       "      <td>0</td>\n",
       "      <td>0</td>\n",
       "    </tr>\n",
       "    <tr>\n",
       "      <th>32211</th>\n",
       "      <td>2</td>\n",
       "      <td>0</td>\n",
       "      <td>201490</td>\n",
       "      <td>1</td>\n",
       "      <td>2</td>\n",
       "      <td>0</td>\n",
       "      <td>2</td>\n",
       "      <td>1</td>\n",
       "      <td>1</td>\n",
       "      <td>0</td>\n",
       "      <td>0</td>\n",
       "      <td>20</td>\n",
       "      <td>0</td>\n",
       "      <td>0</td>\n",
       "    </tr>\n",
       "    <tr>\n",
       "      <th>32212</th>\n",
       "      <td>8</td>\n",
       "      <td>1</td>\n",
       "      <td>287927</td>\n",
       "      <td>1</td>\n",
       "      <td>1</td>\n",
       "      <td>2</td>\n",
       "      <td>3</td>\n",
       "      <td>1</td>\n",
       "      <td>0</td>\n",
       "      <td>1</td>\n",
       "      <td>0</td>\n",
       "      <td>40</td>\n",
       "      <td>0</td>\n",
       "      <td>1</td>\n",
       "    </tr>\n",
       "  </tbody>\n",
       "</table>\n",
       "<p>32213 rows × 14 columns</p>\n",
       "</div>"
      ],
      "text/plain": [
       "       Age  Workclass  Fnlwgt  ...  Hours_per_week  Native_country  Income\n",
       "0        7          1   83311  ...              13               0       0\n",
       "1        5          0  215646  ...              40               0       0\n",
       "2        8          0  234721  ...              40               0       0\n",
       "3        3          0  338409  ...              40               1       0\n",
       "4        5          0  284582  ...              40               0       0\n",
       "...    ...        ...     ...  ...             ...             ...     ...\n",
       "32208    3          0  257302  ...              38               0       0\n",
       "32209    5          0  154374  ...              40               0       1\n",
       "32210    9          0  151910  ...              40               0       0\n",
       "32211    2          0  201490  ...              20               0       0\n",
       "32212    8          1  287927  ...              40               0       1\n",
       "\n",
       "[32213 rows x 14 columns]"
      ]
     },
     "execution_count": 294,
     "metadata": {},
     "output_type": "execute_result"
    }
   ],
   "source": [
    "data"
   ]
  },
  {
   "cell_type": "markdown",
   "id": "a260e700",
   "metadata": {},
   "source": [
    "All the columns except the fnlwgt are categorical so no need to check the correlation or the covariance or the variance inflation factor or anything as such. \n",
    "So we will proceed to the model   building."
   ]
  },
  {
   "cell_type": "markdown",
   "id": "68f58d1a",
   "metadata": {},
   "source": [
    "#One thing to be noted here is that i have encoded using the label encoder because this is a classification task and in this the \n",
    "tree based models work the best most times and they do not have any issue with the ordinal relation the label encoder does in the columns. So we will use the label encocoder if it gives a good result than good otherwise we can use the one hot encoder also."
   ]
  },
  {
   "cell_type": "markdown",
   "id": "ee8d75c0",
   "metadata": {},
   "source": [
    "#We have to standardize the fnlweight column as this is the only columns with continous attributes \n",
    "The categorical attributes do not need any standardization."
   ]
  },
  {
   "cell_type": "code",
   "execution_count": 295,
   "id": "5657c265",
   "metadata": {},
   "outputs": [],
   "source": [
    "from sklearn.preprocessing import StandardScaler"
   ]
  },
  {
   "cell_type": "code",
   "execution_count": 296,
   "id": "89dbe77f",
   "metadata": {},
   "outputs": [],
   "source": [
    "data_copy=data.copy()"
   ]
  },
  {
   "cell_type": "code",
   "execution_count": 301,
   "id": "c71b55ca",
   "metadata": {},
   "outputs": [],
   "source": [
    "data['Fnlwgt']=StandardScaler().fit_transform(data[['Fnlwgt']])"
   ]
  },
  {
   "cell_type": "code",
   "execution_count": 303,
   "id": "e7e731de",
   "metadata": {},
   "outputs": [],
   "source": [
    "x=data.drop(columns='Income')\n",
    "y=data['Income']"
   ]
  },
  {
   "cell_type": "code",
   "execution_count": 306,
   "id": "1af51141",
   "metadata": {},
   "outputs": [],
   "source": [
    "#now let us import the libraries to make our model\n",
    "from sklearn.model_selection import train_test_split,cross_val_score\n",
    "from sklearn.metrics import accuracy_score,classification_report\n",
    "from sklearn.ensemble import RandomForestClassifier,ExtraTreesClassifier\n",
    "from sklearn.linear_model import LogisticRegression\n",
    "from sklearn.svm import SVC\n",
    "from sklearn.tree import DecisionTreeClassifier\n",
    "from sklearn.ensemble import GradientBoostingClassifier,AdaBoostClassifier,BaggingClassifier\n",
    "from sklearn.metrics import accuracy_score,roc_curve,roc_auc_score,classification_report,confusion_matrix\n",
    "from sklearn.model_selection import cross_val_score  \n",
    "from sklearn.neighbors import KNeighborsClassifier\n",
    "from sklearn.metrics import accuracy_score,classification_report"
   ]
  },
  {
   "cell_type": "code",
   "execution_count": 309,
   "id": "4b172b06",
   "metadata": {},
   "outputs": [
    {
     "name": "stdout",
     "output_type": "stream",
     "text": [
      "0.8017134343183512 68\n"
     ]
    }
   ],
   "source": [
    "# we will use the logisticregression to check the best random state\n",
    "maxACC=0\n",
    "maxrs=0\n",
    "for i in range(1,200):\n",
    "    lr=LogisticRegression()\n",
    "    x_train,x_test,y_train,y_test=train_test_split(x,y,test_size=0.25,random_state=i)\n",
    "    lr.fit(x_train,y_train)\n",
    "    pred=lr.predict(x_test)\n",
    "    acc=accuracy_score(y_test,pred)\n",
    "    if acc>maxACC:\n",
    "        maxACC=acc\n",
    "        maxrs=i\n",
    "print(maxACC,maxrs)"
   ]
  },
  {
   "cell_type": "code",
   "execution_count": 310,
   "id": "939a3a9f",
   "metadata": {},
   "outputs": [],
   "source": [
    "x_train,x_test,y_train,y_test=train_test_split(x,y,test_size=0.25,random_state=maxrs)"
   ]
  },
  {
   "cell_type": "code",
   "execution_count": 311,
   "id": "45d10a62",
   "metadata": {},
   "outputs": [],
   "source": [
    "rfc=RandomForestClassifier()\n",
    "et=ExtraTreesClassifier()\n",
    "lg=LogisticRegression()\n",
    "sv=SVC()\n",
    "dc=DecisionTreeClassifier()\n",
    "gbdt=GradientBoostingClassifier()\n",
    "abc=AdaBoostClassifier()\n",
    "bc=BaggingClassifier()\n",
    "knn=KNeighborsClassifier()"
   ]
  },
  {
   "cell_type": "code",
   "execution_count": 312,
   "id": "11c23739",
   "metadata": {},
   "outputs": [],
   "source": [
    "models=[rfc,et,lg,sv,dc,gbdt,abc,bc]"
   ]
  },
  {
   "cell_type": "markdown",
   "id": "e649315e",
   "metadata": {},
   "source": [
    "We know that the logistic regression did not had a good accuracy but nothing to worry because we tested it on logictic regressio  just to get the  besr random state and nothing more than that. The  linear models are very higly effected by the ordinal relation of the columns so that is why there is no worry here. The tree based model will surely give us a good accuracy for sure."
   ]
  },
  {
   "cell_type": "code",
   "execution_count": 313,
   "id": "9034b79e",
   "metadata": {},
   "outputs": [
    {
     "name": "stdout",
     "output_type": "stream",
     "text": [
      "RandomForestClassifier()    0.8253041966724609\n",
      "ExtraTreesClassifier()    0.813508815495406\n",
      "LogisticRegression()    0.8017134343183512\n",
      "SVC()    0.7736528433076733\n",
      "DecisionTreeClassifier()    0.7809783958281599\n",
      "GradientBoostingClassifier()    0.8452942637198907\n",
      "AdaBoostClassifier()    0.8375962254780234\n",
      "BaggingClassifier()    0.8194685870374969\n"
     ]
    }
   ],
   "source": [
    "for i in models:\n",
    "    i.fit(x_train,y_train)\n",
    "    pred=i.predict(x_test)\n",
    "    print(i,'  ', accuracy_score(y_test,pred))"
   ]
  },
  {
   "cell_type": "code",
   "execution_count": 314,
   "id": "73310a1f",
   "metadata": {},
   "outputs": [
    {
     "name": "stdout",
     "output_type": "stream",
     "text": [
      "RandomForestClassifier()    0.8237979525081384\n",
      "ExtraTreesClassifier()    0.8122497320013494\n",
      "LogisticRegression()    0.7915436842739544\n",
      "SVC()    0.7735386225242801\n",
      "DecisionTreeClassifier()    0.7769222888961607\n",
      "GradientBoostingClassifier()    0.8410271420822426\n",
      "AdaBoostClassifier()    0.8343527987385668\n",
      "BaggingClassifier()    0.81386397363299\n"
     ]
    }
   ],
   "source": [
    "#Let us see what happens after cross validation\n",
    "from sklearn.model_selection import cross_val_score\n",
    "for i in models:\n",
    "    print(i, '  ',cross_val_score(i,x,y,cv=5).mean())"
   ]
  },
  {
   "cell_type": "markdown",
   "id": "dfa89196",
   "metadata": {},
   "source": [
    "The gradient boost has the best accuracy so let us do the tuning for this now"
   ]
  },
  {
   "cell_type": "code",
   "execution_count": 321,
   "id": "d03f19e9",
   "metadata": {},
   "outputs": [
    {
     "name": "stdout",
     "output_type": "stream",
     "text": [
      "{'learning_rate': 0.1, 'max_depth': 5, 'min_samples_leaf': 2, 'min_samples_split': 2, 'n_estimators': 100, 'subsample': 0.8}\n"
     ]
    }
   ],
   "source": [
    "#Gradient boosting\n",
    "from sklearn.model_selection import GridSearchCV\n",
    "param_grid = {\n",
    "    'n_estimators': [50, 100],\n",
    "    'learning_rate': [0.01, 0.1],\n",
    "    'max_depth': [ 5,7],\n",
    "    'min_samples_split': [2, 5],\n",
    "    'min_samples_leaf': [2, 4],\n",
    "    'subsample': [0.8, 0.9]\n",
    "}\n",
    "grid_search = GridSearchCV(estimator=GradientBoostingClassifier(), param_grid=param_grid, cv=5, n_jobs=-1)\n",
    "grid_search.fit(x,y)\n",
    "print(grid_search.best_params_)"
   ]
  },
  {
   "cell_type": "code",
   "execution_count": 322,
   "id": "d5f789cb",
   "metadata": {},
   "outputs": [],
   "source": [
    "model=GradientBoostingClassifier(learning_rate=0.1,max_depth=5,min_samples_leaf=2,\n",
    "                                min_samples_split=2,n_estimators=100,subsample=0.8)"
   ]
  },
  {
   "cell_type": "code",
   "execution_count": 323,
   "id": "916f1e39",
   "metadata": {},
   "outputs": [
    {
     "data": {
      "text/html": [
       "<style>#sk-container-id-1 {color: black;}#sk-container-id-1 pre{padding: 0;}#sk-container-id-1 div.sk-toggleable {background-color: white;}#sk-container-id-1 label.sk-toggleable__label {cursor: pointer;display: block;width: 100%;margin-bottom: 0;padding: 0.3em;box-sizing: border-box;text-align: center;}#sk-container-id-1 label.sk-toggleable__label-arrow:before {content: \"▸\";float: left;margin-right: 0.25em;color: #696969;}#sk-container-id-1 label.sk-toggleable__label-arrow:hover:before {color: black;}#sk-container-id-1 div.sk-estimator:hover label.sk-toggleable__label-arrow:before {color: black;}#sk-container-id-1 div.sk-toggleable__content {max-height: 0;max-width: 0;overflow: hidden;text-align: left;background-color: #f0f8ff;}#sk-container-id-1 div.sk-toggleable__content pre {margin: 0.2em;color: black;border-radius: 0.25em;background-color: #f0f8ff;}#sk-container-id-1 input.sk-toggleable__control:checked~div.sk-toggleable__content {max-height: 200px;max-width: 100%;overflow: auto;}#sk-container-id-1 input.sk-toggleable__control:checked~label.sk-toggleable__label-arrow:before {content: \"▾\";}#sk-container-id-1 div.sk-estimator input.sk-toggleable__control:checked~label.sk-toggleable__label {background-color: #d4ebff;}#sk-container-id-1 div.sk-label input.sk-toggleable__control:checked~label.sk-toggleable__label {background-color: #d4ebff;}#sk-container-id-1 input.sk-hidden--visually {border: 0;clip: rect(1px 1px 1px 1px);clip: rect(1px, 1px, 1px, 1px);height: 1px;margin: -1px;overflow: hidden;padding: 0;position: absolute;width: 1px;}#sk-container-id-1 div.sk-estimator {font-family: monospace;background-color: #f0f8ff;border: 1px dotted black;border-radius: 0.25em;box-sizing: border-box;margin-bottom: 0.5em;}#sk-container-id-1 div.sk-estimator:hover {background-color: #d4ebff;}#sk-container-id-1 div.sk-parallel-item::after {content: \"\";width: 100%;border-bottom: 1px solid gray;flex-grow: 1;}#sk-container-id-1 div.sk-label:hover label.sk-toggleable__label {background-color: #d4ebff;}#sk-container-id-1 div.sk-serial::before {content: \"\";position: absolute;border-left: 1px solid gray;box-sizing: border-box;top: 0;bottom: 0;left: 50%;z-index: 0;}#sk-container-id-1 div.sk-serial {display: flex;flex-direction: column;align-items: center;background-color: white;padding-right: 0.2em;padding-left: 0.2em;position: relative;}#sk-container-id-1 div.sk-item {position: relative;z-index: 1;}#sk-container-id-1 div.sk-parallel {display: flex;align-items: stretch;justify-content: center;background-color: white;position: relative;}#sk-container-id-1 div.sk-item::before, #sk-container-id-1 div.sk-parallel-item::before {content: \"\";position: absolute;border-left: 1px solid gray;box-sizing: border-box;top: 0;bottom: 0;left: 50%;z-index: -1;}#sk-container-id-1 div.sk-parallel-item {display: flex;flex-direction: column;z-index: 1;position: relative;background-color: white;}#sk-container-id-1 div.sk-parallel-item:first-child::after {align-self: flex-end;width: 50%;}#sk-container-id-1 div.sk-parallel-item:last-child::after {align-self: flex-start;width: 50%;}#sk-container-id-1 div.sk-parallel-item:only-child::after {width: 0;}#sk-container-id-1 div.sk-dashed-wrapped {border: 1px dashed gray;margin: 0 0.4em 0.5em 0.4em;box-sizing: border-box;padding-bottom: 0.4em;background-color: white;}#sk-container-id-1 div.sk-label label {font-family: monospace;font-weight: bold;display: inline-block;line-height: 1.2em;}#sk-container-id-1 div.sk-label-container {text-align: center;}#sk-container-id-1 div.sk-container {/* jupyter's `normalize.less` sets `[hidden] { display: none; }` but bootstrap.min.css set `[hidden] { display: none !important; }` so we also need the `!important` here to be able to override the default hidden behavior on the sphinx rendered scikit-learn.org. See: https://github.com/scikit-learn/scikit-learn/issues/21755 */display: inline-block !important;position: relative;}#sk-container-id-1 div.sk-text-repr-fallback {display: none;}</style><div id=\"sk-container-id-1\" class=\"sk-top-container\"><div class=\"sk-text-repr-fallback\"><pre>GradientBoostingClassifier(max_depth=5, min_samples_leaf=2, subsample=0.8)</pre><b>In a Jupyter environment, please rerun this cell to show the HTML representation or trust the notebook. <br />On GitHub, the HTML representation is unable to render, please try loading this page with nbviewer.org.</b></div><div class=\"sk-container\" hidden><div class=\"sk-item\"><div class=\"sk-estimator sk-toggleable\"><input class=\"sk-toggleable__control sk-hidden--visually\" id=\"sk-estimator-id-1\" type=\"checkbox\" checked><label for=\"sk-estimator-id-1\" class=\"sk-toggleable__label sk-toggleable__label-arrow\">GradientBoostingClassifier</label><div class=\"sk-toggleable__content\"><pre>GradientBoostingClassifier(max_depth=5, min_samples_leaf=2, subsample=0.8)</pre></div></div></div></div></div>"
      ],
      "text/plain": [
       "GradientBoostingClassifier(max_depth=5, min_samples_leaf=2, subsample=0.8)"
      ]
     },
     "execution_count": 323,
     "metadata": {},
     "output_type": "execute_result"
    }
   ],
   "source": [
    "model.fit(x_train,y_train)"
   ]
  },
  {
   "cell_type": "code",
   "execution_count": 324,
   "id": "5fe99fa9",
   "metadata": {},
   "outputs": [],
   "source": [
    "pred=model.predict(x_test)"
   ]
  },
  {
   "cell_type": "code",
   "execution_count": 325,
   "id": "ebfcfa49",
   "metadata": {},
   "outputs": [
    {
     "data": {
      "text/plain": [
       "0.8426868636702259"
      ]
     },
     "execution_count": 325,
     "metadata": {},
     "output_type": "execute_result"
    }
   ],
   "source": [
    "accuracy_score(y_test,pred)"
   ]
  },
  {
   "cell_type": "code",
   "execution_count": 326,
   "id": "07e3f7b1",
   "metadata": {},
   "outputs": [
    {
     "data": {
      "text/plain": [
       "['model.PKL']"
      ]
     },
     "execution_count": 326,
     "metadata": {},
     "output_type": "execute_result"
    }
   ],
   "source": [
    "import joblib\n",
    "joblib.dump(model,'model.PKL')"
   ]
  },
  {
   "cell_type": "markdown",
   "id": "b7075dec",
   "metadata": {},
   "source": [
    "So the gradient boost has been the best model with an accuracy score of 0.842"
   ]
  },
  {
   "cell_type": "code",
   "execution_count": 328,
   "id": "f71ae7a1",
   "metadata": {},
   "outputs": [
    {
     "data": {
      "text/plain": [
       "0.8581894945982863"
      ]
     },
     "execution_count": 328,
     "metadata": {},
     "output_type": "execute_result"
    }
   ],
   "source": [
    "accuracy_score(y_train,model.predict(x_train))"
   ]
  },
  {
   "cell_type": "markdown",
   "id": "46db1339",
   "metadata": {},
   "source": [
    "#No overfitting in the model also"
   ]
  },
  {
   "cell_type": "markdown",
   "id": "ad4997e5",
   "metadata": {},
   "source": [
    "Conclusions-\n",
    "1.-There were 15 columns in the dataset and two columns the education and the education no were exactly the same that is why\n",
    "   what we did is we deleted the education no from the dataset. And apart from this there is no other column with\n",
    "   multicollinearity issues. So rest all the column were as it is\n",
    "2.-All the models were having an accuracy in a similar range at first.The randomforest, gradientboost and the adaboost were the \n",
    "   best models with the best accuracy among all. The gradient boost had the highest accuracy of 0.85\n",
    "3.-After that we did the tuning of the gradientboost models as it had the best accuaracy and after the tuning it had a accuracy\n",
    "   of 0.85 and the train accuracy was also moreover the same. So this model is also not overfitted and can be generalized as\n",
    "   well"
   ]
  },
  {
   "cell_type": "code",
   "execution_count": 5,
   "id": "2124ad4f",
   "metadata": {},
   "outputs": [
    {
     "name": "stdout",
     "output_type": "stream",
     "text": [
      "****************************************************************************************************\n",
      "                                         THANKS\n",
      "****************************************************************************************************\n"
     ]
    }
   ],
   "source": [
    "print('*'*100)\n",
    "print('                                         THANKS')\n",
    "print('*'*100)"
   ]
  }
 ],
 "metadata": {
  "kernelspec": {
   "display_name": "Python 3 (ipykernel)",
   "language": "python",
   "name": "python3"
  },
  "language_info": {
   "codemirror_mode": {
    "name": "ipython",
    "version": 3
   },
   "file_extension": ".py",
   "mimetype": "text/x-python",
   "name": "python",
   "nbconvert_exporter": "python",
   "pygments_lexer": "ipython3",
   "version": "3.11.5"
  }
 },
 "nbformat": 4,
 "nbformat_minor": 5
}
